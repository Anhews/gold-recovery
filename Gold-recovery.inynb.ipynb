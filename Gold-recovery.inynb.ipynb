{
 "cells": [
  {
   "cell_type": "markdown",
   "metadata": {
    "toc": true
   },
   "source": [
    "<h1>Содержание<span class=\"tocSkip\"></span></h1>\n",
    "<div class=\"toc\"><ul class=\"toc-item\"><li><span><a href=\"#Подготовка-данных\" data-toc-modified-id=\"Подготовка-данных-1\"><span class=\"toc-item-num\">1&nbsp;&nbsp;</span>Подготовка данных</a></span></li><li><span><a href=\"#Анализ-данных\" data-toc-modified-id=\"Анализ-данных-2\"><span class=\"toc-item-num\">2&nbsp;&nbsp;</span>Анализ данных</a></span><ul class=\"toc-item\"><li><span><a href=\"#Концентрация-металлов-(Au,-Ag,-Pb)-на-различных-этапах-очистки\" data-toc-modified-id=\"Концентрация-металлов-(Au,-Ag,-Pb)-на-различных-этапах-очистки-2.1\"><span class=\"toc-item-num\">2.1&nbsp;&nbsp;</span>Концентрация металлов (Au, Ag, Pb) на различных этапах очистки</a></span></li><li><span><a href=\"#Распределения-размеров-гранул-на-обучающей-и-тестовой-выборках\" data-toc-modified-id=\"Распределения-размеров-гранул-на-обучающей-и-тестовой-выборках-2.2\"><span class=\"toc-item-num\">2.2&nbsp;&nbsp;</span>Распределения размеров гранул на обучающей и тестовой выборках</a></span></li><li><span><a href=\"#Cуммарная-концентрация-всех-веществ-на-разных-стадиях\" data-toc-modified-id=\"Cуммарная-концентрация-всех-веществ-на-разных-стадиях-2.3\"><span class=\"toc-item-num\">2.3&nbsp;&nbsp;</span>Cуммарная концентрация всех веществ на разных стадиях</a></span></li></ul></li><li><span><a href=\"#Модель\" data-toc-modified-id=\"Модель-3\"><span class=\"toc-item-num\">3&nbsp;&nbsp;</span>Модель</a></span></li></ul></div>"
   ]
  },
  {
   "cell_type": "markdown",
   "metadata": {},
   "source": [
    "# Восстановление золота из руды"
   ]
  },
  {
   "cell_type": "markdown",
   "metadata": {},
   "source": [
    "**Задача:**\n",
    "\n",
    "Подготовить прототип модели машинного обучения для «Цифры». Компания разрабатывает решения для эффективной работы промышленных предприятий.\n",
    "\n",
    "Модель должна предсказать коэффициент восстановления золота из золотосодержащей руды. Модель поможет оптимизировать производство, чтобы не запускать предприятие с убыточными характеристиками.\n",
    "\n",
    "**Этапы работ:**\n",
    "1. Подготовка данных.\n",
    "2. Исследовательский анализ данных.\n",
    "3. Построение и обучение модели.\n",
    "\n",
    "**Описание данных:**\n",
    "\n",
    "*Технологический процесс*\n",
    "\n",
    "**Rougher feed** — исходное сырье\n",
    "**Rougher additions (или reagent additions)** — флотационные реагенты: Xanthate, Sulphate, Depressant\n",
    "- Xanthate — ксантогенат (промотер, или активатор флотации);\n",
    "- Sulphate — сульфат (на данном производстве сульфид натрия);\n",
    "- Depressant — депрессант (силикат натрия).\n",
    "**Rougher process (англ. «грубый процесс»)** — флотация\n",
    "**Rougher tails** — отвальные хвосты\n",
    "**Float banks** — флотационная установка\n",
    "**Cleaner process** — очистка\n",
    "**Rougher Au** — черновой концентрат золота\n",
    "**Final Au** — финальный концентрат золота\n",
    "\n",
    "Параметры этапов\n",
    "\n",
    "**air amount** — объём воздуха\n",
    "**fluid levels** — уровень жидкости\n",
    "**feed size** — размер гранул сырья\n",
    "**feed rate** — скорость подачи\n",
    "\n",
    "Наименование признаков: [этап].[тип_параметра].[название_параметра]\n",
    "\n",
    "Значения для блока [этап]:\n",
    "\n",
    "- rougher — флотация\n",
    "- primary_cleaner — первичная очистка\n",
    "- secondary_cleaner — вторичная очистка\n",
    "- final — финальные характеристики\n",
    "\n",
    "Значения для блока [тип_параметра]:\n",
    "\n",
    "- input — параметры сырья\n",
    "- output — параметры продукта\n",
    "- state — параметры, характеризующие текущее состояние этапа\n",
    "- calculation — расчётные характеристики.\n",
    "\n",
    "Данные находятся в трёх файлах:\n",
    "\n",
    "- gold_recovery_train_new.csv — обучающая выборка;\n",
    "- gold_recovery_test_new.csv — тестовая выборка;\n",
    "- gold_recovery_full_new.csv — исходные данные."
   ]
  },
  {
   "cell_type": "markdown",
   "metadata": {},
   "source": [
    "## Подготовка данных"
   ]
  },
  {
   "cell_type": "code",
   "execution_count": 1,
   "metadata": {},
   "outputs": [],
   "source": [
    "# Загрузим библиотеки\n",
    "import pandas as pd\n",
    "import numpy as np \n",
    "import matplotlib.pyplot as plt\n",
    "import seaborn as sns\n",
    "from sklearn.model_selection import train_test_split\n",
    "from sklearn.linear_model import LinearRegression\n",
    "from sklearn.model_selection import cross_val_score\n",
    "from sklearn.tree import DecisionTreeRegressor\n",
    "from sklearn.ensemble import RandomForestRegressor\n",
    "from sklearn.metrics import make_scorer\n",
    "from sklearn.metrics import mean_absolute_error\n",
    "from sklearn.dummy import DummyRegressor\n",
    "from IPython.display import display"
   ]
  },
  {
   "cell_type": "code",
   "execution_count": 2,
   "metadata": {},
   "outputs": [],
   "source": [
    "# Откроем и изучим данные.\n",
    "\n",
    "data_train=pd.read_csv('/datasets/gold_recovery_train_new.csv')\n",
    "data_test=pd.read_csv('/datasets/gold_recovery_test_new.csv')\n",
    "data_full=pd.read_csv('/datasets/gold_recovery_full_new.csv')"
   ]
  },
  {
   "cell_type": "code",
   "execution_count": 3,
   "metadata": {},
   "outputs": [
    {
     "name": "stdout",
     "output_type": "stream",
     "text": [
      "<class 'pandas.core.frame.DataFrame'>\n",
      "RangeIndex: 14149 entries, 0 to 14148\n",
      "Data columns (total 87 columns):\n",
      " #   Column                                              Non-Null Count  Dtype  \n",
      "---  ------                                              --------------  -----  \n",
      " 0   date                                                14149 non-null  object \n",
      " 1   final.output.concentrate_ag                         14148 non-null  float64\n",
      " 2   final.output.concentrate_pb                         14148 non-null  float64\n",
      " 3   final.output.concentrate_sol                        13938 non-null  float64\n",
      " 4   final.output.concentrate_au                         14149 non-null  float64\n",
      " 5   final.output.recovery                               14149 non-null  float64\n",
      " 6   final.output.tail_ag                                14149 non-null  float64\n",
      " 7   final.output.tail_pb                                14049 non-null  float64\n",
      " 8   final.output.tail_sol                               14144 non-null  float64\n",
      " 9   final.output.tail_au                                14149 non-null  float64\n",
      " 10  primary_cleaner.input.sulfate                       14129 non-null  float64\n",
      " 11  primary_cleaner.input.depressant                    14117 non-null  float64\n",
      " 12  primary_cleaner.input.feed_size                     14149 non-null  float64\n",
      " 13  primary_cleaner.input.xanthate                      14049 non-null  float64\n",
      " 14  primary_cleaner.output.concentrate_ag               14149 non-null  float64\n",
      " 15  primary_cleaner.output.concentrate_pb               14063 non-null  float64\n",
      " 16  primary_cleaner.output.concentrate_sol              13863 non-null  float64\n",
      " 17  primary_cleaner.output.concentrate_au               14149 non-null  float64\n",
      " 18  primary_cleaner.output.tail_ag                      14148 non-null  float64\n",
      " 19  primary_cleaner.output.tail_pb                      14134 non-null  float64\n",
      " 20  primary_cleaner.output.tail_sol                     14103 non-null  float64\n",
      " 21  primary_cleaner.output.tail_au                      14149 non-null  float64\n",
      " 22  primary_cleaner.state.floatbank8_a_air              14145 non-null  float64\n",
      " 23  primary_cleaner.state.floatbank8_a_level            14148 non-null  float64\n",
      " 24  primary_cleaner.state.floatbank8_b_air              14145 non-null  float64\n",
      " 25  primary_cleaner.state.floatbank8_b_level            14148 non-null  float64\n",
      " 26  primary_cleaner.state.floatbank8_c_air              14147 non-null  float64\n",
      " 27  primary_cleaner.state.floatbank8_c_level            14148 non-null  float64\n",
      " 28  primary_cleaner.state.floatbank8_d_air              14146 non-null  float64\n",
      " 29  primary_cleaner.state.floatbank8_d_level            14148 non-null  float64\n",
      " 30  rougher.calculation.sulfate_to_au_concentrate       14148 non-null  float64\n",
      " 31  rougher.calculation.floatbank10_sulfate_to_au_feed  14148 non-null  float64\n",
      " 32  rougher.calculation.floatbank11_sulfate_to_au_feed  14148 non-null  float64\n",
      " 33  rougher.calculation.au_pb_ratio                     14149 non-null  float64\n",
      " 34  rougher.input.feed_ag                               14149 non-null  float64\n",
      " 35  rougher.input.feed_pb                               14049 non-null  float64\n",
      " 36  rougher.input.feed_rate                             14141 non-null  float64\n",
      " 37  rougher.input.feed_size                             14005 non-null  float64\n",
      " 38  rougher.input.feed_sol                              14071 non-null  float64\n",
      " 39  rougher.input.feed_au                               14149 non-null  float64\n",
      " 40  rougher.input.floatbank10_sulfate                   14120 non-null  float64\n",
      " 41  rougher.input.floatbank10_xanthate                  14141 non-null  float64\n",
      " 42  rougher.input.floatbank11_sulfate                   14113 non-null  float64\n",
      " 43  rougher.input.floatbank11_xanthate                  13721 non-null  float64\n",
      " 44  rougher.output.concentrate_ag                       14149 non-null  float64\n",
      " 45  rougher.output.concentrate_pb                       14149 non-null  float64\n",
      " 46  rougher.output.concentrate_sol                      14127 non-null  float64\n",
      " 47  rougher.output.concentrate_au                       14149 non-null  float64\n",
      " 48  rougher.output.recovery                             14149 non-null  float64\n",
      " 49  rougher.output.tail_ag                              14148 non-null  float64\n",
      " 50  rougher.output.tail_pb                              14149 non-null  float64\n",
      " 51  rougher.output.tail_sol                             14149 non-null  float64\n",
      " 52  rougher.output.tail_au                              14149 non-null  float64\n",
      " 53  rougher.state.floatbank10_a_air                     14148 non-null  float64\n",
      " 54  rougher.state.floatbank10_a_level                   14148 non-null  float64\n",
      " 55  rougher.state.floatbank10_b_air                     14148 non-null  float64\n",
      " 56  rougher.state.floatbank10_b_level                   14148 non-null  float64\n",
      " 57  rougher.state.floatbank10_c_air                     14148 non-null  float64\n",
      " 58  rougher.state.floatbank10_c_level                   14148 non-null  float64\n",
      " 59  rougher.state.floatbank10_d_air                     14149 non-null  float64\n",
      " 60  rougher.state.floatbank10_d_level                   14149 non-null  float64\n",
      " 61  rougher.state.floatbank10_e_air                     13713 non-null  float64\n",
      " 62  rougher.state.floatbank10_e_level                   14149 non-null  float64\n",
      " 63  rougher.state.floatbank10_f_air                     14149 non-null  float64\n",
      " 64  rougher.state.floatbank10_f_level                   14149 non-null  float64\n",
      " 65  secondary_cleaner.output.tail_ag                    14147 non-null  float64\n",
      " 66  secondary_cleaner.output.tail_pb                    14139 non-null  float64\n",
      " 67  secondary_cleaner.output.tail_sol                   12544 non-null  float64\n",
      " 68  secondary_cleaner.output.tail_au                    14149 non-null  float64\n",
      " 69  secondary_cleaner.state.floatbank2_a_air            13932 non-null  float64\n",
      " 70  secondary_cleaner.state.floatbank2_a_level          14148 non-null  float64\n",
      " 71  secondary_cleaner.state.floatbank2_b_air            14128 non-null  float64\n",
      " 72  secondary_cleaner.state.floatbank2_b_level          14148 non-null  float64\n",
      " 73  secondary_cleaner.state.floatbank3_a_air            14145 non-null  float64\n",
      " 74  secondary_cleaner.state.floatbank3_a_level          14148 non-null  float64\n",
      " 75  secondary_cleaner.state.floatbank3_b_air            14148 non-null  float64\n",
      " 76  secondary_cleaner.state.floatbank3_b_level          14148 non-null  float64\n",
      " 77  secondary_cleaner.state.floatbank4_a_air            14143 non-null  float64\n",
      " 78  secondary_cleaner.state.floatbank4_a_level          14148 non-null  float64\n",
      " 79  secondary_cleaner.state.floatbank4_b_air            14148 non-null  float64\n",
      " 80  secondary_cleaner.state.floatbank4_b_level          14148 non-null  float64\n",
      " 81  secondary_cleaner.state.floatbank5_a_air            14148 non-null  float64\n",
      " 82  secondary_cleaner.state.floatbank5_a_level          14148 non-null  float64\n",
      " 83  secondary_cleaner.state.floatbank5_b_air            14148 non-null  float64\n",
      " 84  secondary_cleaner.state.floatbank5_b_level          14148 non-null  float64\n",
      " 85  secondary_cleaner.state.floatbank6_a_air            14147 non-null  float64\n",
      " 86  secondary_cleaner.state.floatbank6_a_level          14148 non-null  float64\n",
      "dtypes: float64(86), object(1)\n",
      "memory usage: 9.4+ MB\n",
      "<class 'pandas.core.frame.DataFrame'>\n",
      "RangeIndex: 5290 entries, 0 to 5289\n",
      "Data columns (total 53 columns):\n",
      " #   Column                                      Non-Null Count  Dtype  \n",
      "---  ------                                      --------------  -----  \n",
      " 0   date                                        5290 non-null   object \n",
      " 1   primary_cleaner.input.sulfate               5286 non-null   float64\n",
      " 2   primary_cleaner.input.depressant            5285 non-null   float64\n",
      " 3   primary_cleaner.input.feed_size             5290 non-null   float64\n",
      " 4   primary_cleaner.input.xanthate              5286 non-null   float64\n",
      " 5   primary_cleaner.state.floatbank8_a_air      5290 non-null   float64\n",
      " 6   primary_cleaner.state.floatbank8_a_level    5290 non-null   float64\n",
      " 7   primary_cleaner.state.floatbank8_b_air      5290 non-null   float64\n",
      " 8   primary_cleaner.state.floatbank8_b_level    5290 non-null   float64\n",
      " 9   primary_cleaner.state.floatbank8_c_air      5290 non-null   float64\n",
      " 10  primary_cleaner.state.floatbank8_c_level    5290 non-null   float64\n",
      " 11  primary_cleaner.state.floatbank8_d_air      5290 non-null   float64\n",
      " 12  primary_cleaner.state.floatbank8_d_level    5290 non-null   float64\n",
      " 13  rougher.input.feed_ag                       5290 non-null   float64\n",
      " 14  rougher.input.feed_pb                       5290 non-null   float64\n",
      " 15  rougher.input.feed_rate                     5287 non-null   float64\n",
      " 16  rougher.input.feed_size                     5289 non-null   float64\n",
      " 17  rougher.input.feed_sol                      5269 non-null   float64\n",
      " 18  rougher.input.feed_au                       5290 non-null   float64\n",
      " 19  rougher.input.floatbank10_sulfate           5285 non-null   float64\n",
      " 20  rougher.input.floatbank10_xanthate          5290 non-null   float64\n",
      " 21  rougher.input.floatbank11_sulfate           5282 non-null   float64\n",
      " 22  rougher.input.floatbank11_xanthate          5265 non-null   float64\n",
      " 23  rougher.state.floatbank10_a_air             5290 non-null   float64\n",
      " 24  rougher.state.floatbank10_a_level           5290 non-null   float64\n",
      " 25  rougher.state.floatbank10_b_air             5290 non-null   float64\n",
      " 26  rougher.state.floatbank10_b_level           5290 non-null   float64\n",
      " 27  rougher.state.floatbank10_c_air             5290 non-null   float64\n",
      " 28  rougher.state.floatbank10_c_level           5290 non-null   float64\n",
      " 29  rougher.state.floatbank10_d_air             5290 non-null   float64\n",
      " 30  rougher.state.floatbank10_d_level           5290 non-null   float64\n",
      " 31  rougher.state.floatbank10_e_air             5290 non-null   float64\n",
      " 32  rougher.state.floatbank10_e_level           5290 non-null   float64\n",
      " 33  rougher.state.floatbank10_f_air             5290 non-null   float64\n",
      " 34  rougher.state.floatbank10_f_level           5290 non-null   float64\n",
      " 35  secondary_cleaner.state.floatbank2_a_air    5287 non-null   float64\n",
      " 36  secondary_cleaner.state.floatbank2_a_level  5290 non-null   float64\n",
      " 37  secondary_cleaner.state.floatbank2_b_air    5288 non-null   float64\n",
      " 38  secondary_cleaner.state.floatbank2_b_level  5290 non-null   float64\n",
      " 39  secondary_cleaner.state.floatbank3_a_air    5281 non-null   float64\n",
      " 40  secondary_cleaner.state.floatbank3_a_level  5290 non-null   float64\n",
      " 41  secondary_cleaner.state.floatbank3_b_air    5290 non-null   float64\n",
      " 42  secondary_cleaner.state.floatbank3_b_level  5290 non-null   float64\n",
      " 43  secondary_cleaner.state.floatbank4_a_air    5290 non-null   float64\n",
      " 44  secondary_cleaner.state.floatbank4_a_level  5290 non-null   float64\n",
      " 45  secondary_cleaner.state.floatbank4_b_air    5290 non-null   float64\n",
      " 46  secondary_cleaner.state.floatbank4_b_level  5290 non-null   float64\n",
      " 47  secondary_cleaner.state.floatbank5_a_air    5290 non-null   float64\n",
      " 48  secondary_cleaner.state.floatbank5_a_level  5290 non-null   float64\n",
      " 49  secondary_cleaner.state.floatbank5_b_air    5290 non-null   float64\n",
      " 50  secondary_cleaner.state.floatbank5_b_level  5290 non-null   float64\n",
      " 51  secondary_cleaner.state.floatbank6_a_air    5290 non-null   float64\n",
      " 52  secondary_cleaner.state.floatbank6_a_level  5290 non-null   float64\n",
      "dtypes: float64(52), object(1)\n",
      "memory usage: 2.1+ MB\n",
      "<class 'pandas.core.frame.DataFrame'>\n",
      "RangeIndex: 19439 entries, 0 to 19438\n",
      "Data columns (total 87 columns):\n",
      " #   Column                                              Non-Null Count  Dtype  \n",
      "---  ------                                              --------------  -----  \n",
      " 0   date                                                19439 non-null  object \n",
      " 1   final.output.concentrate_ag                         19438 non-null  float64\n",
      " 2   final.output.concentrate_pb                         19438 non-null  float64\n",
      " 3   final.output.concentrate_sol                        19228 non-null  float64\n",
      " 4   final.output.concentrate_au                         19439 non-null  float64\n",
      " 5   final.output.recovery                               19439 non-null  float64\n",
      " 6   final.output.tail_ag                                19438 non-null  float64\n",
      " 7   final.output.tail_pb                                19338 non-null  float64\n",
      " 8   final.output.tail_sol                               19433 non-null  float64\n",
      " 9   final.output.tail_au                                19439 non-null  float64\n",
      " 10  primary_cleaner.input.sulfate                       19415 non-null  float64\n",
      " 11  primary_cleaner.input.depressant                    19402 non-null  float64\n",
      " 12  primary_cleaner.input.feed_size                     19439 non-null  float64\n",
      " 13  primary_cleaner.input.xanthate                      19335 non-null  float64\n",
      " 14  primary_cleaner.output.concentrate_ag               19439 non-null  float64\n",
      " 15  primary_cleaner.output.concentrate_pb               19323 non-null  float64\n",
      " 16  primary_cleaner.output.concentrate_sol              19069 non-null  float64\n",
      " 17  primary_cleaner.output.concentrate_au               19439 non-null  float64\n",
      " 18  primary_cleaner.output.tail_ag                      19435 non-null  float64\n",
      " 19  primary_cleaner.output.tail_pb                      19418 non-null  float64\n",
      " 20  primary_cleaner.output.tail_sol                     19377 non-null  float64\n",
      " 21  primary_cleaner.output.tail_au                      19439 non-null  float64\n",
      " 22  primary_cleaner.state.floatbank8_a_air              19435 non-null  float64\n",
      " 23  primary_cleaner.state.floatbank8_a_level            19438 non-null  float64\n",
      " 24  primary_cleaner.state.floatbank8_b_air              19435 non-null  float64\n",
      " 25  primary_cleaner.state.floatbank8_b_level            19438 non-null  float64\n",
      " 26  primary_cleaner.state.floatbank8_c_air              19437 non-null  float64\n",
      " 27  primary_cleaner.state.floatbank8_c_level            19438 non-null  float64\n",
      " 28  primary_cleaner.state.floatbank8_d_air              19436 non-null  float64\n",
      " 29  primary_cleaner.state.floatbank8_d_level            19438 non-null  float64\n",
      " 30  rougher.calculation.sulfate_to_au_concentrate       19437 non-null  float64\n",
      " 31  rougher.calculation.floatbank10_sulfate_to_au_feed  19437 non-null  float64\n",
      " 32  rougher.calculation.floatbank11_sulfate_to_au_feed  19437 non-null  float64\n",
      " 33  rougher.calculation.au_pb_ratio                     19439 non-null  float64\n",
      " 34  rougher.input.feed_ag                               19439 non-null  float64\n",
      " 35  rougher.input.feed_pb                               19339 non-null  float64\n",
      " 36  rougher.input.feed_rate                             19428 non-null  float64\n",
      " 37  rougher.input.feed_size                             19294 non-null  float64\n",
      " 38  rougher.input.feed_sol                              19340 non-null  float64\n",
      " 39  rougher.input.feed_au                               19439 non-null  float64\n",
      " 40  rougher.input.floatbank10_sulfate                   19405 non-null  float64\n",
      " 41  rougher.input.floatbank10_xanthate                  19431 non-null  float64\n",
      " 42  rougher.input.floatbank11_sulfate                   19395 non-null  float64\n",
      " 43  rougher.input.floatbank11_xanthate                  18986 non-null  float64\n",
      " 44  rougher.output.concentrate_ag                       19439 non-null  float64\n",
      " 45  rougher.output.concentrate_pb                       19439 non-null  float64\n",
      " 46  rougher.output.concentrate_sol                      19416 non-null  float64\n",
      " 47  rougher.output.concentrate_au                       19439 non-null  float64\n",
      " 48  rougher.output.recovery                             19439 non-null  float64\n",
      " 49  rougher.output.tail_ag                              19438 non-null  float64\n",
      " 50  rougher.output.tail_pb                              19439 non-null  float64\n",
      " 51  rougher.output.tail_sol                             19439 non-null  float64\n",
      " 52  rougher.output.tail_au                              19439 non-null  float64\n",
      " 53  rougher.state.floatbank10_a_air                     19438 non-null  float64\n",
      " 54  rougher.state.floatbank10_a_level                   19438 non-null  float64\n",
      " 55  rougher.state.floatbank10_b_air                     19438 non-null  float64\n",
      " 56  rougher.state.floatbank10_b_level                   19438 non-null  float64\n",
      " 57  rougher.state.floatbank10_c_air                     19438 non-null  float64\n",
      " 58  rougher.state.floatbank10_c_level                   19438 non-null  float64\n",
      " 59  rougher.state.floatbank10_d_air                     19439 non-null  float64\n",
      " 60  rougher.state.floatbank10_d_level                   19439 non-null  float64\n",
      " 61  rougher.state.floatbank10_e_air                     19003 non-null  float64\n",
      " 62  rougher.state.floatbank10_e_level                   19439 non-null  float64\n",
      " 63  rougher.state.floatbank10_f_air                     19439 non-null  float64\n",
      " 64  rougher.state.floatbank10_f_level                   19439 non-null  float64\n",
      " 65  secondary_cleaner.output.tail_ag                    19437 non-null  float64\n",
      " 66  secondary_cleaner.output.tail_pb                    19427 non-null  float64\n",
      " 67  secondary_cleaner.output.tail_sol                   17691 non-null  float64\n",
      " 68  secondary_cleaner.output.tail_au                    19439 non-null  float64\n",
      " 69  secondary_cleaner.state.floatbank2_a_air            19219 non-null  float64\n",
      " 70  secondary_cleaner.state.floatbank2_a_level          19438 non-null  float64\n",
      " 71  secondary_cleaner.state.floatbank2_b_air            19416 non-null  float64\n",
      " 72  secondary_cleaner.state.floatbank2_b_level          19438 non-null  float64\n",
      " 73  secondary_cleaner.state.floatbank3_a_air            19426 non-null  float64\n",
      " 74  secondary_cleaner.state.floatbank3_a_level          19438 non-null  float64\n",
      " 75  secondary_cleaner.state.floatbank3_b_air            19438 non-null  float64\n",
      " 76  secondary_cleaner.state.floatbank3_b_level          19438 non-null  float64\n",
      " 77  secondary_cleaner.state.floatbank4_a_air            19433 non-null  float64\n",
      " 78  secondary_cleaner.state.floatbank4_a_level          19438 non-null  float64\n",
      " 79  secondary_cleaner.state.floatbank4_b_air            19438 non-null  float64\n",
      " 80  secondary_cleaner.state.floatbank4_b_level          19438 non-null  float64\n",
      " 81  secondary_cleaner.state.floatbank5_a_air            19438 non-null  float64\n",
      " 82  secondary_cleaner.state.floatbank5_a_level          19438 non-null  float64\n",
      " 83  secondary_cleaner.state.floatbank5_b_air            19438 non-null  float64\n",
      " 84  secondary_cleaner.state.floatbank5_b_level          19438 non-null  float64\n",
      " 85  secondary_cleaner.state.floatbank6_a_air            19437 non-null  float64\n",
      " 86  secondary_cleaner.state.floatbank6_a_level          19438 non-null  float64\n",
      "dtypes: float64(86), object(1)\n",
      "memory usage: 12.9+ MB\n"
     ]
    }
   ],
   "source": [
    "data_train.info()\n",
    "data_test.info()\n",
    "data_full.info()"
   ]
  },
  {
   "cell_type": "code",
   "execution_count": 4,
   "metadata": {},
   "outputs": [
    {
     "data": {
      "text/html": [
       "<div>\n",
       "<style scoped>\n",
       "    .dataframe tbody tr th:only-of-type {\n",
       "        vertical-align: middle;\n",
       "    }\n",
       "\n",
       "    .dataframe tbody tr th {\n",
       "        vertical-align: top;\n",
       "    }\n",
       "\n",
       "    .dataframe thead th {\n",
       "        text-align: right;\n",
       "    }\n",
       "</style>\n",
       "<table border=\"1\" class=\"dataframe\">\n",
       "  <thead>\n",
       "    <tr style=\"text-align: right;\">\n",
       "      <th></th>\n",
       "      <th>date</th>\n",
       "      <th>final.output.concentrate_ag</th>\n",
       "      <th>final.output.concentrate_pb</th>\n",
       "      <th>final.output.concentrate_sol</th>\n",
       "      <th>final.output.concentrate_au</th>\n",
       "      <th>final.output.recovery</th>\n",
       "      <th>final.output.tail_ag</th>\n",
       "      <th>final.output.tail_pb</th>\n",
       "      <th>final.output.tail_sol</th>\n",
       "      <th>final.output.tail_au</th>\n",
       "      <th>...</th>\n",
       "      <th>secondary_cleaner.state.floatbank4_a_air</th>\n",
       "      <th>secondary_cleaner.state.floatbank4_a_level</th>\n",
       "      <th>secondary_cleaner.state.floatbank4_b_air</th>\n",
       "      <th>secondary_cleaner.state.floatbank4_b_level</th>\n",
       "      <th>secondary_cleaner.state.floatbank5_a_air</th>\n",
       "      <th>secondary_cleaner.state.floatbank5_a_level</th>\n",
       "      <th>secondary_cleaner.state.floatbank5_b_air</th>\n",
       "      <th>secondary_cleaner.state.floatbank5_b_level</th>\n",
       "      <th>secondary_cleaner.state.floatbank6_a_air</th>\n",
       "      <th>secondary_cleaner.state.floatbank6_a_level</th>\n",
       "    </tr>\n",
       "  </thead>\n",
       "  <tbody>\n",
       "    <tr>\n",
       "      <th>0</th>\n",
       "      <td>2016-01-15 00:00:00</td>\n",
       "      <td>6.055403</td>\n",
       "      <td>9.889648</td>\n",
       "      <td>5.507324</td>\n",
       "      <td>42.192020</td>\n",
       "      <td>70.541216</td>\n",
       "      <td>10.411962</td>\n",
       "      <td>0.895447</td>\n",
       "      <td>16.904297</td>\n",
       "      <td>2.143149</td>\n",
       "      <td>...</td>\n",
       "      <td>14.016835</td>\n",
       "      <td>-502.488007</td>\n",
       "      <td>12.099931</td>\n",
       "      <td>-504.715942</td>\n",
       "      <td>9.925633</td>\n",
       "      <td>-498.310211</td>\n",
       "      <td>8.079666</td>\n",
       "      <td>-500.470978</td>\n",
       "      <td>14.151341</td>\n",
       "      <td>-605.841980</td>\n",
       "    </tr>\n",
       "    <tr>\n",
       "      <th>1</th>\n",
       "      <td>2016-01-15 01:00:00</td>\n",
       "      <td>6.029369</td>\n",
       "      <td>9.968944</td>\n",
       "      <td>5.257781</td>\n",
       "      <td>42.701629</td>\n",
       "      <td>69.266198</td>\n",
       "      <td>10.462676</td>\n",
       "      <td>0.927452</td>\n",
       "      <td>16.634514</td>\n",
       "      <td>2.224930</td>\n",
       "      <td>...</td>\n",
       "      <td>13.992281</td>\n",
       "      <td>-505.503262</td>\n",
       "      <td>11.950531</td>\n",
       "      <td>-501.331529</td>\n",
       "      <td>10.039245</td>\n",
       "      <td>-500.169983</td>\n",
       "      <td>7.984757</td>\n",
       "      <td>-500.582168</td>\n",
       "      <td>13.998353</td>\n",
       "      <td>-599.787184</td>\n",
       "    </tr>\n",
       "    <tr>\n",
       "      <th>2</th>\n",
       "      <td>2016-01-15 02:00:00</td>\n",
       "      <td>6.055926</td>\n",
       "      <td>10.213995</td>\n",
       "      <td>5.383759</td>\n",
       "      <td>42.657501</td>\n",
       "      <td>68.116445</td>\n",
       "      <td>10.507046</td>\n",
       "      <td>0.953716</td>\n",
       "      <td>16.208849</td>\n",
       "      <td>2.257889</td>\n",
       "      <td>...</td>\n",
       "      <td>14.015015</td>\n",
       "      <td>-502.520901</td>\n",
       "      <td>11.912783</td>\n",
       "      <td>-501.133383</td>\n",
       "      <td>10.070913</td>\n",
       "      <td>-500.129135</td>\n",
       "      <td>8.013877</td>\n",
       "      <td>-500.517572</td>\n",
       "      <td>14.028663</td>\n",
       "      <td>-601.427363</td>\n",
       "    </tr>\n",
       "    <tr>\n",
       "      <th>3</th>\n",
       "      <td>2016-01-15 03:00:00</td>\n",
       "      <td>6.047977</td>\n",
       "      <td>9.977019</td>\n",
       "      <td>4.858634</td>\n",
       "      <td>42.689819</td>\n",
       "      <td>68.347543</td>\n",
       "      <td>10.422762</td>\n",
       "      <td>0.883763</td>\n",
       "      <td>16.532835</td>\n",
       "      <td>2.146849</td>\n",
       "      <td>...</td>\n",
       "      <td>14.036510</td>\n",
       "      <td>-500.857308</td>\n",
       "      <td>11.999550</td>\n",
       "      <td>-501.193686</td>\n",
       "      <td>9.970366</td>\n",
       "      <td>-499.201640</td>\n",
       "      <td>7.977324</td>\n",
       "      <td>-500.255908</td>\n",
       "      <td>14.005551</td>\n",
       "      <td>-599.996129</td>\n",
       "    </tr>\n",
       "    <tr>\n",
       "      <th>4</th>\n",
       "      <td>2016-01-15 04:00:00</td>\n",
       "      <td>6.148599</td>\n",
       "      <td>10.142511</td>\n",
       "      <td>4.939416</td>\n",
       "      <td>42.774141</td>\n",
       "      <td>66.927016</td>\n",
       "      <td>10.360302</td>\n",
       "      <td>0.792826</td>\n",
       "      <td>16.525686</td>\n",
       "      <td>2.055292</td>\n",
       "      <td>...</td>\n",
       "      <td>14.027298</td>\n",
       "      <td>-499.838632</td>\n",
       "      <td>11.953070</td>\n",
       "      <td>-501.053894</td>\n",
       "      <td>9.925709</td>\n",
       "      <td>-501.686727</td>\n",
       "      <td>7.894242</td>\n",
       "      <td>-500.356035</td>\n",
       "      <td>13.996647</td>\n",
       "      <td>-601.496691</td>\n",
       "    </tr>\n",
       "  </tbody>\n",
       "</table>\n",
       "<p>5 rows × 87 columns</p>\n",
       "</div>"
      ],
      "text/plain": [
       "                  date  final.output.concentrate_ag  \\\n",
       "0  2016-01-15 00:00:00                     6.055403   \n",
       "1  2016-01-15 01:00:00                     6.029369   \n",
       "2  2016-01-15 02:00:00                     6.055926   \n",
       "3  2016-01-15 03:00:00                     6.047977   \n",
       "4  2016-01-15 04:00:00                     6.148599   \n",
       "\n",
       "   final.output.concentrate_pb  final.output.concentrate_sol  \\\n",
       "0                     9.889648                      5.507324   \n",
       "1                     9.968944                      5.257781   \n",
       "2                    10.213995                      5.383759   \n",
       "3                     9.977019                      4.858634   \n",
       "4                    10.142511                      4.939416   \n",
       "\n",
       "   final.output.concentrate_au  final.output.recovery  final.output.tail_ag  \\\n",
       "0                    42.192020              70.541216             10.411962   \n",
       "1                    42.701629              69.266198             10.462676   \n",
       "2                    42.657501              68.116445             10.507046   \n",
       "3                    42.689819              68.347543             10.422762   \n",
       "4                    42.774141              66.927016             10.360302   \n",
       "\n",
       "   final.output.tail_pb  final.output.tail_sol  final.output.tail_au  ...  \\\n",
       "0              0.895447              16.904297              2.143149  ...   \n",
       "1              0.927452              16.634514              2.224930  ...   \n",
       "2              0.953716              16.208849              2.257889  ...   \n",
       "3              0.883763              16.532835              2.146849  ...   \n",
       "4              0.792826              16.525686              2.055292  ...   \n",
       "\n",
       "   secondary_cleaner.state.floatbank4_a_air  \\\n",
       "0                                 14.016835   \n",
       "1                                 13.992281   \n",
       "2                                 14.015015   \n",
       "3                                 14.036510   \n",
       "4                                 14.027298   \n",
       "\n",
       "   secondary_cleaner.state.floatbank4_a_level  \\\n",
       "0                                 -502.488007   \n",
       "1                                 -505.503262   \n",
       "2                                 -502.520901   \n",
       "3                                 -500.857308   \n",
       "4                                 -499.838632   \n",
       "\n",
       "   secondary_cleaner.state.floatbank4_b_air  \\\n",
       "0                                 12.099931   \n",
       "1                                 11.950531   \n",
       "2                                 11.912783   \n",
       "3                                 11.999550   \n",
       "4                                 11.953070   \n",
       "\n",
       "   secondary_cleaner.state.floatbank4_b_level  \\\n",
       "0                                 -504.715942   \n",
       "1                                 -501.331529   \n",
       "2                                 -501.133383   \n",
       "3                                 -501.193686   \n",
       "4                                 -501.053894   \n",
       "\n",
       "   secondary_cleaner.state.floatbank5_a_air  \\\n",
       "0                                  9.925633   \n",
       "1                                 10.039245   \n",
       "2                                 10.070913   \n",
       "3                                  9.970366   \n",
       "4                                  9.925709   \n",
       "\n",
       "   secondary_cleaner.state.floatbank5_a_level  \\\n",
       "0                                 -498.310211   \n",
       "1                                 -500.169983   \n",
       "2                                 -500.129135   \n",
       "3                                 -499.201640   \n",
       "4                                 -501.686727   \n",
       "\n",
       "   secondary_cleaner.state.floatbank5_b_air  \\\n",
       "0                                  8.079666   \n",
       "1                                  7.984757   \n",
       "2                                  8.013877   \n",
       "3                                  7.977324   \n",
       "4                                  7.894242   \n",
       "\n",
       "   secondary_cleaner.state.floatbank5_b_level  \\\n",
       "0                                 -500.470978   \n",
       "1                                 -500.582168   \n",
       "2                                 -500.517572   \n",
       "3                                 -500.255908   \n",
       "4                                 -500.356035   \n",
       "\n",
       "   secondary_cleaner.state.floatbank6_a_air  \\\n",
       "0                                 14.151341   \n",
       "1                                 13.998353   \n",
       "2                                 14.028663   \n",
       "3                                 14.005551   \n",
       "4                                 13.996647   \n",
       "\n",
       "   secondary_cleaner.state.floatbank6_a_level  \n",
       "0                                 -605.841980  \n",
       "1                                 -599.787184  \n",
       "2                                 -601.427363  \n",
       "3                                 -599.996129  \n",
       "4                                 -601.496691  \n",
       "\n",
       "[5 rows x 87 columns]"
      ]
     },
     "metadata": {},
     "output_type": "display_data"
    },
    {
     "data": {
      "text/html": [
       "<div>\n",
       "<style scoped>\n",
       "    .dataframe tbody tr th:only-of-type {\n",
       "        vertical-align: middle;\n",
       "    }\n",
       "\n",
       "    .dataframe tbody tr th {\n",
       "        vertical-align: top;\n",
       "    }\n",
       "\n",
       "    .dataframe thead th {\n",
       "        text-align: right;\n",
       "    }\n",
       "</style>\n",
       "<table border=\"1\" class=\"dataframe\">\n",
       "  <thead>\n",
       "    <tr style=\"text-align: right;\">\n",
       "      <th></th>\n",
       "      <th>date</th>\n",
       "      <th>primary_cleaner.input.sulfate</th>\n",
       "      <th>primary_cleaner.input.depressant</th>\n",
       "      <th>primary_cleaner.input.feed_size</th>\n",
       "      <th>primary_cleaner.input.xanthate</th>\n",
       "      <th>primary_cleaner.state.floatbank8_a_air</th>\n",
       "      <th>primary_cleaner.state.floatbank8_a_level</th>\n",
       "      <th>primary_cleaner.state.floatbank8_b_air</th>\n",
       "      <th>primary_cleaner.state.floatbank8_b_level</th>\n",
       "      <th>primary_cleaner.state.floatbank8_c_air</th>\n",
       "      <th>...</th>\n",
       "      <th>secondary_cleaner.state.floatbank4_a_air</th>\n",
       "      <th>secondary_cleaner.state.floatbank4_a_level</th>\n",
       "      <th>secondary_cleaner.state.floatbank4_b_air</th>\n",
       "      <th>secondary_cleaner.state.floatbank4_b_level</th>\n",
       "      <th>secondary_cleaner.state.floatbank5_a_air</th>\n",
       "      <th>secondary_cleaner.state.floatbank5_a_level</th>\n",
       "      <th>secondary_cleaner.state.floatbank5_b_air</th>\n",
       "      <th>secondary_cleaner.state.floatbank5_b_level</th>\n",
       "      <th>secondary_cleaner.state.floatbank6_a_air</th>\n",
       "      <th>secondary_cleaner.state.floatbank6_a_level</th>\n",
       "    </tr>\n",
       "  </thead>\n",
       "  <tbody>\n",
       "    <tr>\n",
       "      <th>0</th>\n",
       "      <td>2016-09-01 00:59:59</td>\n",
       "      <td>210.800909</td>\n",
       "      <td>14.993118</td>\n",
       "      <td>8.080000</td>\n",
       "      <td>1.005021</td>\n",
       "      <td>1398.981301</td>\n",
       "      <td>-500.225577</td>\n",
       "      <td>1399.144926</td>\n",
       "      <td>-499.919735</td>\n",
       "      <td>1400.102998</td>\n",
       "      <td>...</td>\n",
       "      <td>12.023554</td>\n",
       "      <td>-497.795834</td>\n",
       "      <td>8.016656</td>\n",
       "      <td>-501.289139</td>\n",
       "      <td>7.946562</td>\n",
       "      <td>-432.317850</td>\n",
       "      <td>4.872511</td>\n",
       "      <td>-500.037437</td>\n",
       "      <td>26.705889</td>\n",
       "      <td>-499.709414</td>\n",
       "    </tr>\n",
       "    <tr>\n",
       "      <th>1</th>\n",
       "      <td>2016-09-01 01:59:59</td>\n",
       "      <td>215.392455</td>\n",
       "      <td>14.987471</td>\n",
       "      <td>8.080000</td>\n",
       "      <td>0.990469</td>\n",
       "      <td>1398.777912</td>\n",
       "      <td>-500.057435</td>\n",
       "      <td>1398.055362</td>\n",
       "      <td>-499.778182</td>\n",
       "      <td>1396.151033</td>\n",
       "      <td>...</td>\n",
       "      <td>12.058140</td>\n",
       "      <td>-498.695773</td>\n",
       "      <td>8.130979</td>\n",
       "      <td>-499.634209</td>\n",
       "      <td>7.958270</td>\n",
       "      <td>-525.839648</td>\n",
       "      <td>4.878850</td>\n",
       "      <td>-500.162375</td>\n",
       "      <td>25.019940</td>\n",
       "      <td>-499.819438</td>\n",
       "    </tr>\n",
       "    <tr>\n",
       "      <th>2</th>\n",
       "      <td>2016-09-01 02:59:59</td>\n",
       "      <td>215.259946</td>\n",
       "      <td>12.884934</td>\n",
       "      <td>7.786667</td>\n",
       "      <td>0.996043</td>\n",
       "      <td>1398.493666</td>\n",
       "      <td>-500.868360</td>\n",
       "      <td>1398.860436</td>\n",
       "      <td>-499.764529</td>\n",
       "      <td>1398.075709</td>\n",
       "      <td>...</td>\n",
       "      <td>11.962366</td>\n",
       "      <td>-498.767484</td>\n",
       "      <td>8.096893</td>\n",
       "      <td>-500.827423</td>\n",
       "      <td>8.071056</td>\n",
       "      <td>-500.801673</td>\n",
       "      <td>4.905125</td>\n",
       "      <td>-499.828510</td>\n",
       "      <td>24.994862</td>\n",
       "      <td>-500.622559</td>\n",
       "    </tr>\n",
       "    <tr>\n",
       "      <th>3</th>\n",
       "      <td>2016-09-01 03:59:59</td>\n",
       "      <td>215.336236</td>\n",
       "      <td>12.006805</td>\n",
       "      <td>7.640000</td>\n",
       "      <td>0.863514</td>\n",
       "      <td>1399.618111</td>\n",
       "      <td>-498.863574</td>\n",
       "      <td>1397.440120</td>\n",
       "      <td>-499.211024</td>\n",
       "      <td>1400.129303</td>\n",
       "      <td>...</td>\n",
       "      <td>12.033091</td>\n",
       "      <td>-498.350935</td>\n",
       "      <td>8.074946</td>\n",
       "      <td>-499.474407</td>\n",
       "      <td>7.897085</td>\n",
       "      <td>-500.868509</td>\n",
       "      <td>4.931400</td>\n",
       "      <td>-499.963623</td>\n",
       "      <td>24.948919</td>\n",
       "      <td>-498.709987</td>\n",
       "    </tr>\n",
       "    <tr>\n",
       "      <th>4</th>\n",
       "      <td>2016-09-01 04:59:59</td>\n",
       "      <td>199.099327</td>\n",
       "      <td>10.682530</td>\n",
       "      <td>7.530000</td>\n",
       "      <td>0.805575</td>\n",
       "      <td>1401.268123</td>\n",
       "      <td>-500.808305</td>\n",
       "      <td>1398.128818</td>\n",
       "      <td>-499.504543</td>\n",
       "      <td>1402.172226</td>\n",
       "      <td>...</td>\n",
       "      <td>12.025367</td>\n",
       "      <td>-500.786497</td>\n",
       "      <td>8.054678</td>\n",
       "      <td>-500.397500</td>\n",
       "      <td>8.107890</td>\n",
       "      <td>-509.526725</td>\n",
       "      <td>4.957674</td>\n",
       "      <td>-500.360026</td>\n",
       "      <td>25.003331</td>\n",
       "      <td>-500.856333</td>\n",
       "    </tr>\n",
       "  </tbody>\n",
       "</table>\n",
       "<p>5 rows × 53 columns</p>\n",
       "</div>"
      ],
      "text/plain": [
       "                  date  primary_cleaner.input.sulfate  \\\n",
       "0  2016-09-01 00:59:59                     210.800909   \n",
       "1  2016-09-01 01:59:59                     215.392455   \n",
       "2  2016-09-01 02:59:59                     215.259946   \n",
       "3  2016-09-01 03:59:59                     215.336236   \n",
       "4  2016-09-01 04:59:59                     199.099327   \n",
       "\n",
       "   primary_cleaner.input.depressant  primary_cleaner.input.feed_size  \\\n",
       "0                         14.993118                         8.080000   \n",
       "1                         14.987471                         8.080000   \n",
       "2                         12.884934                         7.786667   \n",
       "3                         12.006805                         7.640000   \n",
       "4                         10.682530                         7.530000   \n",
       "\n",
       "   primary_cleaner.input.xanthate  primary_cleaner.state.floatbank8_a_air  \\\n",
       "0                        1.005021                             1398.981301   \n",
       "1                        0.990469                             1398.777912   \n",
       "2                        0.996043                             1398.493666   \n",
       "3                        0.863514                             1399.618111   \n",
       "4                        0.805575                             1401.268123   \n",
       "\n",
       "   primary_cleaner.state.floatbank8_a_level  \\\n",
       "0                               -500.225577   \n",
       "1                               -500.057435   \n",
       "2                               -500.868360   \n",
       "3                               -498.863574   \n",
       "4                               -500.808305   \n",
       "\n",
       "   primary_cleaner.state.floatbank8_b_air  \\\n",
       "0                             1399.144926   \n",
       "1                             1398.055362   \n",
       "2                             1398.860436   \n",
       "3                             1397.440120   \n",
       "4                             1398.128818   \n",
       "\n",
       "   primary_cleaner.state.floatbank8_b_level  \\\n",
       "0                               -499.919735   \n",
       "1                               -499.778182   \n",
       "2                               -499.764529   \n",
       "3                               -499.211024   \n",
       "4                               -499.504543   \n",
       "\n",
       "   primary_cleaner.state.floatbank8_c_air  ...  \\\n",
       "0                             1400.102998  ...   \n",
       "1                             1396.151033  ...   \n",
       "2                             1398.075709  ...   \n",
       "3                             1400.129303  ...   \n",
       "4                             1402.172226  ...   \n",
       "\n",
       "   secondary_cleaner.state.floatbank4_a_air  \\\n",
       "0                                 12.023554   \n",
       "1                                 12.058140   \n",
       "2                                 11.962366   \n",
       "3                                 12.033091   \n",
       "4                                 12.025367   \n",
       "\n",
       "   secondary_cleaner.state.floatbank4_a_level  \\\n",
       "0                                 -497.795834   \n",
       "1                                 -498.695773   \n",
       "2                                 -498.767484   \n",
       "3                                 -498.350935   \n",
       "4                                 -500.786497   \n",
       "\n",
       "   secondary_cleaner.state.floatbank4_b_air  \\\n",
       "0                                  8.016656   \n",
       "1                                  8.130979   \n",
       "2                                  8.096893   \n",
       "3                                  8.074946   \n",
       "4                                  8.054678   \n",
       "\n",
       "   secondary_cleaner.state.floatbank4_b_level  \\\n",
       "0                                 -501.289139   \n",
       "1                                 -499.634209   \n",
       "2                                 -500.827423   \n",
       "3                                 -499.474407   \n",
       "4                                 -500.397500   \n",
       "\n",
       "   secondary_cleaner.state.floatbank5_a_air  \\\n",
       "0                                  7.946562   \n",
       "1                                  7.958270   \n",
       "2                                  8.071056   \n",
       "3                                  7.897085   \n",
       "4                                  8.107890   \n",
       "\n",
       "   secondary_cleaner.state.floatbank5_a_level  \\\n",
       "0                                 -432.317850   \n",
       "1                                 -525.839648   \n",
       "2                                 -500.801673   \n",
       "3                                 -500.868509   \n",
       "4                                 -509.526725   \n",
       "\n",
       "   secondary_cleaner.state.floatbank5_b_air  \\\n",
       "0                                  4.872511   \n",
       "1                                  4.878850   \n",
       "2                                  4.905125   \n",
       "3                                  4.931400   \n",
       "4                                  4.957674   \n",
       "\n",
       "   secondary_cleaner.state.floatbank5_b_level  \\\n",
       "0                                 -500.037437   \n",
       "1                                 -500.162375   \n",
       "2                                 -499.828510   \n",
       "3                                 -499.963623   \n",
       "4                                 -500.360026   \n",
       "\n",
       "   secondary_cleaner.state.floatbank6_a_air  \\\n",
       "0                                 26.705889   \n",
       "1                                 25.019940   \n",
       "2                                 24.994862   \n",
       "3                                 24.948919   \n",
       "4                                 25.003331   \n",
       "\n",
       "   secondary_cleaner.state.floatbank6_a_level  \n",
       "0                                 -499.709414  \n",
       "1                                 -499.819438  \n",
       "2                                 -500.622559  \n",
       "3                                 -498.709987  \n",
       "4                                 -500.856333  \n",
       "\n",
       "[5 rows x 53 columns]"
      ]
     },
     "metadata": {},
     "output_type": "display_data"
    },
    {
     "data": {
      "text/html": [
       "<div>\n",
       "<style scoped>\n",
       "    .dataframe tbody tr th:only-of-type {\n",
       "        vertical-align: middle;\n",
       "    }\n",
       "\n",
       "    .dataframe tbody tr th {\n",
       "        vertical-align: top;\n",
       "    }\n",
       "\n",
       "    .dataframe thead th {\n",
       "        text-align: right;\n",
       "    }\n",
       "</style>\n",
       "<table border=\"1\" class=\"dataframe\">\n",
       "  <thead>\n",
       "    <tr style=\"text-align: right;\">\n",
       "      <th></th>\n",
       "      <th>date</th>\n",
       "      <th>final.output.concentrate_ag</th>\n",
       "      <th>final.output.concentrate_pb</th>\n",
       "      <th>final.output.concentrate_sol</th>\n",
       "      <th>final.output.concentrate_au</th>\n",
       "      <th>final.output.recovery</th>\n",
       "      <th>final.output.tail_ag</th>\n",
       "      <th>final.output.tail_pb</th>\n",
       "      <th>final.output.tail_sol</th>\n",
       "      <th>final.output.tail_au</th>\n",
       "      <th>...</th>\n",
       "      <th>secondary_cleaner.state.floatbank4_a_air</th>\n",
       "      <th>secondary_cleaner.state.floatbank4_a_level</th>\n",
       "      <th>secondary_cleaner.state.floatbank4_b_air</th>\n",
       "      <th>secondary_cleaner.state.floatbank4_b_level</th>\n",
       "      <th>secondary_cleaner.state.floatbank5_a_air</th>\n",
       "      <th>secondary_cleaner.state.floatbank5_a_level</th>\n",
       "      <th>secondary_cleaner.state.floatbank5_b_air</th>\n",
       "      <th>secondary_cleaner.state.floatbank5_b_level</th>\n",
       "      <th>secondary_cleaner.state.floatbank6_a_air</th>\n",
       "      <th>secondary_cleaner.state.floatbank6_a_level</th>\n",
       "    </tr>\n",
       "  </thead>\n",
       "  <tbody>\n",
       "    <tr>\n",
       "      <th>0</th>\n",
       "      <td>2016-01-15 00:00:00</td>\n",
       "      <td>6.055403</td>\n",
       "      <td>9.889648</td>\n",
       "      <td>5.507324</td>\n",
       "      <td>42.192020</td>\n",
       "      <td>70.541216</td>\n",
       "      <td>10.411962</td>\n",
       "      <td>0.895447</td>\n",
       "      <td>16.904297</td>\n",
       "      <td>2.143149</td>\n",
       "      <td>...</td>\n",
       "      <td>14.016835</td>\n",
       "      <td>-502.488007</td>\n",
       "      <td>12.099931</td>\n",
       "      <td>-504.715942</td>\n",
       "      <td>9.925633</td>\n",
       "      <td>-498.310211</td>\n",
       "      <td>8.079666</td>\n",
       "      <td>-500.470978</td>\n",
       "      <td>14.151341</td>\n",
       "      <td>-605.841980</td>\n",
       "    </tr>\n",
       "    <tr>\n",
       "      <th>1</th>\n",
       "      <td>2016-01-15 01:00:00</td>\n",
       "      <td>6.029369</td>\n",
       "      <td>9.968944</td>\n",
       "      <td>5.257781</td>\n",
       "      <td>42.701629</td>\n",
       "      <td>69.266198</td>\n",
       "      <td>10.462676</td>\n",
       "      <td>0.927452</td>\n",
       "      <td>16.634514</td>\n",
       "      <td>2.224930</td>\n",
       "      <td>...</td>\n",
       "      <td>13.992281</td>\n",
       "      <td>-505.503262</td>\n",
       "      <td>11.950531</td>\n",
       "      <td>-501.331529</td>\n",
       "      <td>10.039245</td>\n",
       "      <td>-500.169983</td>\n",
       "      <td>7.984757</td>\n",
       "      <td>-500.582168</td>\n",
       "      <td>13.998353</td>\n",
       "      <td>-599.787184</td>\n",
       "    </tr>\n",
       "    <tr>\n",
       "      <th>2</th>\n",
       "      <td>2016-01-15 02:00:00</td>\n",
       "      <td>6.055926</td>\n",
       "      <td>10.213995</td>\n",
       "      <td>5.383759</td>\n",
       "      <td>42.657501</td>\n",
       "      <td>68.116445</td>\n",
       "      <td>10.507046</td>\n",
       "      <td>0.953716</td>\n",
       "      <td>16.208849</td>\n",
       "      <td>2.257889</td>\n",
       "      <td>...</td>\n",
       "      <td>14.015015</td>\n",
       "      <td>-502.520901</td>\n",
       "      <td>11.912783</td>\n",
       "      <td>-501.133383</td>\n",
       "      <td>10.070913</td>\n",
       "      <td>-500.129135</td>\n",
       "      <td>8.013877</td>\n",
       "      <td>-500.517572</td>\n",
       "      <td>14.028663</td>\n",
       "      <td>-601.427363</td>\n",
       "    </tr>\n",
       "    <tr>\n",
       "      <th>3</th>\n",
       "      <td>2016-01-15 03:00:00</td>\n",
       "      <td>6.047977</td>\n",
       "      <td>9.977019</td>\n",
       "      <td>4.858634</td>\n",
       "      <td>42.689819</td>\n",
       "      <td>68.347543</td>\n",
       "      <td>10.422762</td>\n",
       "      <td>0.883763</td>\n",
       "      <td>16.532835</td>\n",
       "      <td>2.146849</td>\n",
       "      <td>...</td>\n",
       "      <td>14.036510</td>\n",
       "      <td>-500.857308</td>\n",
       "      <td>11.999550</td>\n",
       "      <td>-501.193686</td>\n",
       "      <td>9.970366</td>\n",
       "      <td>-499.201640</td>\n",
       "      <td>7.977324</td>\n",
       "      <td>-500.255908</td>\n",
       "      <td>14.005551</td>\n",
       "      <td>-599.996129</td>\n",
       "    </tr>\n",
       "    <tr>\n",
       "      <th>4</th>\n",
       "      <td>2016-01-15 04:00:00</td>\n",
       "      <td>6.148599</td>\n",
       "      <td>10.142511</td>\n",
       "      <td>4.939416</td>\n",
       "      <td>42.774141</td>\n",
       "      <td>66.927016</td>\n",
       "      <td>10.360302</td>\n",
       "      <td>0.792826</td>\n",
       "      <td>16.525686</td>\n",
       "      <td>2.055292</td>\n",
       "      <td>...</td>\n",
       "      <td>14.027298</td>\n",
       "      <td>-499.838632</td>\n",
       "      <td>11.953070</td>\n",
       "      <td>-501.053894</td>\n",
       "      <td>9.925709</td>\n",
       "      <td>-501.686727</td>\n",
       "      <td>7.894242</td>\n",
       "      <td>-500.356035</td>\n",
       "      <td>13.996647</td>\n",
       "      <td>-601.496691</td>\n",
       "    </tr>\n",
       "  </tbody>\n",
       "</table>\n",
       "<p>5 rows × 87 columns</p>\n",
       "</div>"
      ],
      "text/plain": [
       "                  date  final.output.concentrate_ag  \\\n",
       "0  2016-01-15 00:00:00                     6.055403   \n",
       "1  2016-01-15 01:00:00                     6.029369   \n",
       "2  2016-01-15 02:00:00                     6.055926   \n",
       "3  2016-01-15 03:00:00                     6.047977   \n",
       "4  2016-01-15 04:00:00                     6.148599   \n",
       "\n",
       "   final.output.concentrate_pb  final.output.concentrate_sol  \\\n",
       "0                     9.889648                      5.507324   \n",
       "1                     9.968944                      5.257781   \n",
       "2                    10.213995                      5.383759   \n",
       "3                     9.977019                      4.858634   \n",
       "4                    10.142511                      4.939416   \n",
       "\n",
       "   final.output.concentrate_au  final.output.recovery  final.output.tail_ag  \\\n",
       "0                    42.192020              70.541216             10.411962   \n",
       "1                    42.701629              69.266198             10.462676   \n",
       "2                    42.657501              68.116445             10.507046   \n",
       "3                    42.689819              68.347543             10.422762   \n",
       "4                    42.774141              66.927016             10.360302   \n",
       "\n",
       "   final.output.tail_pb  final.output.tail_sol  final.output.tail_au  ...  \\\n",
       "0              0.895447              16.904297              2.143149  ...   \n",
       "1              0.927452              16.634514              2.224930  ...   \n",
       "2              0.953716              16.208849              2.257889  ...   \n",
       "3              0.883763              16.532835              2.146849  ...   \n",
       "4              0.792826              16.525686              2.055292  ...   \n",
       "\n",
       "   secondary_cleaner.state.floatbank4_a_air  \\\n",
       "0                                 14.016835   \n",
       "1                                 13.992281   \n",
       "2                                 14.015015   \n",
       "3                                 14.036510   \n",
       "4                                 14.027298   \n",
       "\n",
       "   secondary_cleaner.state.floatbank4_a_level  \\\n",
       "0                                 -502.488007   \n",
       "1                                 -505.503262   \n",
       "2                                 -502.520901   \n",
       "3                                 -500.857308   \n",
       "4                                 -499.838632   \n",
       "\n",
       "   secondary_cleaner.state.floatbank4_b_air  \\\n",
       "0                                 12.099931   \n",
       "1                                 11.950531   \n",
       "2                                 11.912783   \n",
       "3                                 11.999550   \n",
       "4                                 11.953070   \n",
       "\n",
       "   secondary_cleaner.state.floatbank4_b_level  \\\n",
       "0                                 -504.715942   \n",
       "1                                 -501.331529   \n",
       "2                                 -501.133383   \n",
       "3                                 -501.193686   \n",
       "4                                 -501.053894   \n",
       "\n",
       "   secondary_cleaner.state.floatbank5_a_air  \\\n",
       "0                                  9.925633   \n",
       "1                                 10.039245   \n",
       "2                                 10.070913   \n",
       "3                                  9.970366   \n",
       "4                                  9.925709   \n",
       "\n",
       "   secondary_cleaner.state.floatbank5_a_level  \\\n",
       "0                                 -498.310211   \n",
       "1                                 -500.169983   \n",
       "2                                 -500.129135   \n",
       "3                                 -499.201640   \n",
       "4                                 -501.686727   \n",
       "\n",
       "   secondary_cleaner.state.floatbank5_b_air  \\\n",
       "0                                  8.079666   \n",
       "1                                  7.984757   \n",
       "2                                  8.013877   \n",
       "3                                  7.977324   \n",
       "4                                  7.894242   \n",
       "\n",
       "   secondary_cleaner.state.floatbank5_b_level  \\\n",
       "0                                 -500.470978   \n",
       "1                                 -500.582168   \n",
       "2                                 -500.517572   \n",
       "3                                 -500.255908   \n",
       "4                                 -500.356035   \n",
       "\n",
       "   secondary_cleaner.state.floatbank6_a_air  \\\n",
       "0                                 14.151341   \n",
       "1                                 13.998353   \n",
       "2                                 14.028663   \n",
       "3                                 14.005551   \n",
       "4                                 13.996647   \n",
       "\n",
       "   secondary_cleaner.state.floatbank6_a_level  \n",
       "0                                 -605.841980  \n",
       "1                                 -599.787184  \n",
       "2                                 -601.427363  \n",
       "3                                 -599.996129  \n",
       "4                                 -601.496691  \n",
       "\n",
       "[5 rows x 87 columns]"
      ]
     },
     "metadata": {},
     "output_type": "display_data"
    }
   ],
   "source": [
    "display(data_train.head())\n",
    "display(data_test.head())\n",
    "display(data_full.head())"
   ]
  },
  {
   "cell_type": "markdown",
   "metadata": {},
   "source": [
    "Статистические данные"
   ]
  },
  {
   "cell_type": "code",
   "execution_count": 5,
   "metadata": {},
   "outputs": [
    {
     "data": {
      "text/html": [
       "<div>\n",
       "<style scoped>\n",
       "    .dataframe tbody tr th:only-of-type {\n",
       "        vertical-align: middle;\n",
       "    }\n",
       "\n",
       "    .dataframe tbody tr th {\n",
       "        vertical-align: top;\n",
       "    }\n",
       "\n",
       "    .dataframe thead th {\n",
       "        text-align: right;\n",
       "    }\n",
       "</style>\n",
       "<table border=\"1\" class=\"dataframe\">\n",
       "  <thead>\n",
       "    <tr style=\"text-align: right;\">\n",
       "      <th></th>\n",
       "      <th>final.output.concentrate_ag</th>\n",
       "      <th>final.output.concentrate_pb</th>\n",
       "      <th>final.output.concentrate_sol</th>\n",
       "      <th>final.output.concentrate_au</th>\n",
       "      <th>final.output.recovery</th>\n",
       "      <th>final.output.tail_ag</th>\n",
       "      <th>final.output.tail_pb</th>\n",
       "      <th>final.output.tail_sol</th>\n",
       "      <th>final.output.tail_au</th>\n",
       "      <th>primary_cleaner.input.sulfate</th>\n",
       "      <th>...</th>\n",
       "      <th>secondary_cleaner.state.floatbank4_a_air</th>\n",
       "      <th>secondary_cleaner.state.floatbank4_a_level</th>\n",
       "      <th>secondary_cleaner.state.floatbank4_b_air</th>\n",
       "      <th>secondary_cleaner.state.floatbank4_b_level</th>\n",
       "      <th>secondary_cleaner.state.floatbank5_a_air</th>\n",
       "      <th>secondary_cleaner.state.floatbank5_a_level</th>\n",
       "      <th>secondary_cleaner.state.floatbank5_b_air</th>\n",
       "      <th>secondary_cleaner.state.floatbank5_b_level</th>\n",
       "      <th>secondary_cleaner.state.floatbank6_a_air</th>\n",
       "      <th>secondary_cleaner.state.floatbank6_a_level</th>\n",
       "    </tr>\n",
       "  </thead>\n",
       "  <tbody>\n",
       "    <tr>\n",
       "      <th>count</th>\n",
       "      <td>14148.000000</td>\n",
       "      <td>14148.000000</td>\n",
       "      <td>13938.000000</td>\n",
       "      <td>14149.000000</td>\n",
       "      <td>14149.000000</td>\n",
       "      <td>14149.000000</td>\n",
       "      <td>14049.000000</td>\n",
       "      <td>14144.000000</td>\n",
       "      <td>14149.000000</td>\n",
       "      <td>14129.000000</td>\n",
       "      <td>...</td>\n",
       "      <td>14143.000000</td>\n",
       "      <td>14148.000000</td>\n",
       "      <td>14148.000000</td>\n",
       "      <td>14148.000000</td>\n",
       "      <td>14148.000000</td>\n",
       "      <td>14148.000000</td>\n",
       "      <td>14148.000000</td>\n",
       "      <td>14148.000000</td>\n",
       "      <td>14147.000000</td>\n",
       "      <td>14148.000000</td>\n",
       "    </tr>\n",
       "    <tr>\n",
       "      <th>mean</th>\n",
       "      <td>5.142034</td>\n",
       "      <td>10.132960</td>\n",
       "      <td>9.202849</td>\n",
       "      <td>44.003792</td>\n",
       "      <td>66.518832</td>\n",
       "      <td>9.607035</td>\n",
       "      <td>2.597298</td>\n",
       "      <td>10.512122</td>\n",
       "      <td>2.918421</td>\n",
       "      <td>133.320659</td>\n",
       "      <td>...</td>\n",
       "      <td>19.985454</td>\n",
       "      <td>-478.696836</td>\n",
       "      <td>15.487065</td>\n",
       "      <td>-460.229416</td>\n",
       "      <td>16.775136</td>\n",
       "      <td>-483.956022</td>\n",
       "      <td>13.064590</td>\n",
       "      <td>-483.966564</td>\n",
       "      <td>19.577539</td>\n",
       "      <td>-506.798480</td>\n",
       "    </tr>\n",
       "    <tr>\n",
       "      <th>std</th>\n",
       "      <td>1.369586</td>\n",
       "      <td>1.654930</td>\n",
       "      <td>2.790516</td>\n",
       "      <td>4.905261</td>\n",
       "      <td>10.295402</td>\n",
       "      <td>2.319069</td>\n",
       "      <td>0.971843</td>\n",
       "      <td>3.003617</td>\n",
       "      <td>0.903712</td>\n",
       "      <td>39.431659</td>\n",
       "      <td>...</td>\n",
       "      <td>5.657723</td>\n",
       "      <td>50.736021</td>\n",
       "      <td>5.255655</td>\n",
       "      <td>58.843586</td>\n",
       "      <td>5.831906</td>\n",
       "      <td>37.892788</td>\n",
       "      <td>5.765617</td>\n",
       "      <td>39.207913</td>\n",
       "      <td>5.764417</td>\n",
       "      <td>37.079249</td>\n",
       "    </tr>\n",
       "    <tr>\n",
       "      <th>min</th>\n",
       "      <td>0.000000</td>\n",
       "      <td>0.000000</td>\n",
       "      <td>0.000000</td>\n",
       "      <td>0.000000</td>\n",
       "      <td>0.000000</td>\n",
       "      <td>0.000000</td>\n",
       "      <td>0.000000</td>\n",
       "      <td>0.000000</td>\n",
       "      <td>0.000000</td>\n",
       "      <td>0.003112</td>\n",
       "      <td>...</td>\n",
       "      <td>0.000000</td>\n",
       "      <td>-799.709069</td>\n",
       "      <td>0.000000</td>\n",
       "      <td>-799.889113</td>\n",
       "      <td>-0.372054</td>\n",
       "      <td>-797.142475</td>\n",
       "      <td>0.646208</td>\n",
       "      <td>-800.006180</td>\n",
       "      <td>0.195324</td>\n",
       "      <td>-809.398668</td>\n",
       "    </tr>\n",
       "    <tr>\n",
       "      <th>25%</th>\n",
       "      <td>4.211620</td>\n",
       "      <td>9.297355</td>\n",
       "      <td>7.484645</td>\n",
       "      <td>43.276111</td>\n",
       "      <td>62.545817</td>\n",
       "      <td>7.997429</td>\n",
       "      <td>1.905973</td>\n",
       "      <td>8.811324</td>\n",
       "      <td>2.368607</td>\n",
       "      <td>107.006651</td>\n",
       "      <td>...</td>\n",
       "      <td>14.990775</td>\n",
       "      <td>-500.628656</td>\n",
       "      <td>11.894558</td>\n",
       "      <td>-500.149000</td>\n",
       "      <td>11.083980</td>\n",
       "      <td>-500.363177</td>\n",
       "      <td>8.994405</td>\n",
       "      <td>-500.105994</td>\n",
       "      <td>14.989304</td>\n",
       "      <td>-500.745104</td>\n",
       "    </tr>\n",
       "    <tr>\n",
       "      <th>50%</th>\n",
       "      <td>4.994652</td>\n",
       "      <td>10.297144</td>\n",
       "      <td>8.845462</td>\n",
       "      <td>44.872436</td>\n",
       "      <td>67.432775</td>\n",
       "      <td>9.480270</td>\n",
       "      <td>2.592022</td>\n",
       "      <td>10.514621</td>\n",
       "      <td>2.851025</td>\n",
       "      <td>133.018328</td>\n",
       "      <td>...</td>\n",
       "      <td>20.001789</td>\n",
       "      <td>-499.681450</td>\n",
       "      <td>14.975536</td>\n",
       "      <td>-499.388738</td>\n",
       "      <td>17.932223</td>\n",
       "      <td>-499.702452</td>\n",
       "      <td>11.997547</td>\n",
       "      <td>-499.914556</td>\n",
       "      <td>19.984175</td>\n",
       "      <td>-500.061431</td>\n",
       "    </tr>\n",
       "    <tr>\n",
       "      <th>75%</th>\n",
       "      <td>5.859540</td>\n",
       "      <td>11.170603</td>\n",
       "      <td>10.487508</td>\n",
       "      <td>46.166425</td>\n",
       "      <td>72.346428</td>\n",
       "      <td>11.003707</td>\n",
       "      <td>3.241723</td>\n",
       "      <td>11.933009</td>\n",
       "      <td>3.434764</td>\n",
       "      <td>159.825396</td>\n",
       "      <td>...</td>\n",
       "      <td>24.990826</td>\n",
       "      <td>-477.472413</td>\n",
       "      <td>20.059375</td>\n",
       "      <td>-400.039008</td>\n",
       "      <td>21.346550</td>\n",
       "      <td>-487.712108</td>\n",
       "      <td>17.982903</td>\n",
       "      <td>-453.186936</td>\n",
       "      <td>24.991623</td>\n",
       "      <td>-499.536466</td>\n",
       "    </tr>\n",
       "    <tr>\n",
       "      <th>max</th>\n",
       "      <td>16.001945</td>\n",
       "      <td>17.031899</td>\n",
       "      <td>18.124851</td>\n",
       "      <td>52.756638</td>\n",
       "      <td>100.000000</td>\n",
       "      <td>19.552149</td>\n",
       "      <td>5.639565</td>\n",
       "      <td>22.317730</td>\n",
       "      <td>8.197408</td>\n",
       "      <td>250.127834</td>\n",
       "      <td>...</td>\n",
       "      <td>30.115735</td>\n",
       "      <td>-245.239184</td>\n",
       "      <td>24.007913</td>\n",
       "      <td>-145.071088</td>\n",
       "      <td>43.709931</td>\n",
       "      <td>-275.073125</td>\n",
       "      <td>27.926001</td>\n",
       "      <td>-157.396071</td>\n",
       "      <td>32.188906</td>\n",
       "      <td>-104.427459</td>\n",
       "    </tr>\n",
       "  </tbody>\n",
       "</table>\n",
       "<p>8 rows × 86 columns</p>\n",
       "</div>"
      ],
      "text/plain": [
       "       final.output.concentrate_ag  final.output.concentrate_pb  \\\n",
       "count                 14148.000000                 14148.000000   \n",
       "mean                      5.142034                    10.132960   \n",
       "std                       1.369586                     1.654930   \n",
       "min                       0.000000                     0.000000   \n",
       "25%                       4.211620                     9.297355   \n",
       "50%                       4.994652                    10.297144   \n",
       "75%                       5.859540                    11.170603   \n",
       "max                      16.001945                    17.031899   \n",
       "\n",
       "       final.output.concentrate_sol  final.output.concentrate_au  \\\n",
       "count                  13938.000000                 14149.000000   \n",
       "mean                       9.202849                    44.003792   \n",
       "std                        2.790516                     4.905261   \n",
       "min                        0.000000                     0.000000   \n",
       "25%                        7.484645                    43.276111   \n",
       "50%                        8.845462                    44.872436   \n",
       "75%                       10.487508                    46.166425   \n",
       "max                       18.124851                    52.756638   \n",
       "\n",
       "       final.output.recovery  final.output.tail_ag  final.output.tail_pb  \\\n",
       "count           14149.000000          14149.000000          14049.000000   \n",
       "mean               66.518832              9.607035              2.597298   \n",
       "std                10.295402              2.319069              0.971843   \n",
       "min                 0.000000              0.000000              0.000000   \n",
       "25%                62.545817              7.997429              1.905973   \n",
       "50%                67.432775              9.480270              2.592022   \n",
       "75%                72.346428             11.003707              3.241723   \n",
       "max               100.000000             19.552149              5.639565   \n",
       "\n",
       "       final.output.tail_sol  final.output.tail_au  \\\n",
       "count           14144.000000          14149.000000   \n",
       "mean               10.512122              2.918421   \n",
       "std                 3.003617              0.903712   \n",
       "min                 0.000000              0.000000   \n",
       "25%                 8.811324              2.368607   \n",
       "50%                10.514621              2.851025   \n",
       "75%                11.933009              3.434764   \n",
       "max                22.317730              8.197408   \n",
       "\n",
       "       primary_cleaner.input.sulfate  ...  \\\n",
       "count                   14129.000000  ...   \n",
       "mean                      133.320659  ...   \n",
       "std                        39.431659  ...   \n",
       "min                         0.003112  ...   \n",
       "25%                       107.006651  ...   \n",
       "50%                       133.018328  ...   \n",
       "75%                       159.825396  ...   \n",
       "max                       250.127834  ...   \n",
       "\n",
       "       secondary_cleaner.state.floatbank4_a_air  \\\n",
       "count                              14143.000000   \n",
       "mean                                  19.985454   \n",
       "std                                    5.657723   \n",
       "min                                    0.000000   \n",
       "25%                                   14.990775   \n",
       "50%                                   20.001789   \n",
       "75%                                   24.990826   \n",
       "max                                   30.115735   \n",
       "\n",
       "       secondary_cleaner.state.floatbank4_a_level  \\\n",
       "count                                14148.000000   \n",
       "mean                                  -478.696836   \n",
       "std                                     50.736021   \n",
       "min                                   -799.709069   \n",
       "25%                                   -500.628656   \n",
       "50%                                   -499.681450   \n",
       "75%                                   -477.472413   \n",
       "max                                   -245.239184   \n",
       "\n",
       "       secondary_cleaner.state.floatbank4_b_air  \\\n",
       "count                              14148.000000   \n",
       "mean                                  15.487065   \n",
       "std                                    5.255655   \n",
       "min                                    0.000000   \n",
       "25%                                   11.894558   \n",
       "50%                                   14.975536   \n",
       "75%                                   20.059375   \n",
       "max                                   24.007913   \n",
       "\n",
       "       secondary_cleaner.state.floatbank4_b_level  \\\n",
       "count                                14148.000000   \n",
       "mean                                  -460.229416   \n",
       "std                                     58.843586   \n",
       "min                                   -799.889113   \n",
       "25%                                   -500.149000   \n",
       "50%                                   -499.388738   \n",
       "75%                                   -400.039008   \n",
       "max                                   -145.071088   \n",
       "\n",
       "       secondary_cleaner.state.floatbank5_a_air  \\\n",
       "count                              14148.000000   \n",
       "mean                                  16.775136   \n",
       "std                                    5.831906   \n",
       "min                                   -0.372054   \n",
       "25%                                   11.083980   \n",
       "50%                                   17.932223   \n",
       "75%                                   21.346550   \n",
       "max                                   43.709931   \n",
       "\n",
       "       secondary_cleaner.state.floatbank5_a_level  \\\n",
       "count                                14148.000000   \n",
       "mean                                  -483.956022   \n",
       "std                                     37.892788   \n",
       "min                                   -797.142475   \n",
       "25%                                   -500.363177   \n",
       "50%                                   -499.702452   \n",
       "75%                                   -487.712108   \n",
       "max                                   -275.073125   \n",
       "\n",
       "       secondary_cleaner.state.floatbank5_b_air  \\\n",
       "count                              14148.000000   \n",
       "mean                                  13.064590   \n",
       "std                                    5.765617   \n",
       "min                                    0.646208   \n",
       "25%                                    8.994405   \n",
       "50%                                   11.997547   \n",
       "75%                                   17.982903   \n",
       "max                                   27.926001   \n",
       "\n",
       "       secondary_cleaner.state.floatbank5_b_level  \\\n",
       "count                                14148.000000   \n",
       "mean                                  -483.966564   \n",
       "std                                     39.207913   \n",
       "min                                   -800.006180   \n",
       "25%                                   -500.105994   \n",
       "50%                                   -499.914556   \n",
       "75%                                   -453.186936   \n",
       "max                                   -157.396071   \n",
       "\n",
       "       secondary_cleaner.state.floatbank6_a_air  \\\n",
       "count                              14147.000000   \n",
       "mean                                  19.577539   \n",
       "std                                    5.764417   \n",
       "min                                    0.195324   \n",
       "25%                                   14.989304   \n",
       "50%                                   19.984175   \n",
       "75%                                   24.991623   \n",
       "max                                   32.188906   \n",
       "\n",
       "       secondary_cleaner.state.floatbank6_a_level  \n",
       "count                                14148.000000  \n",
       "mean                                  -506.798480  \n",
       "std                                     37.079249  \n",
       "min                                   -809.398668  \n",
       "25%                                   -500.745104  \n",
       "50%                                   -500.061431  \n",
       "75%                                   -499.536466  \n",
       "max                                   -104.427459  \n",
       "\n",
       "[8 rows x 86 columns]"
      ]
     },
     "metadata": {},
     "output_type": "display_data"
    },
    {
     "data": {
      "text/html": [
       "<div>\n",
       "<style scoped>\n",
       "    .dataframe tbody tr th:only-of-type {\n",
       "        vertical-align: middle;\n",
       "    }\n",
       "\n",
       "    .dataframe tbody tr th {\n",
       "        vertical-align: top;\n",
       "    }\n",
       "\n",
       "    .dataframe thead th {\n",
       "        text-align: right;\n",
       "    }\n",
       "</style>\n",
       "<table border=\"1\" class=\"dataframe\">\n",
       "  <thead>\n",
       "    <tr style=\"text-align: right;\">\n",
       "      <th></th>\n",
       "      <th>primary_cleaner.input.sulfate</th>\n",
       "      <th>primary_cleaner.input.depressant</th>\n",
       "      <th>primary_cleaner.input.feed_size</th>\n",
       "      <th>primary_cleaner.input.xanthate</th>\n",
       "      <th>primary_cleaner.state.floatbank8_a_air</th>\n",
       "      <th>primary_cleaner.state.floatbank8_a_level</th>\n",
       "      <th>primary_cleaner.state.floatbank8_b_air</th>\n",
       "      <th>primary_cleaner.state.floatbank8_b_level</th>\n",
       "      <th>primary_cleaner.state.floatbank8_c_air</th>\n",
       "      <th>primary_cleaner.state.floatbank8_c_level</th>\n",
       "      <th>...</th>\n",
       "      <th>secondary_cleaner.state.floatbank4_a_air</th>\n",
       "      <th>secondary_cleaner.state.floatbank4_a_level</th>\n",
       "      <th>secondary_cleaner.state.floatbank4_b_air</th>\n",
       "      <th>secondary_cleaner.state.floatbank4_b_level</th>\n",
       "      <th>secondary_cleaner.state.floatbank5_a_air</th>\n",
       "      <th>secondary_cleaner.state.floatbank5_a_level</th>\n",
       "      <th>secondary_cleaner.state.floatbank5_b_air</th>\n",
       "      <th>secondary_cleaner.state.floatbank5_b_level</th>\n",
       "      <th>secondary_cleaner.state.floatbank6_a_air</th>\n",
       "      <th>secondary_cleaner.state.floatbank6_a_level</th>\n",
       "    </tr>\n",
       "  </thead>\n",
       "  <tbody>\n",
       "    <tr>\n",
       "      <th>count</th>\n",
       "      <td>5286.000000</td>\n",
       "      <td>5285.000000</td>\n",
       "      <td>5290.000000</td>\n",
       "      <td>5286.000000</td>\n",
       "      <td>5.290000e+03</td>\n",
       "      <td>5290.000000</td>\n",
       "      <td>5.290000e+03</td>\n",
       "      <td>5290.000000</td>\n",
       "      <td>5.290000e+03</td>\n",
       "      <td>5290.000000</td>\n",
       "      <td>...</td>\n",
       "      <td>5.290000e+03</td>\n",
       "      <td>5290.000000</td>\n",
       "      <td>5.290000e+03</td>\n",
       "      <td>5290.000000</td>\n",
       "      <td>5290.000000</td>\n",
       "      <td>5290.000000</td>\n",
       "      <td>5290.000000</td>\n",
       "      <td>5290.000000</td>\n",
       "      <td>5290.000000</td>\n",
       "      <td>5290.000000</td>\n",
       "    </tr>\n",
       "    <tr>\n",
       "      <th>mean</th>\n",
       "      <td>174.839652</td>\n",
       "      <td>8.683596</td>\n",
       "      <td>7.266339</td>\n",
       "      <td>1.383803</td>\n",
       "      <td>1.539494e+03</td>\n",
       "      <td>-497.665883</td>\n",
       "      <td>1.545174e+03</td>\n",
       "      <td>-500.273098</td>\n",
       "      <td>1.527272e+03</td>\n",
       "      <td>-498.330680</td>\n",
       "      <td>...</td>\n",
       "      <td>1.632007e+01</td>\n",
       "      <td>-505.144570</td>\n",
       "      <td>1.373544e+01</td>\n",
       "      <td>-463.349858</td>\n",
       "      <td>12.804186</td>\n",
       "      <td>-501.329122</td>\n",
       "      <td>9.881145</td>\n",
       "      <td>-495.663398</td>\n",
       "      <td>17.304935</td>\n",
       "      <td>-501.793193</td>\n",
       "    </tr>\n",
       "    <tr>\n",
       "      <th>std</th>\n",
       "      <td>43.027080</td>\n",
       "      <td>3.072050</td>\n",
       "      <td>0.610219</td>\n",
       "      <td>0.643474</td>\n",
       "      <td>1.167979e+02</td>\n",
       "      <td>19.952431</td>\n",
       "      <td>1.222246e+02</td>\n",
       "      <td>32.968307</td>\n",
       "      <td>1.225380e+02</td>\n",
       "      <td>21.964876</td>\n",
       "      <td>...</td>\n",
       "      <td>3.493583e+00</td>\n",
       "      <td>31.427337</td>\n",
       "      <td>3.430484e+00</td>\n",
       "      <td>86.189107</td>\n",
       "      <td>3.026591</td>\n",
       "      <td>17.951495</td>\n",
       "      <td>2.868205</td>\n",
       "      <td>34.535007</td>\n",
       "      <td>4.536544</td>\n",
       "      <td>39.044215</td>\n",
       "    </tr>\n",
       "    <tr>\n",
       "      <th>min</th>\n",
       "      <td>2.566156</td>\n",
       "      <td>0.003839</td>\n",
       "      <td>5.650000</td>\n",
       "      <td>0.004984</td>\n",
       "      <td>5.445860e-32</td>\n",
       "      <td>-795.316337</td>\n",
       "      <td>6.647490e-32</td>\n",
       "      <td>-799.997015</td>\n",
       "      <td>4.033736e-32</td>\n",
       "      <td>-799.960571</td>\n",
       "      <td>...</td>\n",
       "      <td>1.079872e-16</td>\n",
       "      <td>-799.798523</td>\n",
       "      <td>2.489718e-17</td>\n",
       "      <td>-800.836914</td>\n",
       "      <td>0.069227</td>\n",
       "      <td>-797.323986</td>\n",
       "      <td>0.528083</td>\n",
       "      <td>-800.220337</td>\n",
       "      <td>-0.079426</td>\n",
       "      <td>-809.741464</td>\n",
       "    </tr>\n",
       "    <tr>\n",
       "      <th>25%</th>\n",
       "      <td>147.121401</td>\n",
       "      <td>6.489555</td>\n",
       "      <td>6.890000</td>\n",
       "      <td>0.907623</td>\n",
       "      <td>1.498936e+03</td>\n",
       "      <td>-500.357298</td>\n",
       "      <td>1.498971e+03</td>\n",
       "      <td>-500.703002</td>\n",
       "      <td>1.473230e+03</td>\n",
       "      <td>-501.018117</td>\n",
       "      <td>...</td>\n",
       "      <td>1.403618e+01</td>\n",
       "      <td>-500.868258</td>\n",
       "      <td>1.202862e+01</td>\n",
       "      <td>-500.323028</td>\n",
       "      <td>10.914838</td>\n",
       "      <td>-500.726841</td>\n",
       "      <td>8.036719</td>\n",
       "      <td>-500.194668</td>\n",
       "      <td>13.997317</td>\n",
       "      <td>-500.690984</td>\n",
       "    </tr>\n",
       "    <tr>\n",
       "      <th>50%</th>\n",
       "      <td>177.828489</td>\n",
       "      <td>8.052207</td>\n",
       "      <td>7.250000</td>\n",
       "      <td>1.197610</td>\n",
       "      <td>1.585129e+03</td>\n",
       "      <td>-499.969164</td>\n",
       "      <td>1.595622e+03</td>\n",
       "      <td>-500.028514</td>\n",
       "      <td>1.549595e+03</td>\n",
       "      <td>-500.017711</td>\n",
       "      <td>...</td>\n",
       "      <td>1.700847e+01</td>\n",
       "      <td>-500.115727</td>\n",
       "      <td>1.496486e+01</td>\n",
       "      <td>-499.576513</td>\n",
       "      <td>12.954182</td>\n",
       "      <td>-499.990332</td>\n",
       "      <td>10.004301</td>\n",
       "      <td>-499.990535</td>\n",
       "      <td>16.014935</td>\n",
       "      <td>-500.007126</td>\n",
       "    </tr>\n",
       "    <tr>\n",
       "      <th>75%</th>\n",
       "      <td>208.125438</td>\n",
       "      <td>10.027764</td>\n",
       "      <td>7.600000</td>\n",
       "      <td>1.797819</td>\n",
       "      <td>1.602077e+03</td>\n",
       "      <td>-499.568951</td>\n",
       "      <td>1.602324e+03</td>\n",
       "      <td>-499.293257</td>\n",
       "      <td>1.601144e+03</td>\n",
       "      <td>-498.994130</td>\n",
       "      <td>...</td>\n",
       "      <td>1.803862e+01</td>\n",
       "      <td>-499.404224</td>\n",
       "      <td>1.596213e+01</td>\n",
       "      <td>-400.933805</td>\n",
       "      <td>15.097528</td>\n",
       "      <td>-499.283191</td>\n",
       "      <td>11.997467</td>\n",
       "      <td>-499.719913</td>\n",
       "      <td>21.020013</td>\n",
       "      <td>-499.373018</td>\n",
       "    </tr>\n",
       "    <tr>\n",
       "      <th>max</th>\n",
       "      <td>265.983123</td>\n",
       "      <td>40.000000</td>\n",
       "      <td>15.500000</td>\n",
       "      <td>4.102454</td>\n",
       "      <td>2.103104e+03</td>\n",
       "      <td>-57.195404</td>\n",
       "      <td>1.813084e+03</td>\n",
       "      <td>-142.527229</td>\n",
       "      <td>1.715054e+03</td>\n",
       "      <td>-150.937035</td>\n",
       "      <td>...</td>\n",
       "      <td>3.005180e+01</td>\n",
       "      <td>-401.565212</td>\n",
       "      <td>3.126971e+01</td>\n",
       "      <td>-6.506986</td>\n",
       "      <td>25.258848</td>\n",
       "      <td>-244.483566</td>\n",
       "      <td>14.086866</td>\n",
       "      <td>-137.740004</td>\n",
       "      <td>26.705889</td>\n",
       "      <td>-123.307487</td>\n",
       "    </tr>\n",
       "  </tbody>\n",
       "</table>\n",
       "<p>8 rows × 52 columns</p>\n",
       "</div>"
      ],
      "text/plain": [
       "       primary_cleaner.input.sulfate  primary_cleaner.input.depressant  \\\n",
       "count                    5286.000000                       5285.000000   \n",
       "mean                      174.839652                          8.683596   \n",
       "std                        43.027080                          3.072050   \n",
       "min                         2.566156                          0.003839   \n",
       "25%                       147.121401                          6.489555   \n",
       "50%                       177.828489                          8.052207   \n",
       "75%                       208.125438                         10.027764   \n",
       "max                       265.983123                         40.000000   \n",
       "\n",
       "       primary_cleaner.input.feed_size  primary_cleaner.input.xanthate  \\\n",
       "count                      5290.000000                     5286.000000   \n",
       "mean                          7.266339                        1.383803   \n",
       "std                           0.610219                        0.643474   \n",
       "min                           5.650000                        0.004984   \n",
       "25%                           6.890000                        0.907623   \n",
       "50%                           7.250000                        1.197610   \n",
       "75%                           7.600000                        1.797819   \n",
       "max                          15.500000                        4.102454   \n",
       "\n",
       "       primary_cleaner.state.floatbank8_a_air  \\\n",
       "count                            5.290000e+03   \n",
       "mean                             1.539494e+03   \n",
       "std                              1.167979e+02   \n",
       "min                              5.445860e-32   \n",
       "25%                              1.498936e+03   \n",
       "50%                              1.585129e+03   \n",
       "75%                              1.602077e+03   \n",
       "max                              2.103104e+03   \n",
       "\n",
       "       primary_cleaner.state.floatbank8_a_level  \\\n",
       "count                               5290.000000   \n",
       "mean                                -497.665883   \n",
       "std                                   19.952431   \n",
       "min                                 -795.316337   \n",
       "25%                                 -500.357298   \n",
       "50%                                 -499.969164   \n",
       "75%                                 -499.568951   \n",
       "max                                  -57.195404   \n",
       "\n",
       "       primary_cleaner.state.floatbank8_b_air  \\\n",
       "count                            5.290000e+03   \n",
       "mean                             1.545174e+03   \n",
       "std                              1.222246e+02   \n",
       "min                              6.647490e-32   \n",
       "25%                              1.498971e+03   \n",
       "50%                              1.595622e+03   \n",
       "75%                              1.602324e+03   \n",
       "max                              1.813084e+03   \n",
       "\n",
       "       primary_cleaner.state.floatbank8_b_level  \\\n",
       "count                               5290.000000   \n",
       "mean                                -500.273098   \n",
       "std                                   32.968307   \n",
       "min                                 -799.997015   \n",
       "25%                                 -500.703002   \n",
       "50%                                 -500.028514   \n",
       "75%                                 -499.293257   \n",
       "max                                 -142.527229   \n",
       "\n",
       "       primary_cleaner.state.floatbank8_c_air  \\\n",
       "count                            5.290000e+03   \n",
       "mean                             1.527272e+03   \n",
       "std                              1.225380e+02   \n",
       "min                              4.033736e-32   \n",
       "25%                              1.473230e+03   \n",
       "50%                              1.549595e+03   \n",
       "75%                              1.601144e+03   \n",
       "max                              1.715054e+03   \n",
       "\n",
       "       primary_cleaner.state.floatbank8_c_level  ...  \\\n",
       "count                               5290.000000  ...   \n",
       "mean                                -498.330680  ...   \n",
       "std                                   21.964876  ...   \n",
       "min                                 -799.960571  ...   \n",
       "25%                                 -501.018117  ...   \n",
       "50%                                 -500.017711  ...   \n",
       "75%                                 -498.994130  ...   \n",
       "max                                 -150.937035  ...   \n",
       "\n",
       "       secondary_cleaner.state.floatbank4_a_air  \\\n",
       "count                              5.290000e+03   \n",
       "mean                               1.632007e+01   \n",
       "std                                3.493583e+00   \n",
       "min                                1.079872e-16   \n",
       "25%                                1.403618e+01   \n",
       "50%                                1.700847e+01   \n",
       "75%                                1.803862e+01   \n",
       "max                                3.005180e+01   \n",
       "\n",
       "       secondary_cleaner.state.floatbank4_a_level  \\\n",
       "count                                 5290.000000   \n",
       "mean                                  -505.144570   \n",
       "std                                     31.427337   \n",
       "min                                   -799.798523   \n",
       "25%                                   -500.868258   \n",
       "50%                                   -500.115727   \n",
       "75%                                   -499.404224   \n",
       "max                                   -401.565212   \n",
       "\n",
       "       secondary_cleaner.state.floatbank4_b_air  \\\n",
       "count                              5.290000e+03   \n",
       "mean                               1.373544e+01   \n",
       "std                                3.430484e+00   \n",
       "min                                2.489718e-17   \n",
       "25%                                1.202862e+01   \n",
       "50%                                1.496486e+01   \n",
       "75%                                1.596213e+01   \n",
       "max                                3.126971e+01   \n",
       "\n",
       "       secondary_cleaner.state.floatbank4_b_level  \\\n",
       "count                                 5290.000000   \n",
       "mean                                  -463.349858   \n",
       "std                                     86.189107   \n",
       "min                                   -800.836914   \n",
       "25%                                   -500.323028   \n",
       "50%                                   -499.576513   \n",
       "75%                                   -400.933805   \n",
       "max                                     -6.506986   \n",
       "\n",
       "       secondary_cleaner.state.floatbank5_a_air  \\\n",
       "count                               5290.000000   \n",
       "mean                                  12.804186   \n",
       "std                                    3.026591   \n",
       "min                                    0.069227   \n",
       "25%                                   10.914838   \n",
       "50%                                   12.954182   \n",
       "75%                                   15.097528   \n",
       "max                                   25.258848   \n",
       "\n",
       "       secondary_cleaner.state.floatbank5_a_level  \\\n",
       "count                                 5290.000000   \n",
       "mean                                  -501.329122   \n",
       "std                                     17.951495   \n",
       "min                                   -797.323986   \n",
       "25%                                   -500.726841   \n",
       "50%                                   -499.990332   \n",
       "75%                                   -499.283191   \n",
       "max                                   -244.483566   \n",
       "\n",
       "       secondary_cleaner.state.floatbank5_b_air  \\\n",
       "count                               5290.000000   \n",
       "mean                                   9.881145   \n",
       "std                                    2.868205   \n",
       "min                                    0.528083   \n",
       "25%                                    8.036719   \n",
       "50%                                   10.004301   \n",
       "75%                                   11.997467   \n",
       "max                                   14.086866   \n",
       "\n",
       "       secondary_cleaner.state.floatbank5_b_level  \\\n",
       "count                                 5290.000000   \n",
       "mean                                  -495.663398   \n",
       "std                                     34.535007   \n",
       "min                                   -800.220337   \n",
       "25%                                   -500.194668   \n",
       "50%                                   -499.990535   \n",
       "75%                                   -499.719913   \n",
       "max                                   -137.740004   \n",
       "\n",
       "       secondary_cleaner.state.floatbank6_a_air  \\\n",
       "count                               5290.000000   \n",
       "mean                                  17.304935   \n",
       "std                                    4.536544   \n",
       "min                                   -0.079426   \n",
       "25%                                   13.997317   \n",
       "50%                                   16.014935   \n",
       "75%                                   21.020013   \n",
       "max                                   26.705889   \n",
       "\n",
       "       secondary_cleaner.state.floatbank6_a_level  \n",
       "count                                 5290.000000  \n",
       "mean                                  -501.793193  \n",
       "std                                     39.044215  \n",
       "min                                   -809.741464  \n",
       "25%                                   -500.690984  \n",
       "50%                                   -500.007126  \n",
       "75%                                   -499.373018  \n",
       "max                                   -123.307487  \n",
       "\n",
       "[8 rows x 52 columns]"
      ]
     },
     "metadata": {},
     "output_type": "display_data"
    },
    {
     "data": {
      "text/html": [
       "<div>\n",
       "<style scoped>\n",
       "    .dataframe tbody tr th:only-of-type {\n",
       "        vertical-align: middle;\n",
       "    }\n",
       "\n",
       "    .dataframe tbody tr th {\n",
       "        vertical-align: top;\n",
       "    }\n",
       "\n",
       "    .dataframe thead th {\n",
       "        text-align: right;\n",
       "    }\n",
       "</style>\n",
       "<table border=\"1\" class=\"dataframe\">\n",
       "  <thead>\n",
       "    <tr style=\"text-align: right;\">\n",
       "      <th></th>\n",
       "      <th>final.output.concentrate_ag</th>\n",
       "      <th>final.output.concentrate_pb</th>\n",
       "      <th>final.output.concentrate_sol</th>\n",
       "      <th>final.output.concentrate_au</th>\n",
       "      <th>final.output.recovery</th>\n",
       "      <th>final.output.tail_ag</th>\n",
       "      <th>final.output.tail_pb</th>\n",
       "      <th>final.output.tail_sol</th>\n",
       "      <th>final.output.tail_au</th>\n",
       "      <th>primary_cleaner.input.sulfate</th>\n",
       "      <th>...</th>\n",
       "      <th>secondary_cleaner.state.floatbank4_a_air</th>\n",
       "      <th>secondary_cleaner.state.floatbank4_a_level</th>\n",
       "      <th>secondary_cleaner.state.floatbank4_b_air</th>\n",
       "      <th>secondary_cleaner.state.floatbank4_b_level</th>\n",
       "      <th>secondary_cleaner.state.floatbank5_a_air</th>\n",
       "      <th>secondary_cleaner.state.floatbank5_a_level</th>\n",
       "      <th>secondary_cleaner.state.floatbank5_b_air</th>\n",
       "      <th>secondary_cleaner.state.floatbank5_b_level</th>\n",
       "      <th>secondary_cleaner.state.floatbank6_a_air</th>\n",
       "      <th>secondary_cleaner.state.floatbank6_a_level</th>\n",
       "    </tr>\n",
       "  </thead>\n",
       "  <tbody>\n",
       "    <tr>\n",
       "      <th>count</th>\n",
       "      <td>19438.000000</td>\n",
       "      <td>19438.000000</td>\n",
       "      <td>19228.000000</td>\n",
       "      <td>19439.000000</td>\n",
       "      <td>19439.000000</td>\n",
       "      <td>19438.000000</td>\n",
       "      <td>19338.000000</td>\n",
       "      <td>19433.000000</td>\n",
       "      <td>19439.000000</td>\n",
       "      <td>19415.000000</td>\n",
       "      <td>...</td>\n",
       "      <td>19433.000000</td>\n",
       "      <td>19438.000000</td>\n",
       "      <td>19438.000000</td>\n",
       "      <td>19438.000000</td>\n",
       "      <td>19438.000000</td>\n",
       "      <td>19438.000000</td>\n",
       "      <td>19438.000000</td>\n",
       "      <td>19438.000000</td>\n",
       "      <td>19437.000000</td>\n",
       "      <td>19438.000000</td>\n",
       "    </tr>\n",
       "    <tr>\n",
       "      <th>mean</th>\n",
       "      <td>5.168470</td>\n",
       "      <td>9.978895</td>\n",
       "      <td>9.501224</td>\n",
       "      <td>44.076513</td>\n",
       "      <td>67.050208</td>\n",
       "      <td>9.688589</td>\n",
       "      <td>2.705795</td>\n",
       "      <td>10.583728</td>\n",
       "      <td>3.042467</td>\n",
       "      <td>144.624774</td>\n",
       "      <td>...</td>\n",
       "      <td>18.987674</td>\n",
       "      <td>-485.894516</td>\n",
       "      <td>15.010366</td>\n",
       "      <td>-461.078636</td>\n",
       "      <td>15.694452</td>\n",
       "      <td>-488.684065</td>\n",
       "      <td>12.198224</td>\n",
       "      <td>-487.149827</td>\n",
       "      <td>18.959024</td>\n",
       "      <td>-505.436305</td>\n",
       "    </tr>\n",
       "    <tr>\n",
       "      <th>std</th>\n",
       "      <td>1.372348</td>\n",
       "      <td>1.669240</td>\n",
       "      <td>2.787537</td>\n",
       "      <td>5.129784</td>\n",
       "      <td>10.125840</td>\n",
       "      <td>2.328642</td>\n",
       "      <td>0.949077</td>\n",
       "      <td>2.868782</td>\n",
       "      <td>0.922808</td>\n",
       "      <td>44.464071</td>\n",
       "      <td>...</td>\n",
       "      <td>5.411058</td>\n",
       "      <td>47.758570</td>\n",
       "      <td>4.890228</td>\n",
       "      <td>67.405524</td>\n",
       "      <td>5.510974</td>\n",
       "      <td>34.533396</td>\n",
       "      <td>5.333024</td>\n",
       "      <td>38.347312</td>\n",
       "      <td>5.550498</td>\n",
       "      <td>37.689057</td>\n",
       "    </tr>\n",
       "    <tr>\n",
       "      <th>min</th>\n",
       "      <td>0.000000</td>\n",
       "      <td>0.000000</td>\n",
       "      <td>0.000000</td>\n",
       "      <td>0.000000</td>\n",
       "      <td>0.000000</td>\n",
       "      <td>0.000000</td>\n",
       "      <td>0.000000</td>\n",
       "      <td>0.000000</td>\n",
       "      <td>0.000000</td>\n",
       "      <td>0.003112</td>\n",
       "      <td>...</td>\n",
       "      <td>0.000000</td>\n",
       "      <td>-799.798523</td>\n",
       "      <td>0.000000</td>\n",
       "      <td>-800.836914</td>\n",
       "      <td>-0.372054</td>\n",
       "      <td>-797.323986</td>\n",
       "      <td>0.528083</td>\n",
       "      <td>-800.220337</td>\n",
       "      <td>-0.079426</td>\n",
       "      <td>-809.741464</td>\n",
       "    </tr>\n",
       "    <tr>\n",
       "      <th>25%</th>\n",
       "      <td>4.251240</td>\n",
       "      <td>9.137262</td>\n",
       "      <td>7.722820</td>\n",
       "      <td>43.402215</td>\n",
       "      <td>63.299712</td>\n",
       "      <td>8.062878</td>\n",
       "      <td>2.040119</td>\n",
       "      <td>8.938947</td>\n",
       "      <td>2.461138</td>\n",
       "      <td>114.107029</td>\n",
       "      <td>...</td>\n",
       "      <td>14.975734</td>\n",
       "      <td>-500.704892</td>\n",
       "      <td>11.940294</td>\n",
       "      <td>-500.187742</td>\n",
       "      <td>10.988606</td>\n",
       "      <td>-500.458467</td>\n",
       "      <td>8.971105</td>\n",
       "      <td>-500.129462</td>\n",
       "      <td>14.983037</td>\n",
       "      <td>-500.728067</td>\n",
       "    </tr>\n",
       "    <tr>\n",
       "      <th>50%</th>\n",
       "      <td>5.066094</td>\n",
       "      <td>10.102433</td>\n",
       "      <td>9.218961</td>\n",
       "      <td>45.011244</td>\n",
       "      <td>68.172738</td>\n",
       "      <td>9.743623</td>\n",
       "      <td>2.748730</td>\n",
       "      <td>10.622456</td>\n",
       "      <td>2.984909</td>\n",
       "      <td>143.232103</td>\n",
       "      <td>...</td>\n",
       "      <td>18.017481</td>\n",
       "      <td>-499.837793</td>\n",
       "      <td>14.971014</td>\n",
       "      <td>-499.459786</td>\n",
       "      <td>15.000036</td>\n",
       "      <td>-499.802605</td>\n",
       "      <td>11.019433</td>\n",
       "      <td>-499.935317</td>\n",
       "      <td>19.960541</td>\n",
       "      <td>-500.048400</td>\n",
       "    </tr>\n",
       "    <tr>\n",
       "      <th>75%</th>\n",
       "      <td>5.895527</td>\n",
       "      <td>11.035769</td>\n",
       "      <td>10.947813</td>\n",
       "      <td>46.275313</td>\n",
       "      <td>72.686642</td>\n",
       "      <td>11.134294</td>\n",
       "      <td>3.333216</td>\n",
       "      <td>12.104271</td>\n",
       "      <td>3.571351</td>\n",
       "      <td>175.075656</td>\n",
       "      <td>...</td>\n",
       "      <td>23.012470</td>\n",
       "      <td>-498.249730</td>\n",
       "      <td>19.034162</td>\n",
       "      <td>-400.118106</td>\n",
       "      <td>18.026190</td>\n",
       "      <td>-498.384187</td>\n",
       "      <td>14.019088</td>\n",
       "      <td>-499.436708</td>\n",
       "      <td>24.003170</td>\n",
       "      <td>-499.495378</td>\n",
       "    </tr>\n",
       "    <tr>\n",
       "      <th>max</th>\n",
       "      <td>16.001945</td>\n",
       "      <td>17.031899</td>\n",
       "      <td>19.615720</td>\n",
       "      <td>52.756638</td>\n",
       "      <td>100.000000</td>\n",
       "      <td>19.552149</td>\n",
       "      <td>5.804178</td>\n",
       "      <td>22.317730</td>\n",
       "      <td>8.245022</td>\n",
       "      <td>265.983123</td>\n",
       "      <td>...</td>\n",
       "      <td>30.115735</td>\n",
       "      <td>-245.239184</td>\n",
       "      <td>31.269706</td>\n",
       "      <td>-6.506986</td>\n",
       "      <td>43.709931</td>\n",
       "      <td>-244.483566</td>\n",
       "      <td>27.926001</td>\n",
       "      <td>-137.740004</td>\n",
       "      <td>32.188906</td>\n",
       "      <td>-104.427459</td>\n",
       "    </tr>\n",
       "  </tbody>\n",
       "</table>\n",
       "<p>8 rows × 86 columns</p>\n",
       "</div>"
      ],
      "text/plain": [
       "       final.output.concentrate_ag  final.output.concentrate_pb  \\\n",
       "count                 19438.000000                 19438.000000   \n",
       "mean                      5.168470                     9.978895   \n",
       "std                       1.372348                     1.669240   \n",
       "min                       0.000000                     0.000000   \n",
       "25%                       4.251240                     9.137262   \n",
       "50%                       5.066094                    10.102433   \n",
       "75%                       5.895527                    11.035769   \n",
       "max                      16.001945                    17.031899   \n",
       "\n",
       "       final.output.concentrate_sol  final.output.concentrate_au  \\\n",
       "count                  19228.000000                 19439.000000   \n",
       "mean                       9.501224                    44.076513   \n",
       "std                        2.787537                     5.129784   \n",
       "min                        0.000000                     0.000000   \n",
       "25%                        7.722820                    43.402215   \n",
       "50%                        9.218961                    45.011244   \n",
       "75%                       10.947813                    46.275313   \n",
       "max                       19.615720                    52.756638   \n",
       "\n",
       "       final.output.recovery  final.output.tail_ag  final.output.tail_pb  \\\n",
       "count           19439.000000          19438.000000          19338.000000   \n",
       "mean               67.050208              9.688589              2.705795   \n",
       "std                10.125840              2.328642              0.949077   \n",
       "min                 0.000000              0.000000              0.000000   \n",
       "25%                63.299712              8.062878              2.040119   \n",
       "50%                68.172738              9.743623              2.748730   \n",
       "75%                72.686642             11.134294              3.333216   \n",
       "max               100.000000             19.552149              5.804178   \n",
       "\n",
       "       final.output.tail_sol  final.output.tail_au  \\\n",
       "count           19433.000000          19439.000000   \n",
       "mean               10.583728              3.042467   \n",
       "std                 2.868782              0.922808   \n",
       "min                 0.000000              0.000000   \n",
       "25%                 8.938947              2.461138   \n",
       "50%                10.622456              2.984909   \n",
       "75%                12.104271              3.571351   \n",
       "max                22.317730              8.245022   \n",
       "\n",
       "       primary_cleaner.input.sulfate  ...  \\\n",
       "count                   19415.000000  ...   \n",
       "mean                      144.624774  ...   \n",
       "std                        44.464071  ...   \n",
       "min                         0.003112  ...   \n",
       "25%                       114.107029  ...   \n",
       "50%                       143.232103  ...   \n",
       "75%                       175.075656  ...   \n",
       "max                       265.983123  ...   \n",
       "\n",
       "       secondary_cleaner.state.floatbank4_a_air  \\\n",
       "count                              19433.000000   \n",
       "mean                                  18.987674   \n",
       "std                                    5.411058   \n",
       "min                                    0.000000   \n",
       "25%                                   14.975734   \n",
       "50%                                   18.017481   \n",
       "75%                                   23.012470   \n",
       "max                                   30.115735   \n",
       "\n",
       "       secondary_cleaner.state.floatbank4_a_level  \\\n",
       "count                                19438.000000   \n",
       "mean                                  -485.894516   \n",
       "std                                     47.758570   \n",
       "min                                   -799.798523   \n",
       "25%                                   -500.704892   \n",
       "50%                                   -499.837793   \n",
       "75%                                   -498.249730   \n",
       "max                                   -245.239184   \n",
       "\n",
       "       secondary_cleaner.state.floatbank4_b_air  \\\n",
       "count                              19438.000000   \n",
       "mean                                  15.010366   \n",
       "std                                    4.890228   \n",
       "min                                    0.000000   \n",
       "25%                                   11.940294   \n",
       "50%                                   14.971014   \n",
       "75%                                   19.034162   \n",
       "max                                   31.269706   \n",
       "\n",
       "       secondary_cleaner.state.floatbank4_b_level  \\\n",
       "count                                19438.000000   \n",
       "mean                                  -461.078636   \n",
       "std                                     67.405524   \n",
       "min                                   -800.836914   \n",
       "25%                                   -500.187742   \n",
       "50%                                   -499.459786   \n",
       "75%                                   -400.118106   \n",
       "max                                     -6.506986   \n",
       "\n",
       "       secondary_cleaner.state.floatbank5_a_air  \\\n",
       "count                              19438.000000   \n",
       "mean                                  15.694452   \n",
       "std                                    5.510974   \n",
       "min                                   -0.372054   \n",
       "25%                                   10.988606   \n",
       "50%                                   15.000036   \n",
       "75%                                   18.026190   \n",
       "max                                   43.709931   \n",
       "\n",
       "       secondary_cleaner.state.floatbank5_a_level  \\\n",
       "count                                19438.000000   \n",
       "mean                                  -488.684065   \n",
       "std                                     34.533396   \n",
       "min                                   -797.323986   \n",
       "25%                                   -500.458467   \n",
       "50%                                   -499.802605   \n",
       "75%                                   -498.384187   \n",
       "max                                   -244.483566   \n",
       "\n",
       "       secondary_cleaner.state.floatbank5_b_air  \\\n",
       "count                              19438.000000   \n",
       "mean                                  12.198224   \n",
       "std                                    5.333024   \n",
       "min                                    0.528083   \n",
       "25%                                    8.971105   \n",
       "50%                                   11.019433   \n",
       "75%                                   14.019088   \n",
       "max                                   27.926001   \n",
       "\n",
       "       secondary_cleaner.state.floatbank5_b_level  \\\n",
       "count                                19438.000000   \n",
       "mean                                  -487.149827   \n",
       "std                                     38.347312   \n",
       "min                                   -800.220337   \n",
       "25%                                   -500.129462   \n",
       "50%                                   -499.935317   \n",
       "75%                                   -499.436708   \n",
       "max                                   -137.740004   \n",
       "\n",
       "       secondary_cleaner.state.floatbank6_a_air  \\\n",
       "count                              19437.000000   \n",
       "mean                                  18.959024   \n",
       "std                                    5.550498   \n",
       "min                                   -0.079426   \n",
       "25%                                   14.983037   \n",
       "50%                                   19.960541   \n",
       "75%                                   24.003170   \n",
       "max                                   32.188906   \n",
       "\n",
       "       secondary_cleaner.state.floatbank6_a_level  \n",
       "count                                19438.000000  \n",
       "mean                                  -505.436305  \n",
       "std                                     37.689057  \n",
       "min                                   -809.741464  \n",
       "25%                                   -500.728067  \n",
       "50%                                   -500.048400  \n",
       "75%                                   -499.495378  \n",
       "max                                   -104.427459  \n",
       "\n",
       "[8 rows x 86 columns]"
      ]
     },
     "metadata": {},
     "output_type": "display_data"
    }
   ],
   "source": [
    "display(data_train.describe())\n",
    "display(data_test.describe())\n",
    "display(data_full.describe())"
   ]
  },
  {
   "cell_type": "markdown",
   "metadata": {},
   "source": [
    "Посмотрим размер файлов"
   ]
  },
  {
   "cell_type": "code",
   "execution_count": 6,
   "metadata": {},
   "outputs": [
    {
     "data": {
      "text/plain": [
       "((14149, 87), (5290, 53), (19439, 87))"
      ]
     },
     "execution_count": 6,
     "metadata": {},
     "output_type": "execute_result"
    }
   ],
   "source": [
    "data_train.shape, data_test.shape, data_full.shape"
   ]
  },
  {
   "cell_type": "markdown",
   "metadata": {},
   "source": [
    "Приведем формат даты к нужному типу"
   ]
  },
  {
   "cell_type": "code",
   "execution_count": 7,
   "metadata": {},
   "outputs": [],
   "source": [
    "data_train['date'] = pd.to_datetime(data_train['date'], format='%Y-%m-%d %H:%M:%S')\n",
    "data_test['date'] = pd.to_datetime(data_test['date'], format='%Y-%m-%d %H:%M:%S')\n",
    "data_full['date'] = pd.to_datetime(data_full['date'], format='%Y-%m-%d %H:%M:%S')"
   ]
  },
  {
   "cell_type": "markdown",
   "metadata": {},
   "source": [
    "Итак, в данных есть пропуски; есть аномальные значений 0. Обработаем ниже."
   ]
  },
  {
   "cell_type": "markdown",
   "metadata": {},
   "source": [
    "Проверим, что эффективность обогащения рассчитана правильно. \n",
    "Нужно смоделировать процесс восстановления золота из золотосодержащей руды. **Эффективность обогащения рассчитаем по формуле:** \n",
    "\n",
    "**- Recovery = С * (F - T)/F * (C - T)**, где\n",
    "C — доля золота в концентрате после флотации/очистки;\n",
    "F — доля золота в сырье/концентрате до флотации/очистки;\n",
    "T — доля золота в отвальных хвостах после флотации/очистки.\n",
    "\n",
    "Вычислии её на обучающей выборке для признака rougher.output.recovery - эффективность обогащения чернового концентрата"
   ]
  },
  {
   "cell_type": "code",
   "execution_count": 8,
   "metadata": {},
   "outputs": [
    {
     "name": "stdout",
     "output_type": "stream",
     "text": [
      "0        87.107763\n",
      "1        86.843261\n",
      "2        86.842308\n",
      "3        87.226430\n",
      "4        86.688794\n",
      "           ...    \n",
      "14144    89.574376\n",
      "14145    87.724007\n",
      "14146    88.890579\n",
      "14147    89.858126\n",
      "14148    89.514960\n",
      "Length: 14149, dtype: float64\n"
     ]
    }
   ],
   "source": [
    "c = data_train['rougher.output.concentrate_au']\n",
    "f = data_train['rougher.input.feed_au']\n",
    "t = data_train['rougher.output.tail_au']\n",
    "recovery = ((c*(f-t))/(f*(c-t))) * 100\n",
    "print(recovery)"
   ]
  },
  {
   "cell_type": "markdown",
   "metadata": {},
   "source": [
    "Для того, чтобы понять степень ошибки прогноза, найдем MAE между расчётами и значением признака."
   ]
  },
  {
   "cell_type": "code",
   "execution_count": 9,
   "metadata": {},
   "outputs": [
    {
     "name": "stdout",
     "output_type": "stream",
     "text": [
      "MAE - 9.73512347450521e-15\n"
     ]
    }
   ],
   "source": [
    "print ('MAE -', mean_absolute_error(data_train['rougher.output.recovery'], recovery))"
   ]
  },
  {
   "cell_type": "markdown",
   "metadata": {},
   "source": [
    "Cредняя разница между фактическим значением признака и значением между расчетами, составляет 9,73e-15. Высокий показатель для метрики. Эффективность рассчитана правильно."
   ]
  },
  {
   "cell_type": "markdown",
   "metadata": {},
   "source": [
    "Изучим признаки, недоступные в тестовой выборке."
   ]
  },
  {
   "cell_type": "code",
   "execution_count": 10,
   "metadata": {},
   "outputs": [],
   "source": [
    "# по столбцам посмотрим какие признакие есть в обучающей, но нет в тестовой выборке\n",
    "dif_list = set(data_train.columns) - set(data_test.columns)"
   ]
  },
  {
   "cell_type": "code",
   "execution_count": 11,
   "metadata": {},
   "outputs": [
    {
     "data": {
      "text/plain": [
       "{'final.output.concentrate_ag',\n",
       " 'final.output.concentrate_au',\n",
       " 'final.output.concentrate_pb',\n",
       " 'final.output.concentrate_sol',\n",
       " 'final.output.recovery',\n",
       " 'final.output.tail_ag',\n",
       " 'final.output.tail_au',\n",
       " 'final.output.tail_pb',\n",
       " 'final.output.tail_sol',\n",
       " 'primary_cleaner.output.concentrate_ag',\n",
       " 'primary_cleaner.output.concentrate_au',\n",
       " 'primary_cleaner.output.concentrate_pb',\n",
       " 'primary_cleaner.output.concentrate_sol',\n",
       " 'primary_cleaner.output.tail_ag',\n",
       " 'primary_cleaner.output.tail_au',\n",
       " 'primary_cleaner.output.tail_pb',\n",
       " 'primary_cleaner.output.tail_sol',\n",
       " 'rougher.calculation.au_pb_ratio',\n",
       " 'rougher.calculation.floatbank10_sulfate_to_au_feed',\n",
       " 'rougher.calculation.floatbank11_sulfate_to_au_feed',\n",
       " 'rougher.calculation.sulfate_to_au_concentrate',\n",
       " 'rougher.output.concentrate_ag',\n",
       " 'rougher.output.concentrate_au',\n",
       " 'rougher.output.concentrate_pb',\n",
       " 'rougher.output.concentrate_sol',\n",
       " 'rougher.output.recovery',\n",
       " 'rougher.output.tail_ag',\n",
       " 'rougher.output.tail_au',\n",
       " 'rougher.output.tail_pb',\n",
       " 'rougher.output.tail_sol',\n",
       " 'secondary_cleaner.output.tail_ag',\n",
       " 'secondary_cleaner.output.tail_au',\n",
       " 'secondary_cleaner.output.tail_pb',\n",
       " 'secondary_cleaner.output.tail_sol'}"
      ]
     },
     "metadata": {},
     "output_type": "display_data"
    }
   ],
   "source": [
    "display(dif_list)"
   ]
  },
  {
   "cell_type": "code",
   "execution_count": 12,
   "metadata": {},
   "outputs": [
    {
     "name": "stdout",
     "output_type": "stream",
     "text": [
      "\n",
      "Отсутствующих признаков: 34\n"
     ]
    }
   ],
   "source": [
    "print('\\nОтсутствующих признаков:', len(dif_list))"
   ]
  },
  {
   "cell_type": "markdown",
   "metadata": {},
   "source": [
    "Пропуски обработаем. Данные индексируются датой и временем получения информации. Соседние по времени параметры похожии. Заменим их ближайшими методом bfill. Посмотрим размер выборок."
   ]
  },
  {
   "cell_type": "code",
   "execution_count": 13,
   "metadata": {},
   "outputs": [],
   "source": [
    "data_train = data_train.fillna(method='bfill')\n",
    "data_test = data_test.fillna(method='bfill')\n",
    "data_full = data_full.fillna(method='bfill')"
   ]
  },
  {
   "cell_type": "code",
   "execution_count": 14,
   "metadata": {},
   "outputs": [
    {
     "name": "stdout",
     "output_type": "stream",
     "text": [
      "Количество строк с пропусками в data_test 0\n",
      "Количество строк с пропусками в data_train 0\n",
      "Количество строк с пропусками в data_full 0\n"
     ]
    }
   ],
   "source": [
    "print('Количество строк с пропусками в data_test', data_test.isna().sum().sum())\n",
    "print('Количество строк с пропусками в data_train', data_train.isna().sum().sum())\n",
    "print('Количество строк с пропусками в data_full', data_full.isna().sum().sum())"
   ]
  },
  {
   "cell_type": "markdown",
   "metadata": {},
   "source": [
    "Итак, в тестовой выборке 34 отсутствующих признака. Так, в основном отсутствуют значения по типам параметров продуктов. Важный момент - это отсутствие целевых признаков для модели и результата - rougher.output.recovery, final.output.recovery. Данные можно получить только после измерений.\n",
    "\n",
    "Но для проверки качества оценки модели они нам нужны. Поэтому в тестовый файл для формирования выборки их добавим."
   ]
  },
  {
   "cell_type": "code",
   "execution_count": 15,
   "metadata": {},
   "outputs": [],
   "source": [
    "# добавим данные в data_test\n",
    "data_test = data_test.merge(data_full[['rougher.output.recovery','final.output.recovery','date']], how='left', on='date')"
   ]
  },
  {
   "cell_type": "markdown",
   "metadata": {},
   "source": [
    "Для обучения данные столбца date нам не потребуются. Можно удалить."
   ]
  },
  {
   "cell_type": "code",
   "execution_count": 16,
   "metadata": {},
   "outputs": [],
   "source": [
    "data_train = data_train.drop('date', axis=1)\n",
    "data_test = data_test.drop('date', axis=1)"
   ]
  },
  {
   "cell_type": "code",
   "execution_count": 17,
   "metadata": {},
   "outputs": [
    {
     "data": {
      "text/plain": [
       "((14149, 86), (5290, 54))"
      ]
     },
     "execution_count": 17,
     "metadata": {},
     "output_type": "execute_result"
    }
   ],
   "source": [
    "data_train.shape, data_test.shape"
   ]
  },
  {
   "cell_type": "markdown",
   "metadata": {},
   "source": [
    "Итак, открыты файлы и изучены основные данные.\n",
    "\n",
    "Проведена минимальная предобработка. Методом bfill заменены пропуски. Удален ненужный для обучения столбец. Проверен расчёт эффективности обогащения. Вычислено значение MAE между данными и расчётными значениями эффективности - MAE - 9.73512347450521e-15. Эффективность обогащения рассчитана правильно. Проанализированы поля недоступные в тестовой выборке, где отсутствуют целевые признаки для моделей 'rougher.output.recovery', 'final.output.recovery'. Для проверки качества оценки модели поля 'rougher.output.recovery', 'final.output.recovery' добавлены в тестовый файл."
   ]
  },
  {
   "cell_type": "markdown",
   "metadata": {},
   "source": [
    "## Анализ данных"
   ]
  },
  {
   "cell_type": "markdown",
   "metadata": {},
   "source": [
    "### Концентрация металлов (Au, Ag, Pb) на различных этапах очистки"
   ]
  },
  {
   "cell_type": "markdown",
   "metadata": {},
   "source": [
    "Концентрация золота (Au) на различных этапах очистки."
   ]
  },
  {
   "cell_type": "code",
   "execution_count": 18,
   "metadata": {},
   "outputs": [
    {
     "data": {
      "image/png": "[encoded data removed]",
      "text/plain": [
       "<Figure size 1152x360 with 1 Axes>"
      ]
     },
     "metadata": {
      "needs_background": "light"
     },
     "output_type": "display_data"
    }
   ],
   "source": [
    "# построим графики\n",
    "\n",
    "plt.figure(figsize=(16,5))\n",
    "plt.title ('График концентрации AU на различных этапах очистки.', fontsize=16)\n",
    "plt.xlabel('Количество металла', fontsize=10)\n",
    "plt.ylabel('Частота', fontsize=10)\n",
    "\n",
    "sns.histplot(data_train['rougher.input.feed_au'], label='Исходное сырье', color='k', alpha=0.4)\n",
    "sns.histplot(data_train['rougher.output.concentrate_au'], label='Концентрация после флотации', color='c', alpha=0.4)\n",
    "sns.histplot(data_train['primary_cleaner.output.concentrate_au'], label='Концентрация после 1-ой очистки', color='b', alpha=0.4)\n",
    "sns.histplot(data_train['final.output.concentrate_au'], label='Концентрация после финальной осчистки', color='m', alpha=0.4)\n",
    "\n",
    "plt.legend(loc='upper left')\n",
    "plt.show()"
   ]
  },
  {
   "cell_type": "code",
   "execution_count": 19,
   "metadata": {},
   "outputs": [
    {
     "data": {
      "text/plain": [
       "rougher.output.concentrate_au            19.439958\n",
       "primary_cleaner.output.concentrate_au    32.386836\n",
       "final.output.concentrate_au              44.003792\n",
       "dtype: float64"
      ]
     },
     "execution_count": 19,
     "metadata": {},
     "output_type": "execute_result"
    }
   ],
   "source": [
    "data_train[['rougher.output.concentrate_au', 'primary_cleaner.output.concentrate_au', 'final.output.concentrate_au']].mean()"
   ]
  },
  {
   "cell_type": "markdown",
   "metadata": {},
   "source": [
    "Концентрация серебра (Ag) на различных этапах очистки."
   ]
  },
  {
   "cell_type": "code",
   "execution_count": 20,
   "metadata": {},
   "outputs": [
    {
     "data": {
      "image/png": "[encoded data removed]",
      "text/plain": [
       "<Figure size 1152x360 with 1 Axes>"
      ]
     },
     "metadata": {
      "needs_background": "light"
     },
     "output_type": "display_data"
    }
   ],
   "source": [
    "# построим графики\n",
    "\n",
    "plt.figure(figsize=(16,5))\n",
    "plt.title ('График концентрации AG на различных этапах очистки.', fontsize=16)\n",
    "plt.xlabel('Количество металла', fontsize=10)\n",
    "plt.ylabel('Частота', fontsize=10)\n",
    "\n",
    "sns.histplot(data_train['rougher.input.feed_ag'], label='Исходное сырье', color='k', alpha=0.4)\n",
    "sns.histplot(data_train['rougher.output.concentrate_ag'], label='Концентрация после флотации', color='c', alpha=0.4)\n",
    "sns.histplot(data_train['primary_cleaner.output.concentrate_ag'], label='Концентрация после 1-ой очистки', color='b', alpha=0.4)\n",
    "sns.histplot(data_train['final.output.concentrate_ag'], label='Концентрация после финальной осчистки', color='m', alpha=0.4)\n",
    "\n",
    "plt.legend(loc='upper right')\n",
    "plt.show()"
   ]
  },
  {
   "cell_type": "code",
   "execution_count": 21,
   "metadata": {},
   "outputs": [
    {
     "data": {
      "text/plain": [
       "rougher.output.concentrate_ag            11.775812\n",
       "primary_cleaner.output.concentrate_ag     8.200916\n",
       "final.output.concentrate_ag               5.141915\n",
       "dtype: float64"
      ]
     },
     "execution_count": 21,
     "metadata": {},
     "output_type": "execute_result"
    }
   ],
   "source": [
    "data_train[['rougher.output.concentrate_ag', 'primary_cleaner.output.concentrate_ag', 'final.output.concentrate_ag']].mean()"
   ]
  },
  {
   "cell_type": "markdown",
   "metadata": {},
   "source": [
    "Концентрация свинца (PB) на различных этапах очистки."
   ]
  },
  {
   "cell_type": "code",
   "execution_count": 22,
   "metadata": {},
   "outputs": [
    {
     "data": {
      "image/png": "[encoded data removed]",
      "text/plain": [
       "<Figure size 1152x360 with 1 Axes>"
      ]
     },
     "metadata": {
      "needs_background": "light"
     },
     "output_type": "display_data"
    }
   ],
   "source": [
    "# построим графики\n",
    "\n",
    "plt.figure(figsize=(16,5))\n",
    "plt.title ('График концентрации PB на различных этапах очистки.', fontsize=16)\n",
    "plt.xlabel('Количество металла', fontsize=10)\n",
    "plt.ylabel('Частота', fontsize=10)\n",
    "\n",
    "sns.histplot(data_train['rougher.input.feed_pb'], label='Исходное сырье', color='k', alpha=0.4)\n",
    "sns.histplot(data_train['rougher.output.concentrate_pb'], label='Концентрация после флотации', color='c', alpha=0.4)\n",
    "sns.histplot(data_train['primary_cleaner.output.concentrate_pb'], label='Концентрация после 1-ой очистки', color='b', alpha=0.4)\n",
    "sns.histplot(data_train['final.output.concentrate_pb'], label='Концентрация после финальной очистки', color='m', alpha=0.4)\n",
    "\n",
    "plt.legend(loc='upper right')\n",
    "plt.show()"
   ]
  },
  {
   "cell_type": "code",
   "execution_count": 23,
   "metadata": {},
   "outputs": [
    {
     "data": {
      "text/plain": [
       "rougher.output.concentrate_pb             7.664555\n",
       "primary_cleaner.output.concentrate_pb     9.568457\n",
       "final.output.concentrate_pb              10.132841\n",
       "dtype: float64"
      ]
     },
     "execution_count": 23,
     "metadata": {},
     "output_type": "execute_result"
    }
   ],
   "source": [
    "data_train[['rougher.output.concentrate_pb', 'primary_cleaner.output.concentrate_pb', 'final.output.concentrate_pb']].mean()"
   ]
  },
  {
   "cell_type": "markdown",
   "metadata": {},
   "source": [
    "- Концентрация золота постепенно увеличивается на каждом этапе обработки сырья. \n",
    "\n",
    "- Концентрация серебра увеличивается на этапе флотации, затем уменьшается.\n",
    "\n",
    "- Концентрация свинца сначала увеличивается на этапе флотации, затем остатется примерно на одном уровне.\n",
    "\n",
    "В данных для металлов есть нулевые аномалии, выбросы. Их удалим из выборок для обучения."
   ]
  },
  {
   "cell_type": "markdown",
   "metadata": {},
   "source": [
    "### Распределения размеров гранул на обучающей и тестовой выборках"
   ]
  },
  {
   "cell_type": "markdown",
   "metadata": {},
   "source": [
    "Сравним распределения размеров гранул сырья на обучающей и тестовой выборках."
   ]
  },
  {
   "cell_type": "code",
   "execution_count": 24,
   "metadata": {},
   "outputs": [
    {
     "data": {
      "image/png": "[encoded data removed]",
      "text/plain": [
       "<Figure size 1152x360 with 1 Axes>"
      ]
     },
     "metadata": {
      "needs_background": "light"
     },
     "output_type": "display_data"
    }
   ],
   "source": [
    "plt.figure(figsize=(16, 5))\n",
    "\n",
    "sns.kdeplot(data_train['rougher.input.feed_size'], label='train rougher.input.feed_size', color='b', alpha=0.3, shade=True)\n",
    "sns.kdeplot(data_test['rougher.input.feed_size'], label='test rougher.input.feed_size', color='b', alpha=0.3)\n",
    "\n",
    "\n",
    "plt.xlim([0, 160])\n",
    "plt.title(f'График распределения после финальной очистки на обучающей и тестовой выборках', fontsize=12)\n",
    "plt.xlabel('Размер гранул')\n",
    "plt.ylabel('Частота')\n",
    "plt.legend(loc='upper right')\n",
    "\n",
    "plt.show()           "
   ]
  },
  {
   "cell_type": "code",
   "execution_count": 25,
   "metadata": {},
   "outputs": [
    {
     "data": {
      "image/png": "[encoded data removed]",
      "text/plain": [
       "<Figure size 1152x360 with 1 Axes>"
      ]
     },
     "metadata": {
      "needs_background": "light"
     },
     "output_type": "display_data"
    }
   ],
   "source": [
    "plt.figure(figsize=(16, 5))\n",
    "\n",
    "sns.kdeplot(data_train['primary_cleaner.input.feed_size'], label='train rougher.input.feed_size', color='b', alpha=0.3, shade=True)\n",
    "sns.kdeplot(data_test['primary_cleaner.input.feed_size'], label='test rougher.input.feed_size', color='b', alpha=0.3)\n",
    "\n",
    "\n",
    "plt.xlim([5, 15])\n",
    "plt.title(f'График распределения гранул для исходного этапа (флотация) на обучающей и тестовой выборках', fontsize=12)\n",
    "plt.xlabel('Размер гранул')\n",
    "plt.ylabel('Частота')\n",
    "plt.legend(loc='upper right')\n",
    "\n",
    "plt.show()           "
   ]
  },
  {
   "cell_type": "markdown",
   "metadata": {},
   "source": [
    "По графикам распределения размеров гранул сырья на обучающей и тестовой выборках можно сказать, что значимых различий нет.\n",
    "Распределения похожи."
   ]
  },
  {
   "cell_type": "markdown",
   "metadata": {},
   "source": [
    "### Cуммарная концентрация всех веществ на разных стадиях"
   ]
  },
  {
   "cell_type": "markdown",
   "metadata": {},
   "source": [
    "Посчитаем суммарную концентрацию всех веществ на разных стадиях. Это сырье, черновой и финальный концентрат. Найдем значения в суммарном распределении.\n",
    "\n",
    "Вычислим суммарную концентрацию всех элементов на каждом этапе"
   ]
  },
  {
   "cell_type": "code",
   "execution_count": 26,
   "metadata": {},
   "outputs": [],
   "source": [
    "data_full['sum_rougher.input.feed'] = \\\n",
    "                data_full['rougher.input.feed_ag']\\\n",
    "              + data_full['rougher.input.feed_pb']\\\n",
    "              + data_full['rougher.input.feed_sol']\\\n",
    "              + data_full['rougher.input.feed_au']"
   ]
  },
  {
   "cell_type": "code",
   "execution_count": 27,
   "metadata": {},
   "outputs": [],
   "source": [
    "data_full['sum_rougher.output.concentrate'] = \\\n",
    "                data_full['rougher.output.concentrate_ag']\\\n",
    "              + data_full['rougher.output.concentrate_pb']\\\n",
    "              + data_full['rougher.output.concentrate_sol']\\\n",
    "              + data_full['rougher.output.concentrate_au']"
   ]
  },
  {
   "cell_type": "code",
   "execution_count": 28,
   "metadata": {},
   "outputs": [],
   "source": [
    "data_full['sum_final.output.concentrate'] = \\\n",
    "                data_full['final.output.concentrate_ag']\\\n",
    "              + data_full['final.output.concentrate_pb']\\\n",
    "              + data_full['final.output.concentrate_sol']\\\n",
    "              + data_full['final.output.concentrate_au']"
   ]
  },
  {
   "cell_type": "code",
   "execution_count": 29,
   "metadata": {},
   "outputs": [
    {
     "data": {
      "image/png": "[encoded data removed]",
      "text/plain": [
       "<Figure size 1080x360 with 1 Axes>"
      ]
     },
     "metadata": {
      "needs_background": "light"
     },
     "output_type": "display_data"
    }
   ],
   "source": [
    "plt.figure(figsize=(15,5))\n",
    "\n",
    "sns.histplot(data_full['sum_rougher.input.feed'], label='Концентрация после флотации', color='k', alpha=0.4)\n",
    "sns.histplot(data_full['sum_rougher.output.concentrate'], label='Концентрация после 1-ой очистки', color='c', alpha=0.4)\n",
    "sns.histplot(data_full['sum_final.output.concentrate'], label='Финальная концетрация', color='b', alpha=0.4)\n",
    "\n",
    "plt.title('Cуммарная концентрации веществ на разных стадиях', fontsize=12)\n",
    "plt.xlabel('Концентрация', fontsize=15)\n",
    "plt.ylabel('Частота', fontsize=15)\n",
    "plt.legend(loc='upper left')\n",
    "plt.show()"
   ]
  },
  {
   "cell_type": "markdown",
   "metadata": {},
   "source": [
    "Суммарная концентрация веществ увеличивается к финальному этапу. Диапазон распределения суммарной концентрации веществ уменьшается."
   ]
  },
  {
   "cell_type": "markdown",
   "metadata": {},
   "source": [
    "Дополнительно построим диаграмму рассеяния."
   ]
  },
  {
   "cell_type": "code",
   "execution_count": 30,
   "metadata": {},
   "outputs": [
    {
     "data": {
      "image/png": "[encoded data removed]",
      "text/plain": [
       "<Figure size 1440x360 with 1 Axes>"
      ]
     },
     "metadata": {
      "needs_background": "light"
     },
     "output_type": "display_data"
    }
   ],
   "source": [
    "data_full[['sum_rougher.input.feed', 'sum_rougher.output.concentrate', 'sum_final.output.concentrate']].\\\n",
    "boxplot(figsize = (20,5))\n",
    "plt.title('Диаграмма рассеяния концентрации веществ на каждом из этапов', fontsize=12)\n",
    "plt.ylabel('Значения')\n",
    "plt.show()"
   ]
  },
  {
   "cell_type": "markdown",
   "metadata": {},
   "source": [
    "Итак, да логично невысокая частота значений до 40, но с учетом тех. процесса и этапов, обработаем для построения точной модели только аномальные 0 значения."
   ]
  },
  {
   "cell_type": "markdown",
   "metadata": {},
   "source": [
    "Необходимо убрать нулевые значения из выборки"
   ]
  },
  {
   "cell_type": "code",
   "execution_count": 31,
   "metadata": {},
   "outputs": [],
   "source": [
    "data_train = data_train.drop(data_train[data_train['final.output.recovery'] == 0].index)"
   ]
  },
  {
   "cell_type": "code",
   "execution_count": 32,
   "metadata": {},
   "outputs": [
    {
     "data": {
      "text/html": [
       "<div>\n",
       "<style scoped>\n",
       "    .dataframe tbody tr th:only-of-type {\n",
       "        vertical-align: middle;\n",
       "    }\n",
       "\n",
       "    .dataframe tbody tr th {\n",
       "        vertical-align: top;\n",
       "    }\n",
       "\n",
       "    .dataframe thead th {\n",
       "        text-align: right;\n",
       "    }\n",
       "</style>\n",
       "<table border=\"1\" class=\"dataframe\">\n",
       "  <thead>\n",
       "    <tr style=\"text-align: right;\">\n",
       "      <th></th>\n",
       "      <th>final.output.concentrate_ag</th>\n",
       "      <th>final.output.concentrate_pb</th>\n",
       "      <th>final.output.concentrate_sol</th>\n",
       "      <th>final.output.concentrate_au</th>\n",
       "      <th>final.output.recovery</th>\n",
       "      <th>final.output.tail_ag</th>\n",
       "      <th>final.output.tail_pb</th>\n",
       "      <th>final.output.tail_sol</th>\n",
       "      <th>final.output.tail_au</th>\n",
       "      <th>primary_cleaner.input.sulfate</th>\n",
       "      <th>...</th>\n",
       "      <th>secondary_cleaner.state.floatbank4_a_air</th>\n",
       "      <th>secondary_cleaner.state.floatbank4_a_level</th>\n",
       "      <th>secondary_cleaner.state.floatbank4_b_air</th>\n",
       "      <th>secondary_cleaner.state.floatbank4_b_level</th>\n",
       "      <th>secondary_cleaner.state.floatbank5_a_air</th>\n",
       "      <th>secondary_cleaner.state.floatbank5_a_level</th>\n",
       "      <th>secondary_cleaner.state.floatbank5_b_air</th>\n",
       "      <th>secondary_cleaner.state.floatbank5_b_level</th>\n",
       "      <th>secondary_cleaner.state.floatbank6_a_air</th>\n",
       "      <th>secondary_cleaner.state.floatbank6_a_level</th>\n",
       "    </tr>\n",
       "  </thead>\n",
       "  <tbody>\n",
       "  </tbody>\n",
       "</table>\n",
       "<p>0 rows × 86 columns</p>\n",
       "</div>"
      ],
      "text/plain": [
       "Empty DataFrame\n",
       "Columns: [final.output.concentrate_ag, final.output.concentrate_pb, final.output.concentrate_sol, final.output.concentrate_au, final.output.recovery, final.output.tail_ag, final.output.tail_pb, final.output.tail_sol, final.output.tail_au, primary_cleaner.input.sulfate, primary_cleaner.input.depressant, primary_cleaner.input.feed_size, primary_cleaner.input.xanthate, primary_cleaner.output.concentrate_ag, primary_cleaner.output.concentrate_pb, primary_cleaner.output.concentrate_sol, primary_cleaner.output.concentrate_au, primary_cleaner.output.tail_ag, primary_cleaner.output.tail_pb, primary_cleaner.output.tail_sol, primary_cleaner.output.tail_au, primary_cleaner.state.floatbank8_a_air, primary_cleaner.state.floatbank8_a_level, primary_cleaner.state.floatbank8_b_air, primary_cleaner.state.floatbank8_b_level, primary_cleaner.state.floatbank8_c_air, primary_cleaner.state.floatbank8_c_level, primary_cleaner.state.floatbank8_d_air, primary_cleaner.state.floatbank8_d_level, rougher.calculation.sulfate_to_au_concentrate, rougher.calculation.floatbank10_sulfate_to_au_feed, rougher.calculation.floatbank11_sulfate_to_au_feed, rougher.calculation.au_pb_ratio, rougher.input.feed_ag, rougher.input.feed_pb, rougher.input.feed_rate, rougher.input.feed_size, rougher.input.feed_sol, rougher.input.feed_au, rougher.input.floatbank10_sulfate, rougher.input.floatbank10_xanthate, rougher.input.floatbank11_sulfate, rougher.input.floatbank11_xanthate, rougher.output.concentrate_ag, rougher.output.concentrate_pb, rougher.output.concentrate_sol, rougher.output.concentrate_au, rougher.output.recovery, rougher.output.tail_ag, rougher.output.tail_pb, rougher.output.tail_sol, rougher.output.tail_au, rougher.state.floatbank10_a_air, rougher.state.floatbank10_a_level, rougher.state.floatbank10_b_air, rougher.state.floatbank10_b_level, rougher.state.floatbank10_c_air, rougher.state.floatbank10_c_level, rougher.state.floatbank10_d_air, rougher.state.floatbank10_d_level, rougher.state.floatbank10_e_air, rougher.state.floatbank10_e_level, rougher.state.floatbank10_f_air, rougher.state.floatbank10_f_level, secondary_cleaner.output.tail_ag, secondary_cleaner.output.tail_pb, secondary_cleaner.output.tail_sol, secondary_cleaner.output.tail_au, secondary_cleaner.state.floatbank2_a_air, secondary_cleaner.state.floatbank2_a_level, secondary_cleaner.state.floatbank2_b_air, secondary_cleaner.state.floatbank2_b_level, secondary_cleaner.state.floatbank3_a_air, secondary_cleaner.state.floatbank3_a_level, secondary_cleaner.state.floatbank3_b_air, secondary_cleaner.state.floatbank3_b_level, secondary_cleaner.state.floatbank4_a_air, secondary_cleaner.state.floatbank4_a_level, secondary_cleaner.state.floatbank4_b_air, secondary_cleaner.state.floatbank4_b_level, secondary_cleaner.state.floatbank5_a_air, secondary_cleaner.state.floatbank5_a_level, secondary_cleaner.state.floatbank5_b_air, secondary_cleaner.state.floatbank5_b_level, secondary_cleaner.state.floatbank6_a_air, secondary_cleaner.state.floatbank6_a_level]\n",
       "Index: []\n",
       "\n",
       "[0 rows x 86 columns]"
      ]
     },
     "execution_count": 32,
     "metadata": {},
     "output_type": "execute_result"
    }
   ],
   "source": [
    "data_train[data_train['final.output.recovery'] == 0].head()"
   ]
  },
  {
   "cell_type": "code",
   "execution_count": 33,
   "metadata": {},
   "outputs": [
    {
     "data": {
      "text/html": [
       "<div>\n",
       "<style scoped>\n",
       "    .dataframe tbody tr th:only-of-type {\n",
       "        vertical-align: middle;\n",
       "    }\n",
       "\n",
       "    .dataframe tbody tr th {\n",
       "        vertical-align: top;\n",
       "    }\n",
       "\n",
       "    .dataframe thead th {\n",
       "        text-align: right;\n",
       "    }\n",
       "</style>\n",
       "<table border=\"1\" class=\"dataframe\">\n",
       "  <thead>\n",
       "    <tr style=\"text-align: right;\">\n",
       "      <th></th>\n",
       "      <th>final.output.concentrate_ag</th>\n",
       "      <th>final.output.concentrate_pb</th>\n",
       "      <th>final.output.concentrate_sol</th>\n",
       "      <th>final.output.concentrate_au</th>\n",
       "      <th>final.output.recovery</th>\n",
       "      <th>final.output.tail_ag</th>\n",
       "      <th>final.output.tail_pb</th>\n",
       "      <th>final.output.tail_sol</th>\n",
       "      <th>final.output.tail_au</th>\n",
       "      <th>primary_cleaner.input.sulfate</th>\n",
       "      <th>...</th>\n",
       "      <th>secondary_cleaner.state.floatbank4_a_air</th>\n",
       "      <th>secondary_cleaner.state.floatbank4_a_level</th>\n",
       "      <th>secondary_cleaner.state.floatbank4_b_air</th>\n",
       "      <th>secondary_cleaner.state.floatbank4_b_level</th>\n",
       "      <th>secondary_cleaner.state.floatbank5_a_air</th>\n",
       "      <th>secondary_cleaner.state.floatbank5_a_level</th>\n",
       "      <th>secondary_cleaner.state.floatbank5_b_air</th>\n",
       "      <th>secondary_cleaner.state.floatbank5_b_level</th>\n",
       "      <th>secondary_cleaner.state.floatbank6_a_air</th>\n",
       "      <th>secondary_cleaner.state.floatbank6_a_level</th>\n",
       "    </tr>\n",
       "  </thead>\n",
       "  <tbody>\n",
       "  </tbody>\n",
       "</table>\n",
       "<p>0 rows × 86 columns</p>\n",
       "</div>"
      ],
      "text/plain": [
       "Empty DataFrame\n",
       "Columns: [final.output.concentrate_ag, final.output.concentrate_pb, final.output.concentrate_sol, final.output.concentrate_au, final.output.recovery, final.output.tail_ag, final.output.tail_pb, final.output.tail_sol, final.output.tail_au, primary_cleaner.input.sulfate, primary_cleaner.input.depressant, primary_cleaner.input.feed_size, primary_cleaner.input.xanthate, primary_cleaner.output.concentrate_ag, primary_cleaner.output.concentrate_pb, primary_cleaner.output.concentrate_sol, primary_cleaner.output.concentrate_au, primary_cleaner.output.tail_ag, primary_cleaner.output.tail_pb, primary_cleaner.output.tail_sol, primary_cleaner.output.tail_au, primary_cleaner.state.floatbank8_a_air, primary_cleaner.state.floatbank8_a_level, primary_cleaner.state.floatbank8_b_air, primary_cleaner.state.floatbank8_b_level, primary_cleaner.state.floatbank8_c_air, primary_cleaner.state.floatbank8_c_level, primary_cleaner.state.floatbank8_d_air, primary_cleaner.state.floatbank8_d_level, rougher.calculation.sulfate_to_au_concentrate, rougher.calculation.floatbank10_sulfate_to_au_feed, rougher.calculation.floatbank11_sulfate_to_au_feed, rougher.calculation.au_pb_ratio, rougher.input.feed_ag, rougher.input.feed_pb, rougher.input.feed_rate, rougher.input.feed_size, rougher.input.feed_sol, rougher.input.feed_au, rougher.input.floatbank10_sulfate, rougher.input.floatbank10_xanthate, rougher.input.floatbank11_sulfate, rougher.input.floatbank11_xanthate, rougher.output.concentrate_ag, rougher.output.concentrate_pb, rougher.output.concentrate_sol, rougher.output.concentrate_au, rougher.output.recovery, rougher.output.tail_ag, rougher.output.tail_pb, rougher.output.tail_sol, rougher.output.tail_au, rougher.state.floatbank10_a_air, rougher.state.floatbank10_a_level, rougher.state.floatbank10_b_air, rougher.state.floatbank10_b_level, rougher.state.floatbank10_c_air, rougher.state.floatbank10_c_level, rougher.state.floatbank10_d_air, rougher.state.floatbank10_d_level, rougher.state.floatbank10_e_air, rougher.state.floatbank10_e_level, rougher.state.floatbank10_f_air, rougher.state.floatbank10_f_level, secondary_cleaner.output.tail_ag, secondary_cleaner.output.tail_pb, secondary_cleaner.output.tail_sol, secondary_cleaner.output.tail_au, secondary_cleaner.state.floatbank2_a_air, secondary_cleaner.state.floatbank2_a_level, secondary_cleaner.state.floatbank2_b_air, secondary_cleaner.state.floatbank2_b_level, secondary_cleaner.state.floatbank3_a_air, secondary_cleaner.state.floatbank3_a_level, secondary_cleaner.state.floatbank3_b_air, secondary_cleaner.state.floatbank3_b_level, secondary_cleaner.state.floatbank4_a_air, secondary_cleaner.state.floatbank4_a_level, secondary_cleaner.state.floatbank4_b_air, secondary_cleaner.state.floatbank4_b_level, secondary_cleaner.state.floatbank5_a_air, secondary_cleaner.state.floatbank5_a_level, secondary_cleaner.state.floatbank5_b_air, secondary_cleaner.state.floatbank5_b_level, secondary_cleaner.state.floatbank6_a_air, secondary_cleaner.state.floatbank6_a_level]\n",
       "Index: []\n",
       "\n",
       "[0 rows x 86 columns]"
      ]
     },
     "execution_count": 33,
     "metadata": {},
     "output_type": "execute_result"
    }
   ],
   "source": [
    "data_train = data_train.drop(data_train[data_train['rougher.output.recovery'] == 0].index)\n",
    "data_train[data_train['rougher.output.recovery'] < 1].head()"
   ]
  },
  {
   "cell_type": "code",
   "execution_count": 34,
   "metadata": {},
   "outputs": [
    {
     "data": {
      "text/html": [
       "<div>\n",
       "<style scoped>\n",
       "    .dataframe tbody tr th:only-of-type {\n",
       "        vertical-align: middle;\n",
       "    }\n",
       "\n",
       "    .dataframe tbody tr th {\n",
       "        vertical-align: top;\n",
       "    }\n",
       "\n",
       "    .dataframe thead th {\n",
       "        text-align: right;\n",
       "    }\n",
       "</style>\n",
       "<table border=\"1\" class=\"dataframe\">\n",
       "  <thead>\n",
       "    <tr style=\"text-align: right;\">\n",
       "      <th></th>\n",
       "      <th>final.output.concentrate_ag</th>\n",
       "      <th>final.output.concentrate_pb</th>\n",
       "      <th>final.output.concentrate_sol</th>\n",
       "      <th>final.output.concentrate_au</th>\n",
       "      <th>final.output.recovery</th>\n",
       "      <th>final.output.tail_ag</th>\n",
       "      <th>final.output.tail_pb</th>\n",
       "      <th>final.output.tail_sol</th>\n",
       "      <th>final.output.tail_au</th>\n",
       "      <th>primary_cleaner.input.sulfate</th>\n",
       "      <th>...</th>\n",
       "      <th>secondary_cleaner.state.floatbank4_a_air</th>\n",
       "      <th>secondary_cleaner.state.floatbank4_a_level</th>\n",
       "      <th>secondary_cleaner.state.floatbank4_b_air</th>\n",
       "      <th>secondary_cleaner.state.floatbank4_b_level</th>\n",
       "      <th>secondary_cleaner.state.floatbank5_a_air</th>\n",
       "      <th>secondary_cleaner.state.floatbank5_a_level</th>\n",
       "      <th>secondary_cleaner.state.floatbank5_b_air</th>\n",
       "      <th>secondary_cleaner.state.floatbank5_b_level</th>\n",
       "      <th>secondary_cleaner.state.floatbank6_a_air</th>\n",
       "      <th>secondary_cleaner.state.floatbank6_a_level</th>\n",
       "    </tr>\n",
       "  </thead>\n",
       "  <tbody>\n",
       "    <tr>\n",
       "      <th>0</th>\n",
       "      <td>6.055403</td>\n",
       "      <td>9.889648</td>\n",
       "      <td>5.507324</td>\n",
       "      <td>42.192020</td>\n",
       "      <td>70.541216</td>\n",
       "      <td>10.411962</td>\n",
       "      <td>0.895447</td>\n",
       "      <td>16.904297</td>\n",
       "      <td>2.143149</td>\n",
       "      <td>127.092003</td>\n",
       "      <td>...</td>\n",
       "      <td>14.016835</td>\n",
       "      <td>-502.488007</td>\n",
       "      <td>12.099931</td>\n",
       "      <td>-504.715942</td>\n",
       "      <td>9.925633</td>\n",
       "      <td>-498.310211</td>\n",
       "      <td>8.079666</td>\n",
       "      <td>-500.470978</td>\n",
       "      <td>14.151341</td>\n",
       "      <td>-605.841980</td>\n",
       "    </tr>\n",
       "    <tr>\n",
       "      <th>1</th>\n",
       "      <td>6.029369</td>\n",
       "      <td>9.968944</td>\n",
       "      <td>5.257781</td>\n",
       "      <td>42.701629</td>\n",
       "      <td>69.266198</td>\n",
       "      <td>10.462676</td>\n",
       "      <td>0.927452</td>\n",
       "      <td>16.634514</td>\n",
       "      <td>2.224930</td>\n",
       "      <td>125.629232</td>\n",
       "      <td>...</td>\n",
       "      <td>13.992281</td>\n",
       "      <td>-505.503262</td>\n",
       "      <td>11.950531</td>\n",
       "      <td>-501.331529</td>\n",
       "      <td>10.039245</td>\n",
       "      <td>-500.169983</td>\n",
       "      <td>7.984757</td>\n",
       "      <td>-500.582168</td>\n",
       "      <td>13.998353</td>\n",
       "      <td>-599.787184</td>\n",
       "    </tr>\n",
       "    <tr>\n",
       "      <th>2</th>\n",
       "      <td>6.055926</td>\n",
       "      <td>10.213995</td>\n",
       "      <td>5.383759</td>\n",
       "      <td>42.657501</td>\n",
       "      <td>68.116445</td>\n",
       "      <td>10.507046</td>\n",
       "      <td>0.953716</td>\n",
       "      <td>16.208849</td>\n",
       "      <td>2.257889</td>\n",
       "      <td>123.819808</td>\n",
       "      <td>...</td>\n",
       "      <td>14.015015</td>\n",
       "      <td>-502.520901</td>\n",
       "      <td>11.912783</td>\n",
       "      <td>-501.133383</td>\n",
       "      <td>10.070913</td>\n",
       "      <td>-500.129135</td>\n",
       "      <td>8.013877</td>\n",
       "      <td>-500.517572</td>\n",
       "      <td>14.028663</td>\n",
       "      <td>-601.427363</td>\n",
       "    </tr>\n",
       "    <tr>\n",
       "      <th>3</th>\n",
       "      <td>6.047977</td>\n",
       "      <td>9.977019</td>\n",
       "      <td>4.858634</td>\n",
       "      <td>42.689819</td>\n",
       "      <td>68.347543</td>\n",
       "      <td>10.422762</td>\n",
       "      <td>0.883763</td>\n",
       "      <td>16.532835</td>\n",
       "      <td>2.146849</td>\n",
       "      <td>122.270188</td>\n",
       "      <td>...</td>\n",
       "      <td>14.036510</td>\n",
       "      <td>-500.857308</td>\n",
       "      <td>11.999550</td>\n",
       "      <td>-501.193686</td>\n",
       "      <td>9.970366</td>\n",
       "      <td>-499.201640</td>\n",
       "      <td>7.977324</td>\n",
       "      <td>-500.255908</td>\n",
       "      <td>14.005551</td>\n",
       "      <td>-599.996129</td>\n",
       "    </tr>\n",
       "    <tr>\n",
       "      <th>4</th>\n",
       "      <td>6.148599</td>\n",
       "      <td>10.142511</td>\n",
       "      <td>4.939416</td>\n",
       "      <td>42.774141</td>\n",
       "      <td>66.927016</td>\n",
       "      <td>10.360302</td>\n",
       "      <td>0.792826</td>\n",
       "      <td>16.525686</td>\n",
       "      <td>2.055292</td>\n",
       "      <td>117.988169</td>\n",
       "      <td>...</td>\n",
       "      <td>14.027298</td>\n",
       "      <td>-499.838632</td>\n",
       "      <td>11.953070</td>\n",
       "      <td>-501.053894</td>\n",
       "      <td>9.925709</td>\n",
       "      <td>-501.686727</td>\n",
       "      <td>7.894242</td>\n",
       "      <td>-500.356035</td>\n",
       "      <td>13.996647</td>\n",
       "      <td>-601.496691</td>\n",
       "    </tr>\n",
       "  </tbody>\n",
       "</table>\n",
       "<p>5 rows × 86 columns</p>\n",
       "</div>"
      ],
      "text/plain": [
       "   final.output.concentrate_ag  final.output.concentrate_pb  \\\n",
       "0                     6.055403                     9.889648   \n",
       "1                     6.029369                     9.968944   \n",
       "2                     6.055926                    10.213995   \n",
       "3                     6.047977                     9.977019   \n",
       "4                     6.148599                    10.142511   \n",
       "\n",
       "   final.output.concentrate_sol  final.output.concentrate_au  \\\n",
       "0                      5.507324                    42.192020   \n",
       "1                      5.257781                    42.701629   \n",
       "2                      5.383759                    42.657501   \n",
       "3                      4.858634                    42.689819   \n",
       "4                      4.939416                    42.774141   \n",
       "\n",
       "   final.output.recovery  final.output.tail_ag  final.output.tail_pb  \\\n",
       "0              70.541216             10.411962              0.895447   \n",
       "1              69.266198             10.462676              0.927452   \n",
       "2              68.116445             10.507046              0.953716   \n",
       "3              68.347543             10.422762              0.883763   \n",
       "4              66.927016             10.360302              0.792826   \n",
       "\n",
       "   final.output.tail_sol  final.output.tail_au  primary_cleaner.input.sulfate  \\\n",
       "0              16.904297              2.143149                     127.092003   \n",
       "1              16.634514              2.224930                     125.629232   \n",
       "2              16.208849              2.257889                     123.819808   \n",
       "3              16.532835              2.146849                     122.270188   \n",
       "4              16.525686              2.055292                     117.988169   \n",
       "\n",
       "   ...  secondary_cleaner.state.floatbank4_a_air  \\\n",
       "0  ...                                 14.016835   \n",
       "1  ...                                 13.992281   \n",
       "2  ...                                 14.015015   \n",
       "3  ...                                 14.036510   \n",
       "4  ...                                 14.027298   \n",
       "\n",
       "   secondary_cleaner.state.floatbank4_a_level  \\\n",
       "0                                 -502.488007   \n",
       "1                                 -505.503262   \n",
       "2                                 -502.520901   \n",
       "3                                 -500.857308   \n",
       "4                                 -499.838632   \n",
       "\n",
       "   secondary_cleaner.state.floatbank4_b_air  \\\n",
       "0                                 12.099931   \n",
       "1                                 11.950531   \n",
       "2                                 11.912783   \n",
       "3                                 11.999550   \n",
       "4                                 11.953070   \n",
       "\n",
       "   secondary_cleaner.state.floatbank4_b_level  \\\n",
       "0                                 -504.715942   \n",
       "1                                 -501.331529   \n",
       "2                                 -501.133383   \n",
       "3                                 -501.193686   \n",
       "4                                 -501.053894   \n",
       "\n",
       "   secondary_cleaner.state.floatbank5_a_air  \\\n",
       "0                                  9.925633   \n",
       "1                                 10.039245   \n",
       "2                                 10.070913   \n",
       "3                                  9.970366   \n",
       "4                                  9.925709   \n",
       "\n",
       "   secondary_cleaner.state.floatbank5_a_level  \\\n",
       "0                                 -498.310211   \n",
       "1                                 -500.169983   \n",
       "2                                 -500.129135   \n",
       "3                                 -499.201640   \n",
       "4                                 -501.686727   \n",
       "\n",
       "   secondary_cleaner.state.floatbank5_b_air  \\\n",
       "0                                  8.079666   \n",
       "1                                  7.984757   \n",
       "2                                  8.013877   \n",
       "3                                  7.977324   \n",
       "4                                  7.894242   \n",
       "\n",
       "   secondary_cleaner.state.floatbank5_b_level  \\\n",
       "0                                 -500.470978   \n",
       "1                                 -500.582168   \n",
       "2                                 -500.517572   \n",
       "3                                 -500.255908   \n",
       "4                                 -500.356035   \n",
       "\n",
       "   secondary_cleaner.state.floatbank6_a_air  \\\n",
       "0                                 14.151341   \n",
       "1                                 13.998353   \n",
       "2                                 14.028663   \n",
       "3                                 14.005551   \n",
       "4                                 13.996647   \n",
       "\n",
       "   secondary_cleaner.state.floatbank6_a_level  \n",
       "0                                 -605.841980  \n",
       "1                                 -599.787184  \n",
       "2                                 -601.427363  \n",
       "3                                 -599.996129  \n",
       "4                                 -601.496691  \n",
       "\n",
       "[5 rows x 86 columns]"
      ]
     },
     "execution_count": 34,
     "metadata": {},
     "output_type": "execute_result"
    }
   ],
   "source": [
    "data_train.head()"
   ]
  },
  {
   "cell_type": "code",
   "execution_count": 34,
   "metadata": {},
   "outputs": [],
   "source": [
    "data_train = data_train[(data_train['rougher.output.concentrate_au'] != 0) & (data_train['rougher.output.concentrate_ag'] != 0) & (data_train['rougher.output.concentrate_pb'] != 0) & (data_train['rougher.output.concentrate_sol'] != 0)]\n",
    "data_train = data_train[(data_train['final.output.concentrate_au'] != 0) & (data_train['final.output.concentrate_ag'] != 0) & (data_train['final.output.concentrate_pb'] != 0) & (data_train['final.output.concentrate_sol'] != 0)]"
   ]
  },
  {
   "cell_type": "code",
   "execution_count": 35,
   "metadata": {},
   "outputs": [],
   "source": [
    "data_train = data_train[(data_train['rougher.output.concentrate_au'] != 0) & (data_train['rougher.output.concentrate_ag'] != 0) & (data_train['rougher.output.concentrate_pb'] != 0) & (data_train['rougher.output.concentrate_sol'] != 0)]\n",
    "data_train = data_train[(data_train['final.output.concentrate_au'] != 0) & (data_train['final.output.concentrate_ag'] != 0) & (data_train['final.output.concentrate_pb'] != 0) & (data_train['final.output.concentrate_sol'] != 0)]"
   ]
  },
  {
   "cell_type": "code",
   "execution_count": 36,
   "metadata": {},
   "outputs": [],
   "source": [
    "data_full = data_full[(data_full['rougher.input.feed_au'] != 0) & (data_full['rougher.input.feed_ag'] != 0) & (data_full['rougher.input.feed_pb'] != 0) & (data_full['rougher.input.feed_sol'] != 0)]\n",
    "data_train = data_train[(data_train['rougher.input.feed_au'] != 0) & (data_train['rougher.input.feed_ag'] != 0) & (data_train['rougher.input.feed_pb'] != 0) & (data_train['rougher.input.feed_sol'] != 0)]"
   ]
  },
  {
   "cell_type": "markdown",
   "metadata": {},
   "source": [
    "Также для таргета final есть большое количество выбросов от нуля до 45. Удалим выбросы попадающие в этот промежуток."
   ]
  },
  {
   "cell_type": "code",
   "execution_count": 37,
   "metadata": {},
   "outputs": [
    {
     "data": {
      "image/png": "[encoded data removed]",
      "text/plain": [
       "<Figure size 432x288 with 1 Axes>"
      ]
     },
     "metadata": {
      "needs_background": "light"
     },
     "output_type": "display_data"
    }
   ],
   "source": [
    "h = data_train['final.output.recovery'].hist()\n",
    "fig = h.get_figure()\n",
    "plt.title('Распределение final.output.recovery')\n",
    "plt.xlabel('Значение')\n",
    "plt.ylabel('Частота')\n",
    "plt.show()"
   ]
  },
  {
   "cell_type": "markdown",
   "metadata": {},
   "source": [
    "Не совсем понятно. Посмтроим с помощью sns.kdeplot"
   ]
  },
  {
   "cell_type": "code",
   "execution_count": 38,
   "metadata": {},
   "outputs": [
    {
     "data": {
      "image/png": "[encoded data removed]",
      "text/plain": [
       "<Figure size 432x288 with 1 Axes>"
      ]
     },
     "metadata": {
      "needs_background": "light"
     },
     "output_type": "display_data"
    }
   ],
   "source": [
    "snsplot = sns.kdeplot(data_train['final.output.recovery'], shade=True)\n",
    "fig = snsplot.get_figure()\n",
    "plt.title('Распределение final.output.recovery')\n",
    "plt.xlabel('Значение')\n",
    "plt.ylabel('Частота')\n",
    "plt.show()"
   ]
  },
  {
   "cell_type": "code",
   "execution_count": 39,
   "metadata": {},
   "outputs": [],
   "source": [
    "data_train = data_train[(data_train['final.output.recovery'] < 90)]"
   ]
  },
  {
   "cell_type": "code",
   "execution_count": 40,
   "metadata": {},
   "outputs": [
    {
     "data": {
      "image/png": "[encoded data removed]",
      "text/plain": [
       "<Figure size 432x288 with 1 Axes>"
      ]
     },
     "metadata": {
      "needs_background": "light"
     },
     "output_type": "display_data"
    }
   ],
   "source": [
    "snsplot = sns.kdeplot(data_train['final.output.recovery'], shade=True)\n",
    "fig = snsplot.get_figure()\n",
    "plt.title('Распределение final.output.recovery')\n",
    "plt.xlabel('Значение')\n",
    "plt.ylabel('Частота')\n",
    "plt.show()"
   ]
  },
  {
   "cell_type": "markdown",
   "metadata": {},
   "source": [
    "Концентрация золота увеличивается с каждым этапом обработки. На всех графиках концентрации сырья видны значения равные нулю, они в обучении не нужны. Удалены аномальные значения из признаков final.output.recovery, rougher.input.feed_металл\n",
    "\n",
    "Построены графики распределения плотности вероятности значений размеров гранул на входе в этапы флотации и финальной очистки выборок. Распределения похожи - размеров сырья в выборках однороден. "
   ]
  },
  {
   "cell_type": "markdown",
   "metadata": {},
   "source": [
    "## Модель"
   ]
  },
  {
   "cell_type": "markdown",
   "metadata": {},
   "source": [
    "Удалим столбцы, которых нет в тестовой"
   ]
  },
  {
   "cell_type": "code",
   "execution_count": 41,
   "metadata": {},
   "outputs": [],
   "source": [
    "delete_target = dif_list - set(['rougher.output.recovery','final.output.recovery'])"
   ]
  },
  {
   "cell_type": "code",
   "execution_count": 42,
   "metadata": {},
   "outputs": [],
   "source": [
    "data_train = data_train.drop(columns=delete_target, axis=1)"
   ]
  },
  {
   "cell_type": "markdown",
   "metadata": {},
   "source": [
    "Напишем функцию для sMAPE "
   ]
  },
  {
   "cell_type": "code",
   "execution_count": 43,
   "metadata": {},
   "outputs": [],
   "source": [
    "def smape(target, predict):\n",
    "    smape = (1/len(target))*np.sum((np.abs(target - predict))/( (np.abs(target)+np.abs(predict))/2))*100\n",
    "    return smape"
   ]
  },
  {
   "cell_type": "code",
   "execution_count": 44,
   "metadata": {},
   "outputs": [],
   "source": [
    "smape_scorer = make_scorer(smape, greater_is_better = False)"
   ]
  },
  {
   "cell_type": "markdown",
   "metadata": {},
   "source": [
    "Напишем функцию для вычисления суммарного sMAPE"
   ]
  },
  {
   "cell_type": "code",
   "execution_count": 45,
   "metadata": {},
   "outputs": [],
   "source": [
    "def final_smape(rougher, final):\n",
    "    final = 0.25*rougher+0.75*final\n",
    "    return final"
   ]
  },
  {
   "cell_type": "markdown",
   "metadata": {},
   "source": [
    "Определим столбцы для обучения"
   ]
  },
  {
   "cell_type": "code",
   "execution_count": 46,
   "metadata": {},
   "outputs": [],
   "source": [
    "features_train = data_train.drop(['rougher.output.recovery','final.output.recovery'], axis=1)\n",
    "target_for_rougher = data_train['rougher.output.recovery']\n",
    "target_for_final = data_train['final.output.recovery']"
   ]
  },
  {
   "cell_type": "markdown",
   "metadata": {},
   "source": [
    "Выведем метрику модели на кросс-валидации. И в итоге посчитаем взвешенную метрику. Используя инструмент smape_scorer оценим качество, т.к это регрессия, параметр должен быть низким (метрика отрицательная, умножим на -1)"
   ]
  },
  {
   "cell_type": "markdown",
   "metadata": {},
   "source": [
    "**Модель LinearRegression**"
   ]
  },
  {
   "cell_type": "code",
   "execution_count": 47,
   "metadata": {},
   "outputs": [],
   "source": [
    "model_lr_rougher = LinearRegression()\n",
    "smape_rougher = cross_val_score(model_lr_rougher,\n",
    "                          features_train,\n",
    "                          target_for_rougher,\n",
    "                          scoring=smape_scorer,\n",
    "                          cv=5)\n",
    "final_smape_rougher = smape_rougher.mean()\n",
    "model_lr_final = LinearRegression()\n",
    "smape_final = cross_val_score(model_lr_final,\n",
    "                        features_train,\n",
    "                        target_for_final,\n",
    "                        scoring=smape_scorer,\n",
    "                        cv=5)\n",
    "final_smape_final = smape_final.mean()\n",
    "result_smape = final_smape(final_smape_rougher, final_smape_final)*(-1)"
   ]
  },
  {
   "cell_type": "code",
   "execution_count": 48,
   "metadata": {
    "scrolled": true
   },
   "outputs": [
    {
     "name": "stdout",
     "output_type": "stream",
     "text": [
      "\n",
      "SMAPE для Модели LinearRegression - 9.697958814394523\n"
     ]
    }
   ],
   "source": [
    "print(f'\\nSMAPE для Модели LinearRegression - {result_smape}')"
   ]
  },
  {
   "cell_type": "markdown",
   "metadata": {},
   "source": [
    "**Модель DecisionTreeRegressor**"
   ]
  },
  {
   "cell_type": "code",
   "execution_count": 49,
   "metadata": {},
   "outputs": [
    {
     "name": "stdout",
     "output_type": "stream",
     "text": [
      "CPU times: user 23.4 s, sys: 45.2 ms, total: 23.4 s\n",
      "Wall time: 23.6 s\n"
     ]
    }
   ],
   "source": [
    "%%time\n",
    "best_result = 70\n",
    "best_param = 0\n",
    "for n in range(2, 10, 1):\n",
    "    model_rougher = DecisionTreeRegressor(max_depth=n, random_state=12345)\n",
    "    smape_rougher = cross_val_score(model_rougher,\n",
    "                              features_train,\n",
    "                              target_for_rougher,\n",
    "                              scoring=smape_scorer,\n",
    "                              cv=5)\n",
    "    final_smape_rougher = smape_rougher.mean()\n",
    "\n",
    "    model_final = DecisionTreeRegressor(max_depth=n, random_state=12345)\n",
    "    smape_final = cross_val_score(model_final, \n",
    "                                  features_train,\n",
    "                                  target_for_final,\n",
    "                                  scoring=smape_scorer,\n",
    "                                  cv=5)\n",
    "    final_smape_final = smape_final.mean()\n",
    "    result_smape = final_smape(final_smape_rougher, final_smape_final)*(-1)\n",
    "    if result_smape < best_result:\n",
    "        best_result = result_smape\n",
    "        best_param = n"
   ]
  },
  {
   "cell_type": "code",
   "execution_count": 50,
   "metadata": {},
   "outputs": [
    {
     "name": "stdout",
     "output_type": "stream",
     "text": [
      "8.94448812294064 2\n"
     ]
    }
   ],
   "source": [
    "print(best_result, best_param)"
   ]
  },
  {
   "cell_type": "markdown",
   "metadata": {},
   "source": [
    "**Модель RandomForestRegressor**"
   ]
  },
  {
   "cell_type": "code",
   "execution_count": 51,
   "metadata": {},
   "outputs": [
    {
     "name": "stdout",
     "output_type": "stream",
     "text": [
      "CPU times: user 13min 32s, sys: 828 ms, total: 13min 33s\n",
      "Wall time: 13min 33s\n"
     ]
    }
   ],
   "source": [
    "%%time\n",
    "best_model_fr = 80\n",
    "best_param_fr = 0\n",
    "for n in range(10, 100, 30):\n",
    "    for d in range(2,10,2):\n",
    "        model_fr_rougher = RandomForestRegressor(n_estimators=n, max_depth=d, random_state=12345)\n",
    "        smape_rougher = cross_val_score(model_fr_rougher,\n",
    "                                  features_train,\n",
    "                                  target_for_rougher,\n",
    "                                  scoring=smape_scorer,\n",
    "                                  cv=5)\n",
    "        final_smape_rougher = smape_rougher.mean()\n",
    "\n",
    "        model_fr_final = RandomForestRegressor(n_estimators=n, max_depth=d, random_state=12345)\n",
    "        smape_final = cross_val_score(model_fr_final,\n",
    "                                features_train,\n",
    "                                target_for_final,\n",
    "                                scoring=smape_scorer,\n",
    "                                cv=5)\n",
    "        final_smape_final = smape_final.mean()\n",
    "        result_smape = final_smape(final_smape_rougher, final_smape_final)*(-1)\n",
    "        if result_smape < best_model_fr:\n",
    "            best_model_fr = result_smape\n",
    "            best_param_fr = [n,d]"
   ]
  },
  {
   "cell_type": "code",
   "execution_count": 52,
   "metadata": {},
   "outputs": [
    {
     "name": "stdout",
     "output_type": "stream",
     "text": [
      "8.517490849324457 [70, 2]\n"
     ]
    }
   ],
   "source": [
    "print(best_model_fr, best_param_fr)"
   ]
  },
  {
   "cell_type": "markdown",
   "metadata": {},
   "source": [
    "Лучший результат - Модель RandomForestRegressor. Smape - 8.517. При n_estimators - 70, max_depth - 2."
   ]
  },
  {
   "cell_type": "markdown",
   "metadata": {},
   "source": [
    "Проверим модель на тестовой выборке\n",
    "Обозначим признаки и проверим с лучшими параметрами."
   ]
  },
  {
   "cell_type": "code",
   "execution_count": 53,
   "metadata": {},
   "outputs": [],
   "source": [
    "features_test = data_test.drop(['rougher.output.recovery','final.output.recovery'], axis=1)\n",
    "target_rougher_test = data_test['rougher.output.recovery']\n",
    "target_final_test = data_test['final.output.recovery']"
   ]
  },
  {
   "cell_type": "code",
   "execution_count": 54,
   "metadata": {},
   "outputs": [],
   "source": [
    "model_test_rougher = RandomForestRegressor(n_estimators=70, max_depth=2, random_state=12345)\n",
    "model_test_rougher.fit(features_train, target_for_rougher)\n",
    "predicted_rougher = model_test_rougher.predict(features_test)\n",
    "\n",
    "model_test_final = RandomForestRegressor(n_estimators=70, max_depth=2, random_state=12345)\n",
    "model_test_final.fit(features_train, target_for_final)\n",
    "predicted_final = model_test_final.predict(features_test)\n",
    "\n",
    "smape_test_rougher = smape(target_rougher_test, predicted_rougher)\n",
    "smape_test_final = smape(target_final_test, predicted_final)\n",
    "final_smape_test = final_smape(smape_test_rougher, smape_test_final)"
   ]
  },
  {
   "cell_type": "code",
   "execution_count": 55,
   "metadata": {},
   "outputs": [
    {
     "name": "stdout",
     "output_type": "stream",
     "text": [
      "\n",
      "SMAPE для тестовой выборки - 9.01203730889519\n"
     ]
    }
   ],
   "source": [
    "print(f'\\nSMAPE для тестовой выборки - {final_smape_test}')"
   ]
  },
  {
   "cell_type": "code",
   "execution_count": 56,
   "metadata": {},
   "outputs": [],
   "source": [
    "dummy_regr_rougher = DummyRegressor(strategy=\"mean\")\n",
    "dummy_regr_final = DummyRegressor(strategy=\"mean\")\n",
    "\n",
    "dummy_regr_rougher.fit(features_train, target_for_rougher)\n",
    "dummy_regr_final.fit(features_train, target_for_final)\n",
    "\n",
    "dummy_predicted_rougher = dummy_regr_rougher.predict(features_test)\n",
    "dummy_predicted_final = dummy_regr_final.predict(features_test)\n",
    "\n",
    "smape_const_rougher = smape(target_rougher_test, dummy_predicted_rougher)\n",
    "smape_const_final = smape(target_final_test, dummy_predicted_final)\n",
    "\n",
    "final_smape_const = final_smape(smape_const_rougher, smape_const_final)"
   ]
  },
  {
   "cell_type": "code",
   "execution_count": 57,
   "metadata": {
    "scrolled": true
   },
   "outputs": [
    {
     "name": "stdout",
     "output_type": "stream",
     "text": [
      "\n",
      "SMAPE для константной модели - 9.957266616996412\n"
     ]
    }
   ],
   "source": [
    "print(f'\\nSMAPE для константной модели - {final_smape_const}')"
   ]
  },
  {
   "cell_type": "markdown",
   "metadata": {},
   "source": [
    "Написана функция для вычисления итоговой sMAPE. \n",
    "Обучены модели линейной регрессии, дерева решений, а также случайного леса.\n",
    "**Моделью с лучшими результатами прогноза является – RandomForestRegressor, Smape - 8.517 При n_estimators - 70, max_depth - 2.***\n",
    "- Проведена предобработка данных. Методом bfill заменены пропуски. Удален ненужный для обучения столбец. \n",
    "- Проверен расчёт эффективности обогащения. Вычислено значение MAE между данными и расчётными значениями эффективности - MAE - 9.73512347450521e-15. Эффективность обогащения рассчитана правильно. Для проверки качества оценки модели поля 'rougher.output.recovery', 'final.output.recovery' добавлены в тестовый файл.\n",
    "- Концентрация золота постепенно увеличивается на каждом этапе обработки сырья.\n",
    "- Концентрация серебра увеличивается на этапе флотации, затем уменьшается.\n",
    "- Концентрация свинца сначала увеличивается на этапе флотации, затем остаётся примерно на одном уровне.\n",
    "- Изучены распределения размеров гранул сырья на обучающей и тестовой выборках - значимых различий нет. Распределения похожи.\n",
    "- Проведено изучение результата на тестовой выборке (показатель - 9.012) и константной модели (SMAPE меньше константной модели 9.95 против 8.517)"
   ]
  }
 ],
 "metadata": {
  "ExecuteTimeLog": [
   {
    "duration": 4,
    "start_time": "2022-12-19T12:41:04.398Z"
   },
   {
    "duration": 1646,
    "start_time": "2022-12-19T12:43:08.068Z"
   },
   {
    "duration": 188,
    "start_time": "2022-12-19T12:53:24.690Z"
   },
   {
    "duration": 71,
    "start_time": "2022-12-19T12:57:57.261Z"
   },
   {
    "duration": 2205,
    "start_time": "2022-12-19T12:58:35.950Z"
   },
   {
    "duration": 62,
    "start_time": "2022-12-20T06:07:55.772Z"
   },
   {
    "duration": 1710,
    "start_time": "2022-12-20T06:08:10.955Z"
   },
   {
    "duration": 5092,
    "start_time": "2022-12-20T06:08:14.110Z"
   },
   {
    "duration": 53,
    "start_time": "2022-12-20T06:08:19.205Z"
   },
   {
    "duration": 6,
    "start_time": "2022-12-20T06:09:12.667Z"
   },
   {
    "duration": 14,
    "start_time": "2022-12-20T06:09:29.708Z"
   },
   {
    "duration": 129,
    "start_time": "2022-12-20T06:17:43.958Z"
   },
   {
    "duration": 35,
    "start_time": "2022-12-20T06:18:37.998Z"
   },
   {
    "duration": 6,
    "start_time": "2022-12-20T06:20:12.601Z"
   },
   {
    "duration": 34,
    "start_time": "2022-12-20T06:20:20.956Z"
   },
   {
    "duration": 57,
    "start_time": "2022-12-20T06:21:28.850Z"
   },
   {
    "duration": 85,
    "start_time": "2022-12-20T06:21:48.489Z"
   },
   {
    "duration": 16,
    "start_time": "2022-12-20T07:36:16.286Z"
   },
   {
    "duration": 9,
    "start_time": "2022-12-20T07:36:32.620Z"
   },
   {
    "duration": 42,
    "start_time": "2022-12-20T07:43:22.019Z"
   },
   {
    "duration": 819,
    "start_time": "2022-12-20T07:48:18.387Z"
   },
   {
    "duration": 13,
    "start_time": "2022-12-20T07:49:52.852Z"
   },
   {
    "duration": 5,
    "start_time": "2022-12-20T07:50:02.292Z"
   },
   {
    "duration": 78,
    "start_time": "2022-12-20T07:53:05.768Z"
   },
   {
    "duration": 74,
    "start_time": "2022-12-20T08:04:23.795Z"
   },
   {
    "duration": 93,
    "start_time": "2022-12-20T08:04:29.266Z"
   },
   {
    "duration": 5,
    "start_time": "2022-12-20T08:04:34.060Z"
   },
   {
    "duration": 17,
    "start_time": "2022-12-20T08:31:28.807Z"
   },
   {
    "duration": 4,
    "start_time": "2022-12-20T08:32:00.357Z"
   },
   {
    "duration": 8,
    "start_time": "2022-12-20T08:32:26.334Z"
   },
   {
    "duration": 5,
    "start_time": "2022-12-20T08:32:37.975Z"
   },
   {
    "duration": 14,
    "start_time": "2022-12-20T08:34:08.994Z"
   },
   {
    "duration": 11,
    "start_time": "2022-12-20T08:34:13.665Z"
   },
   {
    "duration": 4,
    "start_time": "2022-12-20T08:34:23.386Z"
   },
   {
    "duration": 3,
    "start_time": "2022-12-20T08:35:02.162Z"
   },
   {
    "duration": 4,
    "start_time": "2022-12-20T08:35:12.162Z"
   },
   {
    "duration": 6,
    "start_time": "2022-12-20T08:35:25.801Z"
   },
   {
    "duration": 4,
    "start_time": "2022-12-20T08:35:52.529Z"
   },
   {
    "duration": 6,
    "start_time": "2022-12-20T08:36:13.059Z"
   },
   {
    "duration": 9,
    "start_time": "2022-12-20T08:36:21.628Z"
   },
   {
    "duration": 21,
    "start_time": "2022-12-20T08:52:49.776Z"
   },
   {
    "duration": 11,
    "start_time": "2022-12-20T10:45:00.651Z"
   },
   {
    "duration": 14,
    "start_time": "2022-12-20T10:46:33.999Z"
   },
   {
    "duration": 4,
    "start_time": "2022-12-20T10:47:14.137Z"
   },
   {
    "duration": 16,
    "start_time": "2022-12-20T10:47:26.829Z"
   },
   {
    "duration": 6,
    "start_time": "2022-12-20T10:48:52.897Z"
   },
   {
    "duration": 17,
    "start_time": "2022-12-20T10:49:26.619Z"
   },
   {
    "duration": 16,
    "start_time": "2022-12-20T10:49:36.409Z"
   },
   {
    "duration": 4,
    "start_time": "2022-12-20T10:57:51.867Z"
   },
   {
    "duration": 4,
    "start_time": "2022-12-20T10:58:09.091Z"
   },
   {
    "duration": 8,
    "start_time": "2022-12-20T10:58:49.260Z"
   },
   {
    "duration": 3,
    "start_time": "2022-12-20T10:59:35.084Z"
   },
   {
    "duration": 7,
    "start_time": "2022-12-20T10:59:36.623Z"
   },
   {
    "duration": 57,
    "start_time": "2022-12-20T11:00:18.234Z"
   },
   {
    "duration": 48,
    "start_time": "2022-12-20T11:00:47.646Z"
   },
   {
    "duration": 4,
    "start_time": "2022-12-20T11:00:53.235Z"
   },
   {
    "duration": 11,
    "start_time": "2022-12-20T11:01:24.229Z"
   },
   {
    "duration": 4,
    "start_time": "2022-12-20T11:58:17.972Z"
   },
   {
    "duration": 5,
    "start_time": "2022-12-20T11:58:29.389Z"
   },
   {
    "duration": 14,
    "start_time": "2022-12-20T11:59:37.199Z"
   },
   {
    "duration": 14,
    "start_time": "2022-12-20T12:01:00.320Z"
   },
   {
    "duration": 3,
    "start_time": "2022-12-20T12:01:33.346Z"
   },
   {
    "duration": 6,
    "start_time": "2022-12-20T12:01:35.140Z"
   },
   {
    "duration": 15,
    "start_time": "2022-12-20T12:01:37.697Z"
   },
   {
    "duration": 5,
    "start_time": "2022-12-20T12:03:49.579Z"
   },
   {
    "duration": 18,
    "start_time": "2022-12-20T12:19:52.178Z"
   },
   {
    "duration": 21,
    "start_time": "2022-12-20T12:24:07.784Z"
   },
   {
    "duration": 15,
    "start_time": "2022-12-20T12:28:04.544Z"
   },
   {
    "duration": 954,
    "start_time": "2022-12-20T12:33:28.641Z"
   },
   {
    "duration": 42,
    "start_time": "2022-12-20T12:51:34.795Z"
   },
   {
    "duration": 23,
    "start_time": "2022-12-20T12:53:40.470Z"
   },
   {
    "duration": 16,
    "start_time": "2022-12-20T12:56:25.630Z"
   },
   {
    "duration": 43,
    "start_time": "2022-12-20T12:56:56.483Z"
   },
   {
    "duration": 7,
    "start_time": "2022-12-20T12:57:21.041Z"
   },
   {
    "duration": 27,
    "start_time": "2022-12-20T12:59:37.205Z"
   },
   {
    "duration": 24,
    "start_time": "2022-12-20T13:04:21.436Z"
   },
   {
    "duration": 1663,
    "start_time": "2022-12-20T13:09:28.180Z"
   },
   {
    "duration": 931,
    "start_time": "2022-12-20T13:09:30.958Z"
   },
   {
    "duration": 46,
    "start_time": "2022-12-20T13:09:33.558Z"
   },
   {
    "duration": 117,
    "start_time": "2022-12-20T13:09:35.351Z"
   },
   {
    "duration": 821,
    "start_time": "2022-12-20T13:09:38.523Z"
   },
   {
    "duration": 5,
    "start_time": "2022-12-20T13:09:41.575Z"
   },
   {
    "duration": 15,
    "start_time": "2022-12-20T13:09:43.815Z"
   },
   {
    "duration": 8,
    "start_time": "2022-12-20T13:09:48.928Z"
   },
   {
    "duration": 5,
    "start_time": "2022-12-20T13:09:50.685Z"
   },
   {
    "duration": 5,
    "start_time": "2022-12-20T13:09:54.377Z"
   },
   {
    "duration": 5,
    "start_time": "2022-12-20T13:09:56.976Z"
   },
   {
    "duration": 24,
    "start_time": "2022-12-20T13:10:07.325Z"
   },
   {
    "duration": 16,
    "start_time": "2022-12-20T13:10:12.540Z"
   },
   {
    "duration": 13,
    "start_time": "2022-12-20T13:10:15.733Z"
   },
   {
    "duration": 5,
    "start_time": "2022-12-20T13:10:17.436Z"
   },
   {
    "duration": 1622,
    "start_time": "2022-12-21T05:41:45.861Z"
   },
   {
    "duration": 3248,
    "start_time": "2022-12-21T05:41:48.650Z"
   },
   {
    "duration": 44,
    "start_time": "2022-12-21T05:41:53.306Z"
   },
   {
    "duration": 51,
    "start_time": "2022-12-21T05:41:55.371Z"
   },
   {
    "duration": 598,
    "start_time": "2022-12-21T05:41:59.044Z"
   },
   {
    "duration": 5,
    "start_time": "2022-12-21T05:42:02.566Z"
   },
   {
    "duration": 8,
    "start_time": "2022-12-21T05:42:04.410Z"
   },
   {
    "duration": 5,
    "start_time": "2022-12-21T05:42:07.211Z"
   },
   {
    "duration": 3,
    "start_time": "2022-12-21T05:42:08.986Z"
   },
   {
    "duration": 5,
    "start_time": "2022-12-21T05:42:11.458Z"
   },
   {
    "duration": 4,
    "start_time": "2022-12-21T05:42:13.882Z"
   },
   {
    "duration": 14,
    "start_time": "2022-12-21T05:42:15.659Z"
   },
   {
    "duration": 14,
    "start_time": "2022-12-21T05:42:17.290Z"
   },
   {
    "duration": 11,
    "start_time": "2022-12-21T05:42:19.099Z"
   },
   {
    "duration": 3,
    "start_time": "2022-12-21T05:42:21.123Z"
   },
   {
    "duration": 8,
    "start_time": "2022-12-21T05:42:59.654Z"
   },
   {
    "duration": 57,
    "start_time": "2022-12-21T05:44:24.974Z"
   },
   {
    "duration": 366,
    "start_time": "2022-12-21T05:58:40.966Z"
   },
   {
    "duration": 312,
    "start_time": "2022-12-21T05:59:42.000Z"
   },
   {
    "duration": 411,
    "start_time": "2022-12-21T06:02:30.351Z"
   },
   {
    "duration": 1463,
    "start_time": "2022-12-21T06:32:32.005Z"
   },
   {
    "duration": 1112,
    "start_time": "2022-12-21T06:32:49.596Z"
   },
   {
    "duration": 1102,
    "start_time": "2022-12-21T06:33:17.284Z"
   },
   {
    "duration": 1071,
    "start_time": "2022-12-21T06:33:50.709Z"
   },
   {
    "duration": 1346,
    "start_time": "2022-12-21T06:34:06.817Z"
   },
   {
    "duration": 1046,
    "start_time": "2022-12-21T06:34:54.945Z"
   },
   {
    "duration": 995,
    "start_time": "2022-12-21T06:36:05.472Z"
   },
   {
    "duration": 1295,
    "start_time": "2022-12-21T06:36:21.712Z"
   },
   {
    "duration": 1133,
    "start_time": "2022-12-21T06:36:31.121Z"
   },
   {
    "duration": 1083,
    "start_time": "2022-12-21T06:36:42.593Z"
   },
   {
    "duration": 1371,
    "start_time": "2022-12-21T06:37:25.226Z"
   },
   {
    "duration": 1099,
    "start_time": "2022-12-21T06:45:55.361Z"
   },
   {
    "duration": 974,
    "start_time": "2022-12-21T06:47:33.826Z"
   },
   {
    "duration": 861,
    "start_time": "2022-12-21T07:45:55.974Z"
   },
   {
    "duration": 1006,
    "start_time": "2022-12-21T07:53:03.669Z"
   },
   {
    "duration": 965,
    "start_time": "2022-12-21T07:53:44.975Z"
   },
   {
    "duration": 880,
    "start_time": "2022-12-21T07:54:01.501Z"
   },
   {
    "duration": 946,
    "start_time": "2022-12-21T07:56:12.497Z"
   },
   {
    "duration": 10,
    "start_time": "2022-12-21T07:59:41.148Z"
   },
   {
    "duration": 10,
    "start_time": "2022-12-21T08:02:08.077Z"
   },
   {
    "duration": 8,
    "start_time": "2022-12-21T08:02:22.276Z"
   },
   {
    "duration": 8,
    "start_time": "2022-12-21T08:19:03.501Z"
   },
   {
    "duration": 452,
    "start_time": "2022-12-21T09:01:19.266Z"
   },
   {
    "duration": 133,
    "start_time": "2022-12-21T09:01:45.987Z"
   },
   {
    "duration": 268,
    "start_time": "2022-12-21T09:02:14.968Z"
   },
   {
    "duration": 165,
    "start_time": "2022-12-21T09:05:13.352Z"
   },
   {
    "duration": 414,
    "start_time": "2022-12-21T09:05:47.753Z"
   },
   {
    "duration": 1899,
    "start_time": "2022-12-21T09:07:32.151Z"
   },
   {
    "duration": 502,
    "start_time": "2022-12-21T09:08:12.289Z"
   },
   {
    "duration": 254,
    "start_time": "2022-12-21T09:08:23.055Z"
   },
   {
    "duration": 1714,
    "start_time": "2022-12-21T09:09:42.123Z"
   },
   {
    "duration": 473,
    "start_time": "2022-12-21T09:10:57.907Z"
   },
   {
    "duration": 698,
    "start_time": "2022-12-21T09:13:02.198Z"
   },
   {
    "duration": 652,
    "start_time": "2022-12-21T09:13:40.462Z"
   },
   {
    "duration": 415,
    "start_time": "2022-12-21T09:14:03.344Z"
   },
   {
    "duration": 543,
    "start_time": "2022-12-21T09:14:18.647Z"
   },
   {
    "duration": 459,
    "start_time": "2022-12-21T09:15:32.346Z"
   },
   {
    "duration": 424,
    "start_time": "2022-12-21T09:15:45.423Z"
   },
   {
    "duration": 441,
    "start_time": "2022-12-21T09:16:08.712Z"
   },
   {
    "duration": 428,
    "start_time": "2022-12-21T09:16:57.680Z"
   },
   {
    "duration": 416,
    "start_time": "2022-12-21T09:17:15.049Z"
   },
   {
    "duration": 422,
    "start_time": "2022-12-21T09:17:55.753Z"
   },
   {
    "duration": 532,
    "start_time": "2022-12-21T09:18:14.817Z"
   },
   {
    "duration": 400,
    "start_time": "2022-12-21T09:18:49.066Z"
   },
   {
    "duration": 442,
    "start_time": "2022-12-21T09:18:56.946Z"
   },
   {
    "duration": 417,
    "start_time": "2022-12-21T09:19:10.058Z"
   },
   {
    "duration": 520,
    "start_time": "2022-12-21T09:20:11.851Z"
   },
   {
    "duration": 464,
    "start_time": "2022-12-21T09:22:04.037Z"
   },
   {
    "duration": 524,
    "start_time": "2022-12-21T09:23:46.154Z"
   },
   {
    "duration": 411,
    "start_time": "2022-12-21T09:23:59.375Z"
   },
   {
    "duration": 3,
    "start_time": "2022-12-21T09:30:41.748Z"
   },
   {
    "duration": 13,
    "start_time": "2022-12-21T11:22:42.050Z"
   },
   {
    "duration": 7,
    "start_time": "2022-12-21T11:27:34.778Z"
   },
   {
    "duration": 953,
    "start_time": "2022-12-21T11:35:30.227Z"
   },
   {
    "duration": 871,
    "start_time": "2022-12-21T11:36:13.588Z"
   },
   {
    "duration": 952,
    "start_time": "2022-12-21T11:36:40.388Z"
   },
   {
    "duration": 1045,
    "start_time": "2022-12-21T11:38:02.041Z"
   },
   {
    "duration": 1004,
    "start_time": "2022-12-21T12:13:16.490Z"
   },
   {
    "duration": 14,
    "start_time": "2022-12-21T12:13:21.454Z"
   },
   {
    "duration": 1176,
    "start_time": "2022-12-21T12:13:53.715Z"
   },
   {
    "duration": 1070,
    "start_time": "2022-12-21T12:14:43.870Z"
   },
   {
    "duration": 7,
    "start_time": "2022-12-21T12:15:13.916Z"
   },
   {
    "duration": 1134,
    "start_time": "2022-12-21T12:15:41.803Z"
   },
   {
    "duration": 1160,
    "start_time": "2022-12-21T12:20:24.619Z"
   },
   {
    "duration": 1520,
    "start_time": "2022-12-21T12:20:38.706Z"
   },
   {
    "duration": 763,
    "start_time": "2022-12-21T12:20:41.265Z"
   },
   {
    "duration": 42,
    "start_time": "2022-12-21T12:20:43.273Z"
   },
   {
    "duration": 70,
    "start_time": "2022-12-21T12:20:45.699Z"
   },
   {
    "duration": 635,
    "start_time": "2022-12-21T12:20:48.306Z"
   },
   {
    "duration": 4,
    "start_time": "2022-12-21T12:20:51.497Z"
   },
   {
    "duration": 10,
    "start_time": "2022-12-21T12:20:53.569Z"
   },
   {
    "duration": 4,
    "start_time": "2022-12-21T12:20:55.762Z"
   },
   {
    "duration": 3,
    "start_time": "2022-12-21T12:21:10.682Z"
   },
   {
    "duration": 7,
    "start_time": "2022-12-21T12:21:26.578Z"
   },
   {
    "duration": 4,
    "start_time": "2022-12-21T12:21:28.852Z"
   },
   {
    "duration": 3,
    "start_time": "2022-12-21T12:21:31.218Z"
   },
   {
    "duration": 4,
    "start_time": "2022-12-21T12:21:33.425Z"
   },
   {
    "duration": 7,
    "start_time": "2022-12-21T12:21:36.439Z"
   },
   {
    "duration": 14,
    "start_time": "2022-12-21T12:21:38.705Z"
   },
   {
    "duration": 12,
    "start_time": "2022-12-21T12:21:46.306Z"
   },
   {
    "duration": 13,
    "start_time": "2022-12-21T12:21:48.546Z"
   },
   {
    "duration": 8,
    "start_time": "2022-12-21T12:21:55.450Z"
   },
   {
    "duration": 1081,
    "start_time": "2022-12-21T12:21:59.845Z"
   },
   {
    "duration": 9,
    "start_time": "2022-12-21T12:22:06.346Z"
   },
   {
    "duration": 776,
    "start_time": "2022-12-21T12:22:07.923Z"
   },
   {
    "duration": 8,
    "start_time": "2022-12-21T12:22:10.682Z"
   },
   {
    "duration": 854,
    "start_time": "2022-12-21T12:22:12.826Z"
   },
   {
    "duration": 8,
    "start_time": "2022-12-21T12:22:17.002Z"
   },
   {
    "duration": 474,
    "start_time": "2022-12-21T12:22:34.291Z"
   },
   {
    "duration": 451,
    "start_time": "2022-12-21T12:22:36.995Z"
   },
   {
    "duration": 7,
    "start_time": "2022-12-21T12:22:43.906Z"
   },
   {
    "duration": 1107,
    "start_time": "2022-12-21T12:22:45.771Z"
   },
   {
    "duration": 48,
    "start_time": "2022-12-21T12:28:37.481Z"
   },
   {
    "duration": 4,
    "start_time": "2022-12-21T12:28:57.657Z"
   },
   {
    "duration": 809,
    "start_time": "2022-12-21T12:29:09.690Z"
   },
   {
    "duration": 5,
    "start_time": "2022-12-21T12:31:26.308Z"
   },
   {
    "duration": 356,
    "start_time": "2022-12-21T12:31:42.756Z"
   },
   {
    "duration": 6,
    "start_time": "2022-12-21T12:34:29.974Z"
   },
   {
    "duration": 437,
    "start_time": "2022-12-21T12:35:55.577Z"
   },
   {
    "duration": 5,
    "start_time": "2022-12-21T12:37:38.717Z"
   },
   {
    "duration": 360,
    "start_time": "2022-12-21T12:38:18.360Z"
   },
   {
    "duration": 390,
    "start_time": "2022-12-21T12:38:54.351Z"
   },
   {
    "duration": 6,
    "start_time": "2022-12-21T12:40:33.877Z"
   },
   {
    "duration": 255,
    "start_time": "2022-12-21T12:40:48.613Z"
   },
   {
    "duration": 256,
    "start_time": "2022-12-21T12:41:14.173Z"
   },
   {
    "duration": 262,
    "start_time": "2022-12-21T12:41:18.544Z"
   },
   {
    "duration": 280,
    "start_time": "2022-12-21T12:42:13.861Z"
   },
   {
    "duration": 267,
    "start_time": "2022-12-21T12:43:18.160Z"
   },
   {
    "duration": 380,
    "start_time": "2022-12-21T12:49:22.558Z"
   },
   {
    "duration": 219,
    "start_time": "2022-12-21T12:49:48.654Z"
   },
   {
    "duration": 19,
    "start_time": "2022-12-21T12:53:01.705Z"
   },
   {
    "duration": 1019,
    "start_time": "2022-12-21T12:54:57.524Z"
   },
   {
    "duration": 761,
    "start_time": "2022-12-21T12:56:34.348Z"
   },
   {
    "duration": 805,
    "start_time": "2022-12-21T12:57:02.221Z"
   },
   {
    "duration": 5,
    "start_time": "2022-12-21T12:57:52.734Z"
   },
   {
    "duration": 4,
    "start_time": "2022-12-21T12:57:54.325Z"
   },
   {
    "duration": 5,
    "start_time": "2022-12-21T12:57:56.182Z"
   },
   {
    "duration": 1072,
    "start_time": "2022-12-21T12:58:10.087Z"
   },
   {
    "duration": 786,
    "start_time": "2022-12-21T12:58:33.406Z"
   },
   {
    "duration": 254,
    "start_time": "2022-12-21T12:58:46.583Z"
   },
   {
    "duration": 393,
    "start_time": "2022-12-21T13:00:48.729Z"
   },
   {
    "duration": 214,
    "start_time": "2022-12-21T13:01:07.593Z"
   },
   {
    "duration": 718,
    "start_time": "2022-12-21T13:02:49.275Z"
   },
   {
    "duration": 4,
    "start_time": "2022-12-21T13:03:11.492Z"
   },
   {
    "duration": 5,
    "start_time": "2022-12-21T13:03:13.003Z"
   },
   {
    "duration": 5,
    "start_time": "2022-12-21T13:03:14.483Z"
   },
   {
    "duration": 1130,
    "start_time": "2022-12-21T13:03:15.876Z"
   },
   {
    "duration": 1162,
    "start_time": "2022-12-21T13:06:19.078Z"
   },
   {
    "duration": 13,
    "start_time": "2022-12-21T13:10:30.952Z"
   },
   {
    "duration": 201,
    "start_time": "2022-12-21T13:11:07.563Z"
   },
   {
    "duration": 5,
    "start_time": "2022-12-21T13:38:39.423Z"
   },
   {
    "duration": 6,
    "start_time": "2022-12-21T13:38:41.014Z"
   },
   {
    "duration": 9,
    "start_time": "2022-12-21T13:38:42.542Z"
   },
   {
    "duration": 1143,
    "start_time": "2022-12-21T13:39:10.296Z"
   },
   {
    "duration": 217,
    "start_time": "2022-12-21T13:41:02.185Z"
   },
   {
    "duration": 850,
    "start_time": "2022-12-21T13:47:27.290Z"
   },
   {
    "duration": 40,
    "start_time": "2022-12-21T13:52:28.798Z"
   },
   {
    "duration": 1013,
    "start_time": "2022-12-21T13:53:03.023Z"
   },
   {
    "duration": 810,
    "start_time": "2022-12-21T13:54:04.255Z"
   },
   {
    "duration": 5,
    "start_time": "2022-12-21T13:55:10.513Z"
   },
   {
    "duration": 6,
    "start_time": "2022-12-21T13:55:13.050Z"
   },
   {
    "duration": 5,
    "start_time": "2022-12-21T13:55:14.696Z"
   },
   {
    "duration": 1049,
    "start_time": "2022-12-21T13:55:19.521Z"
   },
   {
    "duration": 29,
    "start_time": "2022-12-21T13:56:58.019Z"
   },
   {
    "duration": 156,
    "start_time": "2022-12-21T13:57:10.234Z"
   },
   {
    "duration": 17,
    "start_time": "2022-12-21T14:01:09.015Z"
   },
   {
    "duration": 12,
    "start_time": "2022-12-21T14:07:12.033Z"
   },
   {
    "duration": 825,
    "start_time": "2022-12-21T14:07:32.341Z"
   },
   {
    "duration": 4,
    "start_time": "2022-12-21T14:08:00.798Z"
   },
   {
    "duration": 4,
    "start_time": "2022-12-21T14:09:55.353Z"
   },
   {
    "duration": 4,
    "start_time": "2022-12-21T14:11:38.378Z"
   },
   {
    "duration": 836,
    "start_time": "2022-12-21T14:11:40.106Z"
   },
   {
    "duration": 949,
    "start_time": "2022-12-21T14:12:25.508Z"
   },
   {
    "duration": 817,
    "start_time": "2022-12-21T14:13:13.268Z"
   },
   {
    "duration": 778,
    "start_time": "2022-12-21T14:13:20.357Z"
   },
   {
    "duration": 4,
    "start_time": "2022-12-21T14:13:30.092Z"
   },
   {
    "duration": 16,
    "start_time": "2022-12-21T14:13:36.955Z"
   },
   {
    "duration": 18,
    "start_time": "2022-12-21T14:13:51.997Z"
   },
   {
    "duration": 12,
    "start_time": "2022-12-21T14:14:11.212Z"
   },
   {
    "duration": 15,
    "start_time": "2022-12-21T14:14:40.262Z"
   },
   {
    "duration": 13,
    "start_time": "2022-12-21T14:15:14.190Z"
   },
   {
    "duration": 15,
    "start_time": "2022-12-21T14:15:28.606Z"
   },
   {
    "duration": 13,
    "start_time": "2022-12-21T14:20:22.307Z"
   },
   {
    "duration": 13,
    "start_time": "2022-12-21T14:20:44.779Z"
   },
   {
    "duration": 862,
    "start_time": "2022-12-21T14:21:24.293Z"
   },
   {
    "duration": 12,
    "start_time": "2022-12-21T14:22:05.983Z"
   },
   {
    "duration": 8,
    "start_time": "2022-12-21T14:22:20.997Z"
   },
   {
    "duration": 7,
    "start_time": "2022-12-21T14:22:27.973Z"
   },
   {
    "duration": 1262,
    "start_time": "2022-12-21T14:23:56.608Z"
   },
   {
    "duration": 1470,
    "start_time": "2022-12-22T06:33:19.725Z"
   },
   {
    "duration": 3143,
    "start_time": "2022-12-22T06:33:21.529Z"
   },
   {
    "duration": 40,
    "start_time": "2022-12-22T06:33:25.220Z"
   },
   {
    "duration": 50,
    "start_time": "2022-12-22T06:33:27.411Z"
   },
   {
    "duration": 544,
    "start_time": "2022-12-22T06:33:30.771Z"
   },
   {
    "duration": 5,
    "start_time": "2022-12-22T06:33:33.457Z"
   },
   {
    "duration": 9,
    "start_time": "2022-12-22T06:33:35.609Z"
   },
   {
    "duration": 5,
    "start_time": "2022-12-22T06:33:37.961Z"
   },
   {
    "duration": 3,
    "start_time": "2022-12-22T06:33:40.769Z"
   },
   {
    "duration": 4,
    "start_time": "2022-12-22T06:33:43.138Z"
   },
   {
    "duration": 3,
    "start_time": "2022-12-22T06:33:45.625Z"
   },
   {
    "duration": 12,
    "start_time": "2022-12-22T06:34:46.923Z"
   },
   {
    "duration": 13,
    "start_time": "2022-12-22T06:34:49.163Z"
   },
   {
    "duration": 11,
    "start_time": "2022-12-22T06:34:51.915Z"
   },
   {
    "duration": 3,
    "start_time": "2022-12-22T06:35:00.395Z"
   },
   {
    "duration": 114,
    "start_time": "2022-12-22T06:36:00.956Z"
   },
   {
    "duration": 3,
    "start_time": "2022-12-22T06:36:03.540Z"
   },
   {
    "duration": 12,
    "start_time": "2022-12-22T06:36:05.373Z"
   },
   {
    "duration": 1262,
    "start_time": "2022-12-22T06:36:17.334Z"
   },
   {
    "duration": 697,
    "start_time": "2022-12-22T06:36:19.573Z"
   },
   {
    "duration": 37,
    "start_time": "2022-12-22T06:36:21.068Z"
   },
   {
    "duration": 51,
    "start_time": "2022-12-22T06:36:23.133Z"
   },
   {
    "duration": 556,
    "start_time": "2022-12-22T06:36:25.310Z"
   },
   {
    "duration": 4,
    "start_time": "2022-12-22T06:36:27.916Z"
   },
   {
    "duration": 7,
    "start_time": "2022-12-22T06:36:31.308Z"
   },
   {
    "duration": 4,
    "start_time": "2022-12-22T06:36:34.732Z"
   },
   {
    "duration": 3,
    "start_time": "2022-12-22T06:36:36.637Z"
   },
   {
    "duration": 3,
    "start_time": "2022-12-22T06:36:44.013Z"
   },
   {
    "duration": 17,
    "start_time": "2022-12-22T06:36:45.981Z"
   },
   {
    "duration": 12,
    "start_time": "2022-12-22T06:36:48.045Z"
   },
   {
    "duration": 10,
    "start_time": "2022-12-22T06:36:50.433Z"
   },
   {
    "duration": 4,
    "start_time": "2022-12-22T06:36:52.013Z"
   },
   {
    "duration": 945,
    "start_time": "2022-12-22T06:36:54.581Z"
   },
   {
    "duration": 7,
    "start_time": "2022-12-22T06:36:58.445Z"
   },
   {
    "duration": 656,
    "start_time": "2022-12-22T06:37:04.079Z"
   },
   {
    "duration": 7,
    "start_time": "2022-12-22T06:37:06.565Z"
   },
   {
    "duration": 760,
    "start_time": "2022-12-22T06:37:08.877Z"
   },
   {
    "duration": 8,
    "start_time": "2022-12-22T06:37:11.737Z"
   },
   {
    "duration": 405,
    "start_time": "2022-12-22T06:37:27.077Z"
   },
   {
    "duration": 368,
    "start_time": "2022-12-22T06:37:36.918Z"
   },
   {
    "duration": 5,
    "start_time": "2022-12-22T06:38:14.343Z"
   },
   {
    "duration": 5,
    "start_time": "2022-12-22T06:38:16.239Z"
   },
   {
    "duration": 4,
    "start_time": "2022-12-22T06:38:28.791Z"
   },
   {
    "duration": 964,
    "start_time": "2022-12-22T06:38:38.879Z"
   },
   {
    "duration": 109,
    "start_time": "2022-12-22T06:42:20.442Z"
   },
   {
    "duration": 254,
    "start_time": "2022-12-22T06:43:04.476Z"
   },
   {
    "duration": 5,
    "start_time": "2022-12-22T06:52:40.822Z"
   },
   {
    "duration": 5,
    "start_time": "2022-12-22T06:52:42.366Z"
   },
   {
    "duration": 5,
    "start_time": "2022-12-22T06:52:43.923Z"
   },
   {
    "duration": 931,
    "start_time": "2022-12-22T06:52:45.566Z"
   },
   {
    "duration": 192,
    "start_time": "2022-12-22T06:53:09.775Z"
   },
   {
    "duration": 749,
    "start_time": "2022-12-22T06:53:39.985Z"
   },
   {
    "duration": 717,
    "start_time": "2022-12-22T06:54:17.369Z"
   },
   {
    "duration": 896,
    "start_time": "2022-12-22T07:02:27.059Z"
   },
   {
    "duration": 52,
    "start_time": "2022-12-22T07:07:05.703Z"
   },
   {
    "duration": 41,
    "start_time": "2022-12-22T07:07:19.206Z"
   },
   {
    "duration": 5,
    "start_time": "2022-12-22T07:11:10.188Z"
   },
   {
    "duration": 22,
    "start_time": "2022-12-22T07:12:28.917Z"
   },
   {
    "duration": 30,
    "start_time": "2022-12-22T07:13:27.222Z"
   },
   {
    "duration": 27,
    "start_time": "2022-12-22T07:15:52.480Z"
   },
   {
    "duration": 1019,
    "start_time": "2022-12-22T07:16:01.697Z"
   },
   {
    "duration": 17,
    "start_time": "2022-12-22T07:17:00.962Z"
   },
   {
    "duration": 986,
    "start_time": "2022-12-22T07:17:02.644Z"
   },
   {
    "duration": 9,
    "start_time": "2022-12-22T07:23:49.281Z"
   },
   {
    "duration": 16,
    "start_time": "2022-12-22T07:25:55.628Z"
   },
   {
    "duration": 18,
    "start_time": "2022-12-22T07:25:57.907Z"
   },
   {
    "duration": 9,
    "start_time": "2022-12-22T07:28:59.167Z"
   },
   {
    "duration": 47,
    "start_time": "2022-12-22T07:32:32.611Z"
   },
   {
    "duration": 47,
    "start_time": "2022-12-22T07:33:24.835Z"
   },
   {
    "duration": 27,
    "start_time": "2022-12-22T07:35:21.142Z"
   },
   {
    "duration": 22,
    "start_time": "2022-12-22T07:35:57.279Z"
   },
   {
    "duration": 860,
    "start_time": "2022-12-22T07:36:07.631Z"
   },
   {
    "duration": 11,
    "start_time": "2022-12-22T07:59:07.488Z"
   },
   {
    "duration": 3,
    "start_time": "2022-12-22T08:08:05.761Z"
   },
   {
    "duration": 4,
    "start_time": "2022-12-22T08:08:16.320Z"
   },
   {
    "duration": 2,
    "start_time": "2022-12-22T08:18:56.365Z"
   },
   {
    "duration": 10,
    "start_time": "2022-12-22T08:20:01.198Z"
   },
   {
    "duration": 3,
    "start_time": "2022-12-22T08:35:33.821Z"
   },
   {
    "duration": 2,
    "start_time": "2022-12-22T08:35:36.053Z"
   },
   {
    "duration": 3,
    "start_time": "2022-12-22T08:36:00.365Z"
   },
   {
    "duration": 2,
    "start_time": "2022-12-22T08:36:24.269Z"
   },
   {
    "duration": 893,
    "start_time": "2022-12-22T08:37:00.071Z"
   },
   {
    "duration": 34,
    "start_time": "2022-12-22T08:39:45.377Z"
   },
   {
    "duration": 35,
    "start_time": "2022-12-22T08:40:45.377Z"
   },
   {
    "duration": 464,
    "start_time": "2022-12-22T08:42:06.148Z"
   },
   {
    "duration": 57,
    "start_time": "2022-12-22T08:42:49.188Z"
   },
   {
    "duration": 33,
    "start_time": "2022-12-22T08:43:50.892Z"
   },
   {
    "duration": 3,
    "start_time": "2022-12-22T08:44:16.805Z"
   },
   {
    "duration": 36,
    "start_time": "2022-12-22T08:44:19.021Z"
   },
   {
    "duration": 32,
    "start_time": "2022-12-22T08:44:49.246Z"
   },
   {
    "duration": 31,
    "start_time": "2022-12-22T08:45:39.631Z"
   },
   {
    "duration": 4,
    "start_time": "2022-12-22T08:53:09.918Z"
   },
   {
    "duration": 3,
    "start_time": "2022-12-22T08:53:31.768Z"
   },
   {
    "duration": 2,
    "start_time": "2022-12-22T08:53:41.311Z"
   },
   {
    "duration": 2,
    "start_time": "2022-12-22T08:54:00.751Z"
   },
   {
    "duration": 33,
    "start_time": "2022-12-22T08:54:36.624Z"
   },
   {
    "duration": 1318,
    "start_time": "2022-12-22T08:55:54.801Z"
   },
   {
    "duration": 681,
    "start_time": "2022-12-22T08:55:57.569Z"
   },
   {
    "duration": 39,
    "start_time": "2022-12-22T08:55:59.945Z"
   },
   {
    "duration": 56,
    "start_time": "2022-12-22T08:56:02.770Z"
   },
   {
    "duration": 546,
    "start_time": "2022-12-22T08:56:05.211Z"
   },
   {
    "duration": 4,
    "start_time": "2022-12-22T08:56:08.169Z"
   },
   {
    "duration": 17,
    "start_time": "2022-12-22T08:56:10.321Z"
   },
   {
    "duration": 5,
    "start_time": "2022-12-22T08:56:12.670Z"
   },
   {
    "duration": 2,
    "start_time": "2022-12-22T08:56:14.626Z"
   },
   {
    "duration": 4,
    "start_time": "2022-12-22T08:56:17.529Z"
   },
   {
    "duration": 3,
    "start_time": "2022-12-22T08:56:19.546Z"
   },
   {
    "duration": 13,
    "start_time": "2022-12-22T08:56:21.730Z"
   },
   {
    "duration": 16,
    "start_time": "2022-12-22T08:56:23.641Z"
   },
   {
    "duration": 12,
    "start_time": "2022-12-22T08:56:25.697Z"
   },
   {
    "duration": 4,
    "start_time": "2022-12-22T08:56:30.322Z"
   },
   {
    "duration": 943,
    "start_time": "2022-12-22T08:56:34.694Z"
   },
   {
    "duration": 7,
    "start_time": "2022-12-22T08:56:38.402Z"
   },
   {
    "duration": 655,
    "start_time": "2022-12-22T08:56:39.914Z"
   },
   {
    "duration": 7,
    "start_time": "2022-12-22T08:56:43.100Z"
   },
   {
    "duration": 770,
    "start_time": "2022-12-22T08:56:44.635Z"
   },
   {
    "duration": 8,
    "start_time": "2022-12-22T08:56:47.626Z"
   },
   {
    "duration": 413,
    "start_time": "2022-12-22T08:56:50.096Z"
   },
   {
    "duration": 411,
    "start_time": "2022-12-22T08:56:53.099Z"
   },
   {
    "duration": 4,
    "start_time": "2022-12-22T08:56:55.369Z"
   },
   {
    "duration": 5,
    "start_time": "2022-12-22T08:56:57.258Z"
   },
   {
    "duration": 4,
    "start_time": "2022-12-22T08:56:59.107Z"
   },
   {
    "duration": 981,
    "start_time": "2022-12-22T08:57:01.347Z"
   },
   {
    "duration": 195,
    "start_time": "2022-12-22T08:57:06.171Z"
   },
   {
    "duration": 14,
    "start_time": "2022-12-22T08:57:09.011Z"
   },
   {
    "duration": 17,
    "start_time": "2022-12-22T08:57:10.875Z"
   },
   {
    "duration": 23,
    "start_time": "2022-12-22T08:57:13.034Z"
   },
   {
    "duration": 17,
    "start_time": "2022-12-22T08:57:29.147Z"
   },
   {
    "duration": 18,
    "start_time": "2022-12-22T08:57:30.951Z"
   },
   {
    "duration": 28,
    "start_time": "2022-12-22T08:57:32.635Z"
   },
   {
    "duration": 23,
    "start_time": "2022-12-22T08:57:35.086Z"
   },
   {
    "duration": 2,
    "start_time": "2022-12-22T08:57:38.051Z"
   },
   {
    "duration": 3,
    "start_time": "2022-12-22T08:57:39.794Z"
   },
   {
    "duration": 4,
    "start_time": "2022-12-22T08:57:41.814Z"
   },
   {
    "duration": 12,
    "start_time": "2022-12-22T08:57:44.095Z"
   },
   {
    "duration": 3,
    "start_time": "2022-12-22T08:58:09.895Z"
   },
   {
    "duration": 3,
    "start_time": "2022-12-22T08:58:11.595Z"
   },
   {
    "duration": 2,
    "start_time": "2022-12-22T08:58:13.220Z"
   },
   {
    "duration": 104,
    "start_time": "2022-12-22T08:58:29.019Z"
   },
   {
    "duration": 3,
    "start_time": "2022-12-22T08:58:44.516Z"
   },
   {
    "duration": 4,
    "start_time": "2022-12-22T08:58:45.994Z"
   },
   {
    "duration": 2,
    "start_time": "2022-12-22T08:58:48.116Z"
   },
   {
    "duration": 9,
    "start_time": "2022-12-22T08:58:50.460Z"
   },
   {
    "duration": 3,
    "start_time": "2022-12-22T08:59:47.565Z"
   },
   {
    "duration": 3,
    "start_time": "2022-12-22T09:00:02.989Z"
   },
   {
    "duration": 49,
    "start_time": "2022-12-22T09:00:14.551Z"
   },
   {
    "duration": 29,
    "start_time": "2022-12-22T09:01:48.615Z"
   },
   {
    "duration": 14,
    "start_time": "2022-12-22T09:01:57.360Z"
   },
   {
    "duration": 15,
    "start_time": "2022-12-22T09:03:07.137Z"
   },
   {
    "duration": 18,
    "start_time": "2022-12-22T09:03:11.777Z"
   },
   {
    "duration": 15,
    "start_time": "2022-12-22T09:03:14.002Z"
   },
   {
    "duration": 4,
    "start_time": "2022-12-22T09:06:22.924Z"
   },
   {
    "duration": 4,
    "start_time": "2022-12-22T09:06:43.567Z"
   },
   {
    "duration": 31,
    "start_time": "2022-12-22T09:07:44.974Z"
   },
   {
    "duration": 1420,
    "start_time": "2022-12-22T13:07:21.387Z"
   },
   {
    "duration": 760,
    "start_time": "2022-12-22T13:07:23.097Z"
   },
   {
    "duration": 63,
    "start_time": "2022-12-22T13:07:24.777Z"
   },
   {
    "duration": 60,
    "start_time": "2022-12-22T13:07:27.090Z"
   },
   {
    "duration": 632,
    "start_time": "2022-12-22T13:07:29.585Z"
   },
   {
    "duration": 4,
    "start_time": "2022-12-22T13:07:32.993Z"
   },
   {
    "duration": 8,
    "start_time": "2022-12-22T13:07:34.712Z"
   },
   {
    "duration": 5,
    "start_time": "2022-12-22T13:07:39.272Z"
   },
   {
    "duration": 3,
    "start_time": "2022-12-22T13:07:41.416Z"
   },
   {
    "duration": 4,
    "start_time": "2022-12-22T13:07:43.640Z"
   },
   {
    "duration": 3,
    "start_time": "2022-12-22T13:07:46.811Z"
   },
   {
    "duration": 24,
    "start_time": "2022-12-22T13:07:48.513Z"
   },
   {
    "duration": 6,
    "start_time": "2022-12-22T13:07:55.113Z"
   },
   {
    "duration": 18,
    "start_time": "2022-12-22T13:08:59.842Z"
   },
   {
    "duration": 13,
    "start_time": "2022-12-22T13:09:04.915Z"
   },
   {
    "duration": 13,
    "start_time": "2022-12-22T13:09:09.162Z"
   },
   {
    "duration": 10,
    "start_time": "2022-12-22T13:09:21.963Z"
   },
   {
    "duration": 1074,
    "start_time": "2022-12-22T13:09:34.311Z"
   },
   {
    "duration": 7,
    "start_time": "2022-12-22T13:09:37.162Z"
   },
   {
    "duration": 713,
    "start_time": "2022-12-22T13:09:39.267Z"
   },
   {
    "duration": 7,
    "start_time": "2022-12-22T13:09:42.090Z"
   },
   {
    "duration": 933,
    "start_time": "2022-12-22T13:09:44.123Z"
   },
   {
    "duration": 8,
    "start_time": "2022-12-22T13:09:47.082Z"
   },
   {
    "duration": 412,
    "start_time": "2022-12-22T13:09:49.634Z"
   },
   {
    "duration": 406,
    "start_time": "2022-12-22T13:09:52.827Z"
   },
   {
    "duration": 6,
    "start_time": "2022-12-22T13:10:17.324Z"
   },
   {
    "duration": 5,
    "start_time": "2022-12-22T13:10:18.955Z"
   },
   {
    "duration": 6,
    "start_time": "2022-12-22T13:10:20.491Z"
   },
   {
    "duration": 1020,
    "start_time": "2022-12-22T13:10:22.116Z"
   },
   {
    "duration": 219,
    "start_time": "2022-12-22T13:10:25.612Z"
   },
   {
    "duration": 11,
    "start_time": "2022-12-22T13:10:49.714Z"
   },
   {
    "duration": 14,
    "start_time": "2022-12-22T13:10:51.620Z"
   },
   {
    "duration": 21,
    "start_time": "2022-12-22T13:10:53.228Z"
   },
   {
    "duration": 30,
    "start_time": "2022-12-22T13:10:56.291Z"
   },
   {
    "duration": 40,
    "start_time": "2022-12-22T13:12:02.885Z"
   },
   {
    "duration": 13,
    "start_time": "2022-12-22T13:12:32.742Z"
   },
   {
    "duration": 26,
    "start_time": "2022-12-22T13:12:37.493Z"
   },
   {
    "duration": 16,
    "start_time": "2022-12-22T13:13:54.431Z"
   },
   {
    "duration": 24,
    "start_time": "2022-12-22T13:14:52.984Z"
   },
   {
    "duration": 127,
    "start_time": "2022-12-22T13:16:18.913Z"
   },
   {
    "duration": 1378,
    "start_time": "2022-12-22T13:16:34.658Z"
   },
   {
    "duration": 666,
    "start_time": "2022-12-22T13:16:37.147Z"
   },
   {
    "duration": 42,
    "start_time": "2022-12-22T13:16:39.017Z"
   },
   {
    "duration": 51,
    "start_time": "2022-12-22T13:16:41.147Z"
   },
   {
    "duration": 564,
    "start_time": "2022-12-22T13:16:43.940Z"
   },
   {
    "duration": 4,
    "start_time": "2022-12-22T13:16:46.610Z"
   },
   {
    "duration": 11,
    "start_time": "2022-12-22T13:16:49.211Z"
   },
   {
    "duration": 4,
    "start_time": "2022-12-22T13:16:51.442Z"
   },
   {
    "duration": 3,
    "start_time": "2022-12-22T13:16:53.370Z"
   },
   {
    "duration": 4,
    "start_time": "2022-12-22T13:16:55.058Z"
   },
   {
    "duration": 4,
    "start_time": "2022-12-22T13:16:57.644Z"
   },
   {
    "duration": 30,
    "start_time": "2022-12-22T13:16:59.437Z"
   },
   {
    "duration": 14,
    "start_time": "2022-12-22T13:17:01.578Z"
   },
   {
    "duration": 13,
    "start_time": "2022-12-22T13:17:03.946Z"
   },
   {
    "duration": 11,
    "start_time": "2022-12-22T13:17:06.995Z"
   },
   {
    "duration": 15,
    "start_time": "2022-12-22T13:17:09.937Z"
   },
   {
    "duration": 5,
    "start_time": "2022-12-22T13:17:16.402Z"
   },
   {
    "duration": 881,
    "start_time": "2022-12-22T13:17:19.131Z"
   },
   {
    "duration": 7,
    "start_time": "2022-12-22T13:17:22.378Z"
   },
   {
    "duration": 719,
    "start_time": "2022-12-22T13:17:24.700Z"
   },
   {
    "duration": 8,
    "start_time": "2022-12-22T13:17:27.555Z"
   },
   {
    "duration": 736,
    "start_time": "2022-12-22T13:17:29.179Z"
   },
   {
    "duration": 8,
    "start_time": "2022-12-22T13:17:31.635Z"
   },
   {
    "duration": 489,
    "start_time": "2022-12-22T13:17:33.731Z"
   },
   {
    "duration": 493,
    "start_time": "2022-12-22T13:17:36.611Z"
   },
   {
    "duration": 6,
    "start_time": "2022-12-22T13:17:39.955Z"
   },
   {
    "duration": 6,
    "start_time": "2022-12-22T13:17:41.771Z"
   },
   {
    "duration": 6,
    "start_time": "2022-12-22T13:17:43.539Z"
   },
   {
    "duration": 1040,
    "start_time": "2022-12-22T13:17:45.811Z"
   },
   {
    "duration": 288,
    "start_time": "2022-12-22T13:17:49.149Z"
   },
   {
    "duration": 13,
    "start_time": "2022-12-22T13:17:51.723Z"
   },
   {
    "duration": 22,
    "start_time": "2022-12-22T13:17:54.163Z"
   },
   {
    "duration": 26,
    "start_time": "2022-12-22T13:17:56.163Z"
   },
   {
    "duration": 32,
    "start_time": "2022-12-22T13:17:59.716Z"
   },
   {
    "duration": 15,
    "start_time": "2022-12-22T13:18:04.723Z"
   },
   {
    "duration": 27,
    "start_time": "2022-12-22T13:18:06.707Z"
   },
   {
    "duration": 26,
    "start_time": "2022-12-22T13:18:09.476Z"
   },
   {
    "duration": 48,
    "start_time": "2022-12-22T13:18:38.372Z"
   },
   {
    "duration": 76,
    "start_time": "2022-12-22T13:18:44.996Z"
   },
   {
    "duration": 14,
    "start_time": "2022-12-22T13:18:54.285Z"
   },
   {
    "duration": 19,
    "start_time": "2022-12-22T13:19:15.661Z"
   },
   {
    "duration": 21,
    "start_time": "2022-12-22T13:21:14.111Z"
   },
   {
    "duration": 817,
    "start_time": "2022-12-22T13:22:09.073Z"
   },
   {
    "duration": 20,
    "start_time": "2022-12-22T13:23:39.376Z"
   },
   {
    "duration": 21,
    "start_time": "2022-12-22T13:23:41.193Z"
   },
   {
    "duration": 1130,
    "start_time": "2022-12-22T13:23:43.961Z"
   },
   {
    "duration": 4,
    "start_time": "2022-12-22T13:24:30.018Z"
   },
   {
    "duration": 3,
    "start_time": "2022-12-22T13:24:42.139Z"
   },
   {
    "duration": 121,
    "start_time": "2022-12-22T13:25:32.772Z"
   },
   {
    "duration": 8,
    "start_time": "2022-12-22T13:26:49.538Z"
   },
   {
    "duration": 4,
    "start_time": "2022-12-22T13:26:51.438Z"
   },
   {
    "duration": 5,
    "start_time": "2022-12-22T13:26:53.122Z"
   },
   {
    "duration": 10,
    "start_time": "2022-12-22T13:26:55.476Z"
   },
   {
    "duration": 3,
    "start_time": "2022-12-22T13:27:17.637Z"
   },
   {
    "duration": 4,
    "start_time": "2022-12-22T13:27:19.437Z"
   },
   {
    "duration": 21,
    "start_time": "2022-12-22T13:30:12.792Z"
   },
   {
    "duration": 3,
    "start_time": "2022-12-22T13:31:10.423Z"
   },
   {
    "duration": 4,
    "start_time": "2022-12-22T13:31:27.089Z"
   },
   {
    "duration": 9,
    "start_time": "2022-12-22T13:31:28.697Z"
   },
   {
    "duration": 3,
    "start_time": "2022-12-22T13:31:30.177Z"
   },
   {
    "duration": 528,
    "start_time": "2022-12-22T13:34:37.941Z"
   },
   {
    "duration": 12,
    "start_time": "2022-12-22T13:36:48.646Z"
   },
   {
    "duration": 3,
    "start_time": "2022-12-22T13:37:13.921Z"
   },
   {
    "duration": 3008,
    "start_time": "2022-12-22T13:37:16.100Z"
   },
   {
    "duration": 2637,
    "start_time": "2022-12-22T13:38:17.185Z"
   },
   {
    "duration": 12,
    "start_time": "2022-12-22T13:39:38.090Z"
   },
   {
    "duration": 3,
    "start_time": "2022-12-22T13:42:34.765Z"
   },
   {
    "duration": 9,
    "start_time": "2022-12-22T13:42:38.037Z"
   },
   {
    "duration": 3,
    "start_time": "2022-12-22T13:42:48.031Z"
   },
   {
    "duration": 15,
    "start_time": "2022-12-22T13:43:16.607Z"
   },
   {
    "duration": 9,
    "start_time": "2022-12-22T13:45:22.545Z"
   },
   {
    "duration": 10,
    "start_time": "2022-12-22T13:46:05.474Z"
   },
   {
    "duration": 2139,
    "start_time": "2022-12-22T13:47:57.188Z"
   },
   {
    "duration": 1372,
    "start_time": "2022-12-22T13:52:38.957Z"
   },
   {
    "duration": 10,
    "start_time": "2022-12-22T13:53:11.442Z"
   },
   {
    "duration": 14,
    "start_time": "2022-12-22T13:54:01.099Z"
   },
   {
    "duration": 4,
    "start_time": "2022-12-22T13:57:15.158Z"
   },
   {
    "duration": 1587,
    "start_time": "2022-12-22T19:03:01.449Z"
   },
   {
    "duration": 2892,
    "start_time": "2022-12-22T19:03:04.913Z"
   },
   {
    "duration": 644,
    "start_time": "2022-12-22T19:03:10.396Z"
   },
   {
    "duration": 65,
    "start_time": "2022-12-22T19:03:16.913Z"
   },
   {
    "duration": 565,
    "start_time": "2022-12-22T19:03:22.450Z"
   },
   {
    "duration": 5,
    "start_time": "2022-12-22T19:03:28.333Z"
   },
   {
    "duration": 8,
    "start_time": "2022-12-22T19:03:32.354Z"
   },
   {
    "duration": 4,
    "start_time": "2022-12-22T19:03:36.601Z"
   },
   {
    "duration": 3,
    "start_time": "2022-12-22T19:03:43.426Z"
   },
   {
    "duration": 4,
    "start_time": "2022-12-22T19:03:48.120Z"
   },
   {
    "duration": 26,
    "start_time": "2022-12-22T19:03:50.104Z"
   },
   {
    "duration": 14,
    "start_time": "2022-12-22T19:03:51.658Z"
   },
   {
    "duration": 17,
    "start_time": "2022-12-22T19:03:55.922Z"
   },
   {
    "duration": 8,
    "start_time": "2022-12-22T19:04:01.325Z"
   },
   {
    "duration": 15,
    "start_time": "2022-12-22T19:04:04.319Z"
   },
   {
    "duration": 4,
    "start_time": "2022-12-22T19:04:12.176Z"
   },
   {
    "duration": 925,
    "start_time": "2022-12-22T19:04:17.703Z"
   },
   {
    "duration": 8,
    "start_time": "2022-12-22T19:04:26.140Z"
   },
   {
    "duration": 705,
    "start_time": "2022-12-22T19:04:32.208Z"
   },
   {
    "duration": 8,
    "start_time": "2022-12-22T19:04:39.999Z"
   },
   {
    "duration": 791,
    "start_time": "2022-12-22T19:04:44.520Z"
   },
   {
    "duration": 6,
    "start_time": "2022-12-22T19:04:50.760Z"
   },
   {
    "duration": 420,
    "start_time": "2022-12-22T19:04:59.375Z"
   },
   {
    "duration": 363,
    "start_time": "2022-12-22T19:05:04.645Z"
   },
   {
    "duration": 5,
    "start_time": "2022-12-22T19:05:11.025Z"
   },
   {
    "duration": 5,
    "start_time": "2022-12-22T19:05:16.428Z"
   },
   {
    "duration": 5,
    "start_time": "2022-12-22T19:05:22.700Z"
   },
   {
    "duration": 996,
    "start_time": "2022-12-22T19:05:28.178Z"
   },
   {
    "duration": 200,
    "start_time": "2022-12-22T19:05:35.967Z"
   },
   {
    "duration": 12,
    "start_time": "2022-12-22T19:05:41.761Z"
   },
   {
    "duration": 14,
    "start_time": "2022-12-22T19:05:43.769Z"
   },
   {
    "duration": 21,
    "start_time": "2022-12-22T19:05:49.306Z"
   },
   {
    "duration": 22,
    "start_time": "2022-12-22T19:05:57.144Z"
   },
   {
    "duration": 13,
    "start_time": "2022-12-22T19:06:02.802Z"
   },
   {
    "duration": 15,
    "start_time": "2022-12-22T19:06:05.377Z"
   },
   {
    "duration": 20,
    "start_time": "2022-12-22T19:06:12.027Z"
   },
   {
    "duration": 17,
    "start_time": "2022-12-22T19:06:23.919Z"
   },
   {
    "duration": 3,
    "start_time": "2022-12-22T19:06:35.833Z"
   },
   {
    "duration": 3,
    "start_time": "2022-12-22T19:06:37.961Z"
   },
   {
    "duration": 3,
    "start_time": "2022-12-22T19:06:41.052Z"
   },
   {
    "duration": 9,
    "start_time": "2022-12-22T19:06:43.449Z"
   },
   {
    "duration": 3,
    "start_time": "2022-12-22T19:06:50.214Z"
   },
   {
    "duration": 3,
    "start_time": "2022-12-22T19:06:52.660Z"
   },
   {
    "duration": 3,
    "start_time": "2022-12-22T19:06:55.125Z"
   },
   {
    "duration": 2,
    "start_time": "2022-12-22T19:07:01.791Z"
   },
   {
    "duration": 114,
    "start_time": "2022-12-22T19:07:09.872Z"
   },
   {
    "duration": 3,
    "start_time": "2022-12-22T19:07:14.800Z"
   },
   {
    "duration": 1580,
    "start_time": "2022-12-22T19:07:16.647Z"
   },
   {
    "duration": 1648,
    "start_time": "2022-12-22T19:07:23.073Z"
   },
   {
    "duration": 3850,
    "start_time": "2022-12-22T19:08:57.808Z"
   },
   {
    "duration": 6000,
    "start_time": "2022-12-22T19:09:15.264Z"
   },
   {
    "duration": 6411,
    "start_time": "2022-12-22T19:09:32.505Z"
   },
   {
    "duration": 6481,
    "start_time": "2022-12-22T19:09:48.118Z"
   },
   {
    "duration": 6571,
    "start_time": "2022-12-22T19:10:03.568Z"
   },
   {
    "duration": 4016,
    "start_time": "2022-12-22T19:10:46.128Z"
   },
   {
    "duration": 56887,
    "start_time": "2022-12-22T19:12:00.776Z"
   },
   {
    "duration": 4,
    "start_time": "2022-12-22T19:13:41.744Z"
   },
   {
    "duration": 66101,
    "start_time": "2022-12-22T19:15:35.996Z"
   },
   {
    "duration": 4,
    "start_time": "2022-12-22T19:16:48.332Z"
   },
   {
    "duration": 4,
    "start_time": "2022-12-22T19:18:40.460Z"
   },
   {
    "duration": 73669,
    "start_time": "2022-12-22T19:19:29.553Z"
   },
   {
    "duration": 103235,
    "start_time": "2022-12-22T19:22:23.606Z"
   },
   {
    "duration": 108456,
    "start_time": "2022-12-22T19:25:27.325Z"
   },
   {
    "duration": 1334,
    "start_time": "2022-12-22T20:01:05.713Z"
   },
   {
    "duration": 105,
    "start_time": "2022-12-22T20:02:03.107Z"
   },
   {
    "duration": 8,
    "start_time": "2022-12-22T20:02:58.352Z"
   },
   {
    "duration": 3,
    "start_time": "2022-12-22T20:04:01.391Z"
   },
   {
    "duration": 667,
    "start_time": "2022-12-22T20:04:02.891Z"
   },
   {
    "duration": 48,
    "start_time": "2022-12-22T20:04:05.251Z"
   },
   {
    "duration": 54,
    "start_time": "2022-12-22T20:04:10.503Z"
   },
   {
    "duration": 547,
    "start_time": "2022-12-22T20:04:16.101Z"
   },
   {
    "duration": 4,
    "start_time": "2022-12-22T20:04:24.225Z"
   },
   {
    "duration": 7,
    "start_time": "2022-12-22T20:04:28.446Z"
   },
   {
    "duration": 5,
    "start_time": "2022-12-22T20:04:35.469Z"
   },
   {
    "duration": 4,
    "start_time": "2022-12-22T20:04:40.599Z"
   },
   {
    "duration": 4,
    "start_time": "2022-12-22T20:04:42.158Z"
   },
   {
    "duration": 3,
    "start_time": "2022-12-22T20:04:47.992Z"
   },
   {
    "duration": 24,
    "start_time": "2022-12-22T20:04:49.591Z"
   },
   {
    "duration": 14,
    "start_time": "2022-12-22T20:04:53.040Z"
   },
   {
    "duration": 14,
    "start_time": "2022-12-22T20:05:02.648Z"
   },
   {
    "duration": 10,
    "start_time": "2022-12-22T20:05:04.519Z"
   },
   {
    "duration": 14,
    "start_time": "2022-12-22T20:05:06.295Z"
   },
   {
    "duration": 4,
    "start_time": "2022-12-22T20:05:12.899Z"
   },
   {
    "duration": 4,
    "start_time": "2022-12-22T20:05:25.024Z"
   },
   {
    "duration": 6,
    "start_time": "2022-12-22T20:05:30.479Z"
   },
   {
    "duration": 795,
    "start_time": "2022-12-22T20:05:32.609Z"
   },
   {
    "duration": 7,
    "start_time": "2022-12-22T20:05:39.821Z"
   },
   {
    "duration": 634,
    "start_time": "2022-12-22T20:05:41.603Z"
   },
   {
    "duration": 7,
    "start_time": "2022-12-22T20:05:45.840Z"
   },
   {
    "duration": 407,
    "start_time": "2022-12-22T20:05:49.406Z"
   },
   {
    "duration": 427,
    "start_time": "2022-12-22T20:05:53.479Z"
   },
   {
    "duration": 5,
    "start_time": "2022-12-22T20:05:58.005Z"
   },
   {
    "duration": 3,
    "start_time": "2022-12-22T20:05:59.517Z"
   },
   {
    "duration": 5,
    "start_time": "2022-12-22T20:06:10.860Z"
   },
   {
    "duration": 5,
    "start_time": "2022-12-22T20:06:12.799Z"
   },
   {
    "duration": 951,
    "start_time": "2022-12-22T20:06:17.206Z"
   },
   {
    "duration": 195,
    "start_time": "2022-12-22T20:06:22.507Z"
   },
   {
    "duration": 12,
    "start_time": "2022-12-22T20:06:28.607Z"
   },
   {
    "duration": 16,
    "start_time": "2022-12-22T20:06:30.622Z"
   },
   {
    "duration": 24,
    "start_time": "2022-12-22T20:06:32.475Z"
   },
   {
    "duration": 23,
    "start_time": "2022-12-22T20:06:42.080Z"
   },
   {
    "duration": 19,
    "start_time": "2022-12-22T20:06:47.250Z"
   },
   {
    "duration": 18,
    "start_time": "2022-12-22T20:06:49.476Z"
   },
   {
    "duration": 20,
    "start_time": "2022-12-22T20:06:51.099Z"
   },
   {
    "duration": 16,
    "start_time": "2022-12-22T20:06:53.324Z"
   },
   {
    "duration": 7,
    "start_time": "2022-12-22T20:07:01.350Z"
   },
   {
    "duration": 57,
    "start_time": "2022-12-22T20:08:13.373Z"
   },
   {
    "duration": 3,
    "start_time": "2022-12-22T20:09:37.623Z"
   },
   {
    "duration": 3,
    "start_time": "2022-12-22T20:10:00.398Z"
   },
   {
    "duration": 2,
    "start_time": "2022-12-22T20:10:26.504Z"
   },
   {
    "duration": 961,
    "start_time": "2022-12-22T20:11:03.212Z"
   },
   {
    "duration": 11,
    "start_time": "2022-12-22T20:16:04.113Z"
   },
   {
    "duration": 754,
    "start_time": "2022-12-22T20:17:26.191Z"
   },
   {
    "duration": 970,
    "start_time": "2022-12-22T20:27:43.126Z"
   },
   {
    "duration": 14,
    "start_time": "2022-12-22T20:32:10.662Z"
   },
   {
    "duration": 13,
    "start_time": "2022-12-22T20:32:13.147Z"
   },
   {
    "duration": 656,
    "start_time": "2022-12-22T20:32:19.124Z"
   },
   {
    "duration": 9,
    "start_time": "2022-12-22T20:32:27.034Z"
   },
   {
    "duration": 978,
    "start_time": "2022-12-22T20:32:39.449Z"
   },
   {
    "duration": 551,
    "start_time": "2022-12-22T20:33:54.196Z"
   },
   {
    "duration": 9,
    "start_time": "2022-12-22T20:40:33.859Z"
   },
   {
    "duration": 3,
    "start_time": "2022-12-22T20:42:01.708Z"
   },
   {
    "duration": 3,
    "start_time": "2022-12-22T20:42:16.440Z"
   },
   {
    "duration": 9,
    "start_time": "2022-12-22T20:42:55.251Z"
   },
   {
    "duration": 13,
    "start_time": "2022-12-22T20:43:04.927Z"
   },
   {
    "duration": 8,
    "start_time": "2022-12-22T20:43:14.926Z"
   },
   {
    "duration": 2,
    "start_time": "2022-12-22T20:43:16.884Z"
   },
   {
    "duration": 2,
    "start_time": "2022-12-22T20:43:18.780Z"
   },
   {
    "duration": 3,
    "start_time": "2022-12-22T20:43:20.943Z"
   },
   {
    "duration": 543,
    "start_time": "2022-12-22T20:43:22.591Z"
   },
   {
    "duration": 46,
    "start_time": "2022-12-22T20:43:34.171Z"
   },
   {
    "duration": 3,
    "start_time": "2022-12-22T21:00:39.450Z"
   },
   {
    "duration": 8,
    "start_time": "2022-12-22T21:01:22.599Z"
   },
   {
    "duration": 4,
    "start_time": "2022-12-22T21:04:22.565Z"
   },
   {
    "duration": 11,
    "start_time": "2022-12-22T21:04:52.852Z"
   },
   {
    "duration": 1571,
    "start_time": "2022-12-23T06:25:33.461Z"
   },
   {
    "duration": 2993,
    "start_time": "2022-12-23T06:25:36.749Z"
   },
   {
    "duration": 43,
    "start_time": "2022-12-23T06:25:42.644Z"
   },
   {
    "duration": 12,
    "start_time": "2022-12-23T06:25:55.980Z"
   },
   {
    "duration": 8,
    "start_time": "2022-12-23T06:25:58.596Z"
   },
   {
    "duration": 10,
    "start_time": "2022-12-23T06:27:02.686Z"
   },
   {
    "duration": 8,
    "start_time": "2022-12-23T06:27:17.150Z"
   },
   {
    "duration": 5,
    "start_time": "2022-12-23T06:27:20.094Z"
   },
   {
    "duration": 3,
    "start_time": "2022-12-23T06:27:25.445Z"
   },
   {
    "duration": 4,
    "start_time": "2022-12-23T06:27:29.695Z"
   },
   {
    "duration": 3,
    "start_time": "2022-12-23T06:27:33.341Z"
   },
   {
    "duration": 24,
    "start_time": "2022-12-23T06:27:42.261Z"
   },
   {
    "duration": 15,
    "start_time": "2022-12-23T06:27:44.110Z"
   },
   {
    "duration": 10,
    "start_time": "2022-12-23T06:28:07.095Z"
   },
   {
    "duration": 11,
    "start_time": "2022-12-23T06:28:26.263Z"
   },
   {
    "duration": 14,
    "start_time": "2022-12-23T06:28:53.072Z"
   },
   {
    "duration": 24,
    "start_time": "2022-12-23T06:28:55.120Z"
   },
   {
    "duration": 25,
    "start_time": "2022-12-23T06:29:01.303Z"
   },
   {
    "duration": 28,
    "start_time": "2022-12-23T06:29:03.560Z"
   },
   {
    "duration": 11,
    "start_time": "2022-12-23T06:29:08.439Z"
   },
   {
    "duration": 13,
    "start_time": "2022-12-23T06:29:10.720Z"
   },
   {
    "duration": 22,
    "start_time": "2022-12-23T06:29:13.663Z"
   },
   {
    "duration": 106,
    "start_time": "2022-12-23T06:43:54.287Z"
   },
   {
    "duration": 24,
    "start_time": "2022-12-23T06:44:55.415Z"
   },
   {
    "duration": 1427,
    "start_time": "2022-12-23T06:46:32.969Z"
   },
   {
    "duration": 694,
    "start_time": "2022-12-23T06:46:36.737Z"
   },
   {
    "duration": 11,
    "start_time": "2022-12-23T06:46:46.651Z"
   },
   {
    "duration": 9,
    "start_time": "2022-12-23T06:46:48.417Z"
   },
   {
    "duration": 10,
    "start_time": "2022-12-23T06:46:50.698Z"
   },
   {
    "duration": 10,
    "start_time": "2022-12-23T06:46:55.369Z"
   },
   {
    "duration": 22,
    "start_time": "2022-12-23T06:47:01.266Z"
   },
   {
    "duration": 10,
    "start_time": "2022-12-23T06:47:04.449Z"
   },
   {
    "duration": 13,
    "start_time": "2022-12-23T06:47:06.898Z"
   },
   {
    "duration": 119,
    "start_time": "2022-12-23T06:47:58.411Z"
   },
   {
    "duration": 4,
    "start_time": "2022-12-23T06:52:25.687Z"
   },
   {
    "duration": 4,
    "start_time": "2022-12-23T07:04:20.922Z"
   },
   {
    "duration": 10,
    "start_time": "2022-12-23T07:07:12.140Z"
   },
   {
    "duration": 3,
    "start_time": "2022-12-23T07:07:24.957Z"
   },
   {
    "duration": 3,
    "start_time": "2022-12-23T07:07:26.789Z"
   },
   {
    "duration": 14,
    "start_time": "2022-12-23T07:07:28.349Z"
   },
   {
    "duration": 3,
    "start_time": "2022-12-23T07:07:43.085Z"
   },
   {
    "duration": 4,
    "start_time": "2022-12-23T07:07:52.997Z"
   },
   {
    "duration": 3,
    "start_time": "2022-12-23T07:07:55.109Z"
   },
   {
    "duration": 3,
    "start_time": "2022-12-23T07:07:56.853Z"
   },
   {
    "duration": 8,
    "start_time": "2022-12-23T07:07:58.317Z"
   },
   {
    "duration": 68,
    "start_time": "2022-12-23T07:15:22.463Z"
   },
   {
    "duration": 9,
    "start_time": "2022-12-23T07:15:32.916Z"
   },
   {
    "duration": 3,
    "start_time": "2022-12-23T07:15:45.221Z"
   },
   {
    "duration": 1283,
    "start_time": "2022-12-23T07:15:47.068Z"
   },
   {
    "duration": 18,
    "start_time": "2022-12-23T07:24:32.205Z"
   },
   {
    "duration": 1376,
    "start_time": "2022-12-23T07:29:09.897Z"
   },
   {
    "duration": 1645,
    "start_time": "2022-12-23T07:31:56.468Z"
   },
   {
    "duration": 1549,
    "start_time": "2022-12-24T15:03:05.620Z"
   },
   {
    "duration": 2960,
    "start_time": "2022-12-24T15:03:08.232Z"
   },
   {
    "duration": 12,
    "start_time": "2022-12-24T15:03:19.793Z"
   },
   {
    "duration": 9,
    "start_time": "2022-12-24T15:03:22.080Z"
   },
   {
    "duration": 10,
    "start_time": "2022-12-24T15:03:27.487Z"
   },
   {
    "duration": 8,
    "start_time": "2022-12-24T15:03:33.247Z"
   },
   {
    "duration": 5,
    "start_time": "2022-12-24T15:03:36.474Z"
   },
   {
    "duration": 3,
    "start_time": "2022-12-24T15:03:44.250Z"
   },
   {
    "duration": 5,
    "start_time": "2022-12-24T15:03:45.941Z"
   },
   {
    "duration": 4,
    "start_time": "2022-12-24T15:03:52.159Z"
   },
   {
    "duration": 22,
    "start_time": "2022-12-24T15:03:54.563Z"
   },
   {
    "duration": 14,
    "start_time": "2022-12-24T15:03:56.537Z"
   },
   {
    "duration": 10,
    "start_time": "2022-12-24T15:04:11.731Z"
   },
   {
    "duration": 11,
    "start_time": "2022-12-24T15:04:14.261Z"
   },
   {
    "duration": 18,
    "start_time": "2022-12-24T15:04:16.372Z"
   },
   {
    "duration": 4,
    "start_time": "2022-12-24T15:04:22.774Z"
   },
   {
    "duration": 9,
    "start_time": "2022-12-24T15:04:35.765Z"
   },
   {
    "duration": 14,
    "start_time": "2022-12-24T15:04:37.608Z"
   },
   {
    "duration": 15,
    "start_time": "2022-12-24T15:04:40.116Z"
   },
   {
    "duration": 4,
    "start_time": "2022-12-24T15:05:21.337Z"
   },
   {
    "duration": 120,
    "start_time": "2022-12-24T15:05:34.234Z"
   },
   {
    "duration": 2,
    "start_time": "2022-12-24T15:06:02.480Z"
   },
   {
    "duration": 5,
    "start_time": "2022-12-24T15:06:22.214Z"
   },
   {
    "duration": 22,
    "start_time": "2022-12-24T15:07:19.084Z"
   },
   {
    "duration": 9,
    "start_time": "2022-12-24T15:07:34.709Z"
   },
   {
    "duration": 2,
    "start_time": "2022-12-24T15:07:56.090Z"
   },
   {
    "duration": 2,
    "start_time": "2022-12-24T15:08:11.210Z"
   },
   {
    "duration": 2,
    "start_time": "2022-12-24T15:08:23.559Z"
   },
   {
    "duration": 11,
    "start_time": "2022-12-24T15:09:06.564Z"
   },
   {
    "duration": 3,
    "start_time": "2022-12-24T15:09:20.300Z"
   },
   {
    "duration": 2,
    "start_time": "2022-12-24T15:09:21.513Z"
   },
   {
    "duration": 2,
    "start_time": "2022-12-24T15:09:33.934Z"
   },
   {
    "duration": 47,
    "start_time": "2022-12-24T15:09:35.717Z"
   },
   {
    "duration": 3,
    "start_time": "2022-12-24T15:10:51.614Z"
   },
   {
    "duration": 4,
    "start_time": "2022-12-24T15:11:07.149Z"
   },
   {
    "duration": 4,
    "start_time": "2022-12-24T15:11:17.074Z"
   },
   {
    "duration": 10,
    "start_time": "2022-12-24T15:12:05.243Z"
   },
   {
    "duration": 3,
    "start_time": "2022-12-24T15:12:44.997Z"
   },
   {
    "duration": 9,
    "start_time": "2022-12-24T15:13:06.815Z"
   },
   {
    "duration": 5,
    "start_time": "2022-12-24T15:13:19.365Z"
   },
   {
    "duration": 5,
    "start_time": "2022-12-24T15:13:29.761Z"
   },
   {
    "duration": 2,
    "start_time": "2022-12-24T15:13:31.172Z"
   },
   {
    "duration": 3,
    "start_time": "2022-12-24T15:13:32.718Z"
   },
   {
    "duration": 6,
    "start_time": "2022-12-24T15:14:15.813Z"
   },
   {
    "duration": 2389,
    "start_time": "2022-12-24T15:15:13.829Z"
   },
   {
    "duration": 3,
    "start_time": "2022-12-24T15:15:44.455Z"
   },
   {
    "duration": 3643,
    "start_time": "2022-12-24T15:16:53.779Z"
   },
   {
    "duration": 3,
    "start_time": "2022-12-24T15:16:59.747Z"
   },
   {
    "duration": 9,
    "start_time": "2022-12-24T15:17:29.051Z"
   },
   {
    "duration": 2,
    "start_time": "2022-12-24T15:17:37.356Z"
   },
   {
    "duration": 4300,
    "start_time": "2022-12-24T15:17:43.529Z"
   },
   {
    "duration": 5,
    "start_time": "2022-12-24T15:17:47.831Z"
   },
   {
    "duration": 3413,
    "start_time": "2022-12-24T15:18:09.711Z"
   },
   {
    "duration": 82,
    "start_time": "2022-12-24T15:18:13.135Z"
   },
   {
    "duration": 9,
    "start_time": "2022-12-24T15:19:52.266Z"
   },
   {
    "duration": 52,
    "start_time": "2022-12-24T15:20:31.727Z"
   },
   {
    "duration": 25260,
    "start_time": "2022-12-24T15:20:50.988Z"
   },
   {
    "duration": 3,
    "start_time": "2022-12-24T15:21:51.879Z"
   },
   {
    "duration": 759820,
    "start_time": "2022-12-24T15:22:37.720Z"
   },
   {
    "duration": 3,
    "start_time": "2022-12-24T15:35:17.542Z"
   },
   {
    "duration": 4,
    "start_time": "2022-12-24T15:36:34.406Z"
   },
   {
    "duration": 10,
    "start_time": "2022-12-24T15:37:02.667Z"
   },
   {
    "duration": 23365,
    "start_time": "2022-12-24T15:37:28.386Z"
   },
   {
    "duration": 3,
    "start_time": "2022-12-24T15:37:54.782Z"
   },
   {
    "duration": 8,
    "start_time": "2022-12-24T15:38:37.724Z"
   },
   {
    "duration": 9,
    "start_time": "2022-12-24T15:38:43.112Z"
   },
   {
    "duration": 11,
    "start_time": "2022-12-24T15:38:55.114Z"
   },
   {
    "duration": 16,
    "start_time": "2022-12-24T15:38:59.267Z"
   },
   {
    "duration": 9,
    "start_time": "2022-12-24T15:39:41.668Z"
   },
   {
    "duration": 20,
    "start_time": "2022-12-24T15:39:54.552Z"
   },
   {
    "duration": 1611,
    "start_time": "2022-12-24T15:43:34.470Z"
   },
   {
    "duration": 705,
    "start_time": "2022-12-24T15:43:38.306Z"
   },
   {
    "duration": 40,
    "start_time": "2022-12-24T15:43:43.257Z"
   },
   {
    "duration": 56,
    "start_time": "2022-12-24T15:43:48.290Z"
   },
   {
    "duration": 570,
    "start_time": "2022-12-24T15:44:08.680Z"
   },
   {
    "duration": 5,
    "start_time": "2022-12-24T15:44:17.192Z"
   },
   {
    "duration": 11,
    "start_time": "2022-12-24T15:44:20.223Z"
   },
   {
    "duration": 8,
    "start_time": "2022-12-24T15:44:24.587Z"
   },
   {
    "duration": 10,
    "start_time": "2022-12-24T15:44:29.605Z"
   },
   {
    "duration": 8,
    "start_time": "2022-12-24T15:44:34.231Z"
   },
   {
    "duration": 5,
    "start_time": "2022-12-24T15:44:39.923Z"
   },
   {
    "duration": 3,
    "start_time": "2022-12-24T15:44:43.522Z"
   },
   {
    "duration": 4,
    "start_time": "2022-12-24T15:44:46.003Z"
   },
   {
    "duration": 4,
    "start_time": "2022-12-24T15:44:52.724Z"
   },
   {
    "duration": 23,
    "start_time": "2022-12-24T15:44:56.840Z"
   },
   {
    "duration": 23,
    "start_time": "2022-12-24T15:45:17.623Z"
   },
   {
    "duration": 13,
    "start_time": "2022-12-24T15:45:50.059Z"
   },
   {
    "duration": 21,
    "start_time": "2022-12-24T15:46:08.989Z"
   },
   {
    "duration": 105,
    "start_time": "2022-12-24T15:48:21.799Z"
   },
   {
    "duration": 18,
    "start_time": "2022-12-24T15:48:46.176Z"
   },
   {
    "duration": 20,
    "start_time": "2022-12-24T15:48:48.597Z"
   },
   {
    "duration": 11,
    "start_time": "2022-12-24T15:49:23.284Z"
   },
   {
    "duration": 3,
    "start_time": "2022-12-24T15:49:41.956Z"
   },
   {
    "duration": 7,
    "start_time": "2022-12-24T15:49:43.732Z"
   },
   {
    "duration": 3,
    "start_time": "2022-12-24T15:49:45.361Z"
   },
   {
    "duration": 2,
    "start_time": "2022-12-24T15:49:47.580Z"
   },
   {
    "duration": 3,
    "start_time": "2022-12-24T15:49:48.993Z"
   },
   {
    "duration": 4,
    "start_time": "2022-12-24T15:49:50.619Z"
   },
   {
    "duration": 6,
    "start_time": "2022-12-24T15:49:53.598Z"
   },
   {
    "duration": 45,
    "start_time": "2022-12-24T15:49:55.423Z"
   },
   {
    "duration": 1460,
    "start_time": "2022-12-24T15:51:01.925Z"
   },
   {
    "duration": 713,
    "start_time": "2022-12-24T15:51:04.654Z"
   },
   {
    "duration": 12,
    "start_time": "2022-12-24T15:51:15.505Z"
   },
   {
    "duration": 14,
    "start_time": "2022-12-24T15:51:17.154Z"
   },
   {
    "duration": 11,
    "start_time": "2022-12-24T15:51:22.454Z"
   },
   {
    "duration": 7,
    "start_time": "2022-12-24T15:51:27.098Z"
   },
   {
    "duration": 5,
    "start_time": "2022-12-24T15:51:36.075Z"
   },
   {
    "duration": 4,
    "start_time": "2022-12-24T15:51:38.128Z"
   },
   {
    "duration": 4,
    "start_time": "2022-12-24T15:51:43.931Z"
   },
   {
    "duration": 4,
    "start_time": "2022-12-24T15:51:52.400Z"
   },
   {
    "duration": 29,
    "start_time": "2022-12-24T15:51:57.366Z"
   },
   {
    "duration": 14,
    "start_time": "2022-12-24T15:51:58.976Z"
   },
   {
    "duration": 22,
    "start_time": "2022-12-24T15:52:00.990Z"
   },
   {
    "duration": 17,
    "start_time": "2022-12-24T15:52:14.148Z"
   },
   {
    "duration": 30,
    "start_time": "2022-12-24T15:52:51.586Z"
   },
   {
    "duration": 11,
    "start_time": "2022-12-24T15:53:10.143Z"
   },
   {
    "duration": 17,
    "start_time": "2022-12-24T15:53:14.463Z"
   },
   {
    "duration": 23,
    "start_time": "2022-12-24T15:53:18.025Z"
   },
   {
    "duration": 22,
    "start_time": "2022-12-24T15:53:25.337Z"
   },
   {
    "duration": 13,
    "start_time": "2022-12-24T15:53:31.352Z"
   },
   {
    "duration": 13,
    "start_time": "2022-12-24T15:53:33.065Z"
   },
   {
    "duration": 13,
    "start_time": "2022-12-24T15:53:35.622Z"
   },
   {
    "duration": 18,
    "start_time": "2022-12-24T15:53:41.299Z"
   },
   {
    "duration": 3,
    "start_time": "2022-12-24T15:53:47.794Z"
   },
   {
    "duration": 6,
    "start_time": "2022-12-24T15:53:49.529Z"
   },
   {
    "duration": 4,
    "start_time": "2022-12-24T15:53:51.336Z"
   },
   {
    "duration": 3,
    "start_time": "2022-12-24T15:53:53.614Z"
   },
   {
    "duration": 3,
    "start_time": "2022-12-24T15:53:55.189Z"
   },
   {
    "duration": 5,
    "start_time": "2022-12-24T15:53:57.471Z"
   },
   {
    "duration": 55,
    "start_time": "2022-12-24T15:53:59.416Z"
   },
   {
    "duration": 53,
    "start_time": "2022-12-24T15:54:12.359Z"
   },
   {
    "duration": 3,
    "start_time": "2022-12-24T15:56:00.243Z"
   },
   {
    "duration": 14,
    "start_time": "2022-12-24T15:56:58.235Z"
   },
   {
    "duration": 22,
    "start_time": "2022-12-24T15:57:00.259Z"
   },
   {
    "duration": 49,
    "start_time": "2022-12-24T15:57:28.960Z"
   },
   {
    "duration": 3,
    "start_time": "2022-12-24T15:57:46.713Z"
   },
   {
    "duration": 25,
    "start_time": "2022-12-24T15:59:34.604Z"
   },
   {
    "duration": 5,
    "start_time": "2022-12-24T16:04:30.077Z"
   },
   {
    "duration": 62,
    "start_time": "2022-12-24T16:04:46.627Z"
   },
   {
    "duration": 4,
    "start_time": "2022-12-24T16:04:51.626Z"
   },
   {
    "duration": 1401,
    "start_time": "2022-12-24T16:05:59.950Z"
   },
   {
    "duration": 705,
    "start_time": "2022-12-24T16:06:02.895Z"
   },
   {
    "duration": 11,
    "start_time": "2022-12-24T16:06:14.370Z"
   },
   {
    "duration": 8,
    "start_time": "2022-12-24T16:06:19.964Z"
   },
   {
    "duration": 10,
    "start_time": "2022-12-24T16:06:24.513Z"
   },
   {
    "duration": 9,
    "start_time": "2022-12-24T16:06:26.527Z"
   },
   {
    "duration": 4,
    "start_time": "2022-12-24T16:06:31.584Z"
   },
   {
    "duration": 3,
    "start_time": "2022-12-24T16:06:33.535Z"
   },
   {
    "duration": 5,
    "start_time": "2022-12-24T16:06:36.420Z"
   },
   {
    "duration": 4,
    "start_time": "2022-12-24T16:06:42.365Z"
   },
   {
    "duration": 14,
    "start_time": "2022-12-24T16:06:44.756Z"
   },
   {
    "duration": 15,
    "start_time": "2022-12-24T16:06:50.703Z"
   },
   {
    "duration": 16,
    "start_time": "2022-12-24T16:07:01.460Z"
   },
   {
    "duration": 29,
    "start_time": "2022-12-24T16:07:18.679Z"
   },
   {
    "duration": 26,
    "start_time": "2022-12-24T16:07:28.004Z"
   },
   {
    "duration": 12,
    "start_time": "2022-12-24T16:07:34.362Z"
   },
   {
    "duration": 20,
    "start_time": "2022-12-24T16:07:37.661Z"
   },
   {
    "duration": 3,
    "start_time": "2022-12-24T16:07:45.244Z"
   },
   {
    "duration": 5,
    "start_time": "2022-12-24T16:07:46.847Z"
   },
   {
    "duration": 4,
    "start_time": "2022-12-24T16:07:48.424Z"
   },
   {
    "duration": 3,
    "start_time": "2022-12-24T16:07:50.043Z"
   },
   {
    "duration": 3,
    "start_time": "2022-12-24T16:07:51.956Z"
   },
   {
    "duration": 2,
    "start_time": "2022-12-24T16:07:53.443Z"
   },
   {
    "duration": 115,
    "start_time": "2022-12-24T16:07:54.845Z"
   },
   {
    "duration": 8,
    "start_time": "2022-12-24T16:09:12.545Z"
   },
   {
    "duration": 6,
    "start_time": "2022-12-24T16:09:18.292Z"
   },
   {
    "duration": 21,
    "start_time": "2022-12-24T16:09:20.244Z"
   },
   {
    "duration": 53,
    "start_time": "2022-12-24T16:09:28.397Z"
   },
   {
    "duration": 24,
    "start_time": "2022-12-24T16:09:57.244Z"
   },
   {
    "duration": 16,
    "start_time": "2022-12-24T16:11:09.307Z"
   },
   {
    "duration": 6,
    "start_time": "2022-12-24T16:11:11.913Z"
   },
   {
    "duration": 21,
    "start_time": "2022-12-24T16:11:14.433Z"
   },
   {
    "duration": 64,
    "start_time": "2022-12-24T16:11:19.646Z"
   },
   {
    "duration": 3,
    "start_time": "2022-12-24T16:11:30.524Z"
   },
   {
    "duration": 4,
    "start_time": "2022-12-24T16:12:25.694Z"
   },
   {
    "duration": 715,
    "start_time": "2022-12-24T16:12:27.125Z"
   },
   {
    "duration": 9,
    "start_time": "2022-12-24T16:12:37.641Z"
   },
   {
    "duration": 10,
    "start_time": "2022-12-24T16:12:39.045Z"
   },
   {
    "duration": 11,
    "start_time": "2022-12-24T16:12:44.312Z"
   },
   {
    "duration": 2,
    "start_time": "2022-12-24T16:12:54.635Z"
   },
   {
    "duration": 24,
    "start_time": "2022-12-24T16:12:59.980Z"
   },
   {
    "duration": 20,
    "start_time": "2022-12-24T16:13:02.244Z"
   },
   {
    "duration": 11,
    "start_time": "2022-12-24T16:13:07.679Z"
   },
   {
    "duration": 13,
    "start_time": "2022-12-24T16:13:24.780Z"
   },
   {
    "duration": 16,
    "start_time": "2022-12-24T16:13:26.976Z"
   },
   {
    "duration": 13,
    "start_time": "2022-12-24T16:13:41.455Z"
   },
   {
    "duration": 18,
    "start_time": "2022-12-24T16:13:43.128Z"
   },
   {
    "duration": 22,
    "start_time": "2022-12-24T16:13:46.835Z"
   },
   {
    "duration": 9,
    "start_time": "2022-12-24T16:14:15.879Z"
   },
   {
    "duration": 13,
    "start_time": "2022-12-24T16:14:17.461Z"
   },
   {
    "duration": 17,
    "start_time": "2022-12-24T16:14:19.713Z"
   },
   {
    "duration": 3,
    "start_time": "2022-12-24T16:14:26.164Z"
   },
   {
    "duration": 6,
    "start_time": "2022-12-24T16:14:27.603Z"
   },
   {
    "duration": 4,
    "start_time": "2022-12-24T16:14:29.081Z"
   },
   {
    "duration": 3,
    "start_time": "2022-12-24T16:14:30.910Z"
   },
   {
    "duration": 3,
    "start_time": "2022-12-24T16:14:32.599Z"
   },
   {
    "duration": 18,
    "start_time": "2022-12-24T16:14:34.523Z"
   },
   {
    "duration": 6,
    "start_time": "2022-12-24T16:14:40.270Z"
   },
   {
    "duration": 3659,
    "start_time": "2022-12-24T16:14:47.167Z"
   },
   {
    "duration": 3,
    "start_time": "2022-12-24T16:14:53.891Z"
   },
   {
    "duration": 3,
    "start_time": "2022-12-24T16:16:05.212Z"
   },
   {
    "duration": 34002,
    "start_time": "2022-12-24T16:16:15.963Z"
   },
   {
    "duration": 3,
    "start_time": "2022-12-24T16:16:49.967Z"
   },
   {
    "duration": 4,
    "start_time": "2022-12-24T16:57:34.471Z"
   },
   {
    "duration": 1393,
    "start_time": "2022-12-24T16:57:51.293Z"
   },
   {
    "duration": 697,
    "start_time": "2022-12-24T16:57:56.461Z"
   },
   {
    "duration": 5,
    "start_time": "2022-12-24T16:58:04.777Z"
   },
   {
    "duration": 12,
    "start_time": "2022-12-24T16:58:06.299Z"
   },
   {
    "duration": 9,
    "start_time": "2022-12-24T16:58:07.816Z"
   },
   {
    "duration": 10,
    "start_time": "2022-12-24T16:58:12.841Z"
   },
   {
    "duration": 3,
    "start_time": "2022-12-24T16:58:21.051Z"
   },
   {
    "duration": 23,
    "start_time": "2022-12-24T16:58:28.283Z"
   },
   {
    "duration": 13,
    "start_time": "2022-12-24T16:58:29.647Z"
   },
   {
    "duration": 14,
    "start_time": "2022-12-24T16:58:34.715Z"
   },
   {
    "duration": 20,
    "start_time": "2022-12-24T16:58:39.175Z"
   },
   {
    "duration": 16,
    "start_time": "2022-12-24T16:58:40.567Z"
   },
   {
    "duration": 12,
    "start_time": "2022-12-24T16:58:53.049Z"
   },
   {
    "duration": 15,
    "start_time": "2022-12-24T16:58:54.663Z"
   },
   {
    "duration": 24,
    "start_time": "2022-12-24T16:59:07.776Z"
   },
   {
    "duration": 2,
    "start_time": "2022-12-24T16:59:33.500Z"
   },
   {
    "duration": 7,
    "start_time": "2022-12-24T16:59:34.941Z"
   },
   {
    "duration": 4,
    "start_time": "2022-12-24T16:59:36.433Z"
   },
   {
    "duration": 2,
    "start_time": "2022-12-24T16:59:38.032Z"
   },
   {
    "duration": 2,
    "start_time": "2022-12-24T16:59:39.401Z"
   },
   {
    "duration": 122,
    "start_time": "2022-12-24T16:59:40.853Z"
   },
   {
    "duration": 8,
    "start_time": "2022-12-24T16:59:46.356Z"
   },
   {
    "duration": 3285,
    "start_time": "2022-12-24T16:59:51.731Z"
   },
   {
    "duration": 3,
    "start_time": "2022-12-24T16:59:58.245Z"
   },
   {
    "duration": 16,
    "start_time": "2022-12-24T17:00:17.548Z"
   },
   {
    "duration": 15,
    "start_time": "2022-12-24T17:00:55.968Z"
   },
   {
    "duration": 20,
    "start_time": "2022-12-24T17:01:39.773Z"
   },
   {
    "duration": 14,
    "start_time": "2022-12-24T17:02:03.642Z"
   },
   {
    "duration": 12,
    "start_time": "2022-12-24T17:03:05.614Z"
   },
   {
    "duration": 1314,
    "start_time": "2022-12-24T17:03:56.752Z"
   },
   {
    "duration": 716,
    "start_time": "2022-12-24T17:03:59.544Z"
   },
   {
    "duration": 39,
    "start_time": "2022-12-24T17:04:01.039Z"
   },
   {
    "duration": 56,
    "start_time": "2022-12-24T17:04:06.474Z"
   },
   {
    "duration": 12,
    "start_time": "2022-12-24T17:04:15.207Z"
   },
   {
    "duration": 9,
    "start_time": "2022-12-24T17:04:17.110Z"
   },
   {
    "duration": 11,
    "start_time": "2022-12-24T17:04:26.765Z"
   },
   {
    "duration": 117,
    "start_time": "2022-12-24T17:04:34.721Z"
   },
   {
    "duration": 10,
    "start_time": "2022-12-24T17:04:38.561Z"
   },
   {
    "duration": 4,
    "start_time": "2022-12-24T17:04:40.650Z"
   },
   {
    "duration": 3,
    "start_time": "2022-12-24T17:04:46.651Z"
   },
   {
    "duration": 23,
    "start_time": "2022-12-24T17:04:55.041Z"
   },
   {
    "duration": 16,
    "start_time": "2022-12-24T17:05:00.982Z"
   },
   {
    "duration": 19,
    "start_time": "2022-12-24T17:05:08.622Z"
   },
   {
    "duration": 21,
    "start_time": "2022-12-24T17:05:31.767Z"
   },
   {
    "duration": 8,
    "start_time": "2022-12-24T17:05:38.177Z"
   },
   {
    "duration": 12,
    "start_time": "2022-12-24T17:05:39.869Z"
   },
   {
    "duration": 15,
    "start_time": "2022-12-24T17:05:45.243Z"
   },
   {
    "duration": 6,
    "start_time": "2022-12-24T17:06:11.543Z"
   },
   {
    "duration": 17,
    "start_time": "2022-12-24T17:06:21.113Z"
   },
   {
    "duration": 25,
    "start_time": "2022-12-24T17:08:27.479Z"
   },
   {
    "duration": 15,
    "start_time": "2022-12-24T17:08:33.525Z"
   },
   {
    "duration": 12,
    "start_time": "2022-12-24T17:09:46.742Z"
   },
   {
    "duration": 1351,
    "start_time": "2022-12-24T17:10:09.514Z"
   },
   {
    "duration": 713,
    "start_time": "2022-12-24T17:10:11.976Z"
   },
   {
    "duration": 37,
    "start_time": "2022-12-24T17:10:13.415Z"
   },
   {
    "duration": 571,
    "start_time": "2022-12-24T17:10:20.752Z"
   },
   {
    "duration": 10,
    "start_time": "2022-12-24T17:10:27.395Z"
   },
   {
    "duration": 8,
    "start_time": "2022-12-24T17:10:29.080Z"
   },
   {
    "duration": 10,
    "start_time": "2022-12-24T17:10:34.514Z"
   },
   {
    "duration": 3,
    "start_time": "2022-12-24T17:10:42.796Z"
   },
   {
    "duration": 22,
    "start_time": "2022-12-24T17:10:57.039Z"
   },
   {
    "duration": 14,
    "start_time": "2022-12-24T17:11:03.351Z"
   },
   {
    "duration": 23,
    "start_time": "2022-12-24T17:11:12.467Z"
   },
   {
    "duration": 21,
    "start_time": "2022-12-24T17:11:37.896Z"
   },
   {
    "duration": 14,
    "start_time": "2022-12-24T17:11:39.966Z"
   },
   {
    "duration": 23,
    "start_time": "2022-12-24T17:11:42.945Z"
   },
   {
    "duration": 7,
    "start_time": "2022-12-24T17:12:10.973Z"
   },
   {
    "duration": 109,
    "start_time": "2022-12-24T17:12:25.591Z"
   },
   {
    "duration": 19,
    "start_time": "2022-12-24T17:12:43.025Z"
   },
   {
    "duration": 3,
    "start_time": "2022-12-24T17:13:10.531Z"
   },
   {
    "duration": 6,
    "start_time": "2022-12-24T17:13:12.111Z"
   },
   {
    "duration": 16,
    "start_time": "2022-12-24T17:13:25.602Z"
   },
   {
    "duration": 9,
    "start_time": "2022-12-24T17:14:12.599Z"
   },
   {
    "duration": 22,
    "start_time": "2022-12-24T17:14:22.457Z"
   },
   {
    "duration": 55,
    "start_time": "2022-12-24T17:15:12.643Z"
   },
   {
    "duration": 53,
    "start_time": "2022-12-24T17:16:08.918Z"
   },
   {
    "duration": 63,
    "start_time": "2022-12-24T17:16:16.408Z"
   },
   {
    "duration": 53,
    "start_time": "2022-12-24T17:16:23.701Z"
   },
   {
    "duration": 13,
    "start_time": "2022-12-24T17:17:08.817Z"
   },
   {
    "duration": 1362,
    "start_time": "2022-12-24T17:19:01.872Z"
   },
   {
    "duration": 670,
    "start_time": "2022-12-24T17:19:03.236Z"
   },
   {
    "duration": 12,
    "start_time": "2022-12-24T17:19:17.519Z"
   },
   {
    "duration": 8,
    "start_time": "2022-12-24T17:19:20.251Z"
   },
   {
    "duration": 11,
    "start_time": "2022-12-24T17:19:27.067Z"
   },
   {
    "duration": 2,
    "start_time": "2022-12-24T17:19:36.035Z"
   },
   {
    "duration": 22,
    "start_time": "2022-12-24T17:19:43.943Z"
   },
   {
    "duration": 14,
    "start_time": "2022-12-24T17:19:45.353Z"
   },
   {
    "duration": 17,
    "start_time": "2022-12-24T17:19:50.824Z"
   },
   {
    "duration": 24,
    "start_time": "2022-12-24T17:19:55.828Z"
   },
   {
    "duration": 29,
    "start_time": "2022-12-24T17:20:07.131Z"
   },
   {
    "duration": 16,
    "start_time": "2022-12-24T17:20:39.281Z"
   },
   {
    "duration": 20,
    "start_time": "2022-12-24T17:20:42.651Z"
   },
   {
    "duration": 13,
    "start_time": "2022-12-24T17:20:44.349Z"
   },
   {
    "duration": 8,
    "start_time": "2022-12-24T17:21:01.352Z"
   },
   {
    "duration": 12,
    "start_time": "2022-12-24T17:21:02.972Z"
   },
   {
    "duration": 17,
    "start_time": "2022-12-24T17:21:13.179Z"
   },
   {
    "duration": 20,
    "start_time": "2022-12-24T17:21:35.147Z"
   },
   {
    "duration": 18,
    "start_time": "2022-12-24T17:22:22.098Z"
   },
   {
    "duration": 21,
    "start_time": "2022-12-24T17:22:30.226Z"
   },
   {
    "duration": 16,
    "start_time": "2022-12-24T17:23:16.556Z"
   },
   {
    "duration": 20,
    "start_time": "2022-12-24T17:23:20.262Z"
   },
   {
    "duration": 13,
    "start_time": "2022-12-24T17:23:44.913Z"
   },
   {
    "duration": 24,
    "start_time": "2022-12-24T17:23:49.113Z"
   },
   {
    "duration": 16,
    "start_time": "2022-12-24T17:24:22.837Z"
   },
   {
    "duration": 20,
    "start_time": "2022-12-24T17:24:24.894Z"
   },
   {
    "duration": 16,
    "start_time": "2022-12-24T17:25:03.733Z"
   },
   {
    "duration": 1342,
    "start_time": "2022-12-24T17:26:26.815Z"
   },
   {
    "duration": 685,
    "start_time": "2022-12-24T17:26:30.714Z"
   },
   {
    "duration": 55,
    "start_time": "2022-12-24T17:26:36.336Z"
   },
   {
    "duration": 11,
    "start_time": "2022-12-24T17:26:57.141Z"
   },
   {
    "duration": 8,
    "start_time": "2022-12-24T17:27:00.321Z"
   },
   {
    "duration": 10,
    "start_time": "2022-12-24T17:27:07.563Z"
   },
   {
    "duration": 15,
    "start_time": "2022-12-24T17:30:49.353Z"
   },
   {
    "duration": 24,
    "start_time": "2022-12-24T17:30:55.241Z"
   },
   {
    "duration": 15,
    "start_time": "2022-12-24T17:30:57.147Z"
   },
   {
    "duration": 21,
    "start_time": "2022-12-24T17:31:05.597Z"
   },
   {
    "duration": 22,
    "start_time": "2022-12-24T17:31:07.367Z"
   },
   {
    "duration": 14,
    "start_time": "2022-12-24T17:31:34.355Z"
   },
   {
    "duration": 22,
    "start_time": "2022-12-24T17:31:40.022Z"
   },
   {
    "duration": 18,
    "start_time": "2022-12-24T17:32:14.637Z"
   },
   {
    "duration": 16,
    "start_time": "2022-12-24T17:32:52.798Z"
   },
   {
    "duration": 15,
    "start_time": "2022-12-24T17:33:23.910Z"
   },
   {
    "duration": 19,
    "start_time": "2022-12-24T17:33:27.500Z"
   },
   {
    "duration": 1558,
    "start_time": "2022-12-24T18:48:58.889Z"
   },
   {
    "duration": 2006,
    "start_time": "2022-12-24T18:49:02.100Z"
   },
   {
    "duration": 41,
    "start_time": "2022-12-24T18:49:07.765Z"
   },
   {
    "duration": 97,
    "start_time": "2022-12-24T18:49:13.884Z"
   },
   {
    "duration": 609,
    "start_time": "2022-12-24T18:49:20.589Z"
   },
   {
    "duration": 10,
    "start_time": "2022-12-24T18:49:27.525Z"
   },
   {
    "duration": 11,
    "start_time": "2022-12-24T18:49:32.774Z"
   },
   {
    "duration": 11,
    "start_time": "2022-12-24T18:49:37.174Z"
   },
   {
    "duration": 8,
    "start_time": "2022-12-24T18:49:43.635Z"
   },
   {
    "duration": 5,
    "start_time": "2022-12-24T18:49:46.365Z"
   },
   {
    "duration": 2,
    "start_time": "2022-12-24T18:49:51.172Z"
   },
   {
    "duration": 4,
    "start_time": "2022-12-24T18:49:52.930Z"
   },
   {
    "duration": 4,
    "start_time": "2022-12-24T18:50:07.991Z"
   },
   {
    "duration": 22,
    "start_time": "2022-12-24T18:50:09.854Z"
   },
   {
    "duration": 14,
    "start_time": "2022-12-24T18:50:11.312Z"
   },
   {
    "duration": 15,
    "start_time": "2022-12-24T18:50:37.448Z"
   },
   {
    "duration": 15,
    "start_time": "2022-12-24T18:50:40.080Z"
   },
   {
    "duration": 22,
    "start_time": "2022-12-24T18:50:42.958Z"
   },
   {
    "duration": 21,
    "start_time": "2022-12-24T18:51:43.106Z"
   },
   {
    "duration": 102,
    "start_time": "2022-12-24T18:52:08.634Z"
   },
   {
    "duration": 15,
    "start_time": "2022-12-24T18:52:47.957Z"
   },
   {
    "duration": 12,
    "start_time": "2022-12-24T18:53:28.114Z"
   },
   {
    "duration": 23,
    "start_time": "2022-12-24T18:53:32.775Z"
   },
   {
    "duration": 16,
    "start_time": "2022-12-24T18:53:56.165Z"
   },
   {
    "duration": 14,
    "start_time": "2022-12-24T18:54:20.219Z"
   },
   {
    "duration": 15,
    "start_time": "2022-12-24T18:55:03.001Z"
   },
   {
    "duration": 18,
    "start_time": "2022-12-24T18:55:41.401Z"
   },
   {
    "duration": 16,
    "start_time": "2022-12-24T18:57:30.766Z"
   },
   {
    "duration": 23,
    "start_time": "2022-12-24T18:57:34.770Z"
   },
   {
    "duration": 12,
    "start_time": "2022-12-24T18:57:40.173Z"
   },
   {
    "duration": 17,
    "start_time": "2022-12-24T18:59:12.296Z"
   },
   {
    "duration": 22,
    "start_time": "2022-12-24T18:59:15.611Z"
   },
   {
    "duration": 17,
    "start_time": "2022-12-24T18:59:26.518Z"
   },
   {
    "duration": 1485,
    "start_time": "2022-12-24T19:00:29.861Z"
   },
   {
    "duration": 700,
    "start_time": "2022-12-24T19:00:32.369Z"
   },
   {
    "duration": 645,
    "start_time": "2022-12-24T19:00:34.558Z"
   },
   {
    "duration": 41,
    "start_time": "2022-12-24T19:00:36.364Z"
   },
   {
    "duration": 11,
    "start_time": "2022-12-24T19:01:05.352Z"
   },
   {
    "duration": 7,
    "start_time": "2022-12-24T19:01:07.450Z"
   },
   {
    "duration": 11,
    "start_time": "2022-12-24T19:01:11.808Z"
   },
   {
    "duration": 8,
    "start_time": "2022-12-24T19:01:17.532Z"
   },
   {
    "duration": 5,
    "start_time": "2022-12-24T19:01:19.954Z"
   },
   {
    "duration": 3,
    "start_time": "2022-12-24T19:01:25.153Z"
   },
   {
    "duration": 4,
    "start_time": "2022-12-24T19:01:26.867Z"
   },
   {
    "duration": 4,
    "start_time": "2022-12-24T19:01:36.220Z"
   },
   {
    "duration": 22,
    "start_time": "2022-12-24T19:01:37.988Z"
   },
   {
    "duration": 14,
    "start_time": "2022-12-24T19:02:09.077Z"
   },
   {
    "duration": 22,
    "start_time": "2022-12-24T19:02:15.859Z"
   },
   {
    "duration": 11,
    "start_time": "2022-12-24T19:02:43.711Z"
   },
   {
    "duration": 12,
    "start_time": "2022-12-24T19:04:35.245Z"
   },
   {
    "duration": 21,
    "start_time": "2022-12-24T19:04:37.305Z"
   },
   {
    "duration": 17,
    "start_time": "2022-12-24T19:04:41.236Z"
   },
   {
    "duration": 11,
    "start_time": "2022-12-24T19:05:20.246Z"
   },
   {
    "duration": 15,
    "start_time": "2022-12-24T19:05:26.894Z"
   },
   {
    "duration": 18,
    "start_time": "2022-12-24T19:07:26.971Z"
   },
   {
    "duration": 18,
    "start_time": "2022-12-24T19:07:29.832Z"
   },
   {
    "duration": 16,
    "start_time": "2022-12-24T19:07:54.586Z"
   },
   {
    "duration": 16,
    "start_time": "2022-12-24T19:07:56.217Z"
   },
   {
    "duration": 21,
    "start_time": "2022-12-24T19:08:14.154Z"
   },
   {
    "duration": 8,
    "start_time": "2022-12-24T19:08:22.369Z"
   },
   {
    "duration": 13,
    "start_time": "2022-12-24T19:08:24.186Z"
   },
   {
    "duration": 18,
    "start_time": "2022-12-24T19:08:26.256Z"
   },
   {
    "duration": 3,
    "start_time": "2022-12-24T19:08:37.348Z"
   },
   {
    "duration": 6,
    "start_time": "2022-12-24T19:08:39.142Z"
   },
   {
    "duration": 4,
    "start_time": "2022-12-24T19:08:40.609Z"
   },
   {
    "duration": 3,
    "start_time": "2022-12-24T19:08:43.874Z"
   },
   {
    "duration": 6,
    "start_time": "2022-12-24T19:08:45.749Z"
   },
   {
    "duration": 7,
    "start_time": "2022-12-24T19:08:52.556Z"
   },
   {
    "duration": 32,
    "start_time": "2022-12-24T19:09:19.051Z"
   },
   {
    "duration": 6,
    "start_time": "2022-12-24T19:09:24.477Z"
   },
   {
    "duration": 10800,
    "start_time": "2022-12-24T19:09:34.498Z"
   },
   {
    "duration": 2986,
    "start_time": "2022-12-24T19:10:38.392Z"
   },
   {
    "duration": 3,
    "start_time": "2022-12-24T19:10:43.579Z"
   },
   {
    "duration": 21885,
    "start_time": "2022-12-24T19:10:55.147Z"
   },
   {
    "duration": 3,
    "start_time": "2022-12-24T19:11:27.337Z"
   },
   {
    "duration": 703036,
    "start_time": "2022-12-24T19:11:34.404Z"
   },
   {
    "duration": 4,
    "start_time": "2022-12-24T19:23:45.628Z"
   },
   {
    "duration": 10963,
    "start_time": "2022-12-24T19:23:57.355Z"
   },
   {
    "duration": 10718,
    "start_time": "2022-12-24T19:24:59.512Z"
   },
   {
    "duration": 8,
    "start_time": "2022-12-24T19:28:36.159Z"
   },
   {
    "duration": 3,
    "start_time": "2022-12-24T19:28:46.095Z"
   },
   {
    "duration": 16,
    "start_time": "2022-12-24T19:33:27.029Z"
   },
   {
    "duration": 13,
    "start_time": "2022-12-24T19:34:07.493Z"
   },
   {
    "duration": 3,
    "start_time": "2022-12-24T19:37:45.123Z"
   },
   {
    "duration": 16,
    "start_time": "2022-12-24T19:37:47.391Z"
   },
   {
    "duration": 1366,
    "start_time": "2022-12-24T19:45:58.854Z"
   },
   {
    "duration": 604,
    "start_time": "2022-12-24T19:46:02.685Z"
   },
   {
    "duration": 55,
    "start_time": "2022-12-24T19:46:10.209Z"
   },
   {
    "duration": 11,
    "start_time": "2022-12-24T19:46:18.097Z"
   },
   {
    "duration": 8,
    "start_time": "2022-12-24T19:46:19.625Z"
   },
   {
    "duration": 11,
    "start_time": "2022-12-24T19:46:24.601Z"
   },
   {
    "duration": 4,
    "start_time": "2022-12-24T19:46:32.655Z"
   },
   {
    "duration": 4,
    "start_time": "2022-12-24T19:46:34.916Z"
   },
   {
    "duration": 3,
    "start_time": "2022-12-24T19:46:39.638Z"
   },
   {
    "duration": 22,
    "start_time": "2022-12-24T19:46:41.491Z"
   },
   {
    "duration": 17,
    "start_time": "2022-12-24T19:46:43.888Z"
   },
   {
    "duration": 10,
    "start_time": "2022-12-24T19:46:57.288Z"
   },
   {
    "duration": 23,
    "start_time": "2022-12-24T19:47:00.204Z"
   },
   {
    "duration": 10,
    "start_time": "2022-12-24T19:47:46.707Z"
   },
   {
    "duration": 22,
    "start_time": "2022-12-24T19:47:49.577Z"
   },
   {
    "duration": 61,
    "start_time": "2022-12-24T19:48:03.395Z"
   },
   {
    "duration": 9,
    "start_time": "2022-12-24T19:48:40.295Z"
   },
   {
    "duration": 39,
    "start_time": "2022-12-24T19:48:43.322Z"
   },
   {
    "duration": 13,
    "start_time": "2022-12-24T19:49:27.383Z"
   },
   {
    "duration": 11,
    "start_time": "2022-12-24T19:49:52.637Z"
   },
   {
    "duration": 11,
    "start_time": "2022-12-24T19:49:54.713Z"
   },
   {
    "duration": 14,
    "start_time": "2022-12-24T19:49:56.529Z"
   },
   {
    "duration": 3,
    "start_time": "2022-12-24T19:50:05.508Z"
   },
   {
    "duration": 5,
    "start_time": "2022-12-24T19:50:10.057Z"
   },
   {
    "duration": 3,
    "start_time": "2022-12-24T19:50:12.299Z"
   },
   {
    "duration": 3,
    "start_time": "2022-12-24T19:50:14.658Z"
   },
   {
    "duration": 3,
    "start_time": "2022-12-24T19:50:16.228Z"
   },
   {
    "duration": 120,
    "start_time": "2022-12-24T19:50:17.683Z"
   },
   {
    "duration": 5,
    "start_time": "2022-12-24T19:50:47.969Z"
   },
   {
    "duration": 14,
    "start_time": "2022-12-24T19:50:55.922Z"
   },
   {
    "duration": 9,
    "start_time": "2022-12-24T19:51:43.359Z"
   },
   {
    "duration": 6,
    "start_time": "2022-12-24T19:51:49.206Z"
   },
   {
    "duration": 13,
    "start_time": "2022-12-24T19:51:50.992Z"
   },
   {
    "duration": 10222,
    "start_time": "2022-12-24T19:52:35.297Z"
   },
   {
    "duration": 4,
    "start_time": "2022-12-24T19:56:26.829Z"
   },
   {
    "duration": 13,
    "start_time": "2022-12-24T19:56:43.164Z"
   },
   {
    "duration": 5,
    "start_time": "2022-12-24T19:56:57.599Z"
   },
   {
    "duration": 13,
    "start_time": "2022-12-24T19:57:01.195Z"
   },
   {
    "duration": 21398,
    "start_time": "2022-12-24T19:57:20.923Z"
   },
   {
    "duration": 9,
    "start_time": "2022-12-24T19:57:48.178Z"
   },
   {
    "duration": 9,
    "start_time": "2022-12-24T19:58:21.820Z"
   },
   {
    "duration": 21932,
    "start_time": "2022-12-24T19:58:41.647Z"
   },
   {
    "duration": 3,
    "start_time": "2022-12-24T19:59:10.411Z"
   },
   {
    "duration": 1529,
    "start_time": "2022-12-25T08:22:58.910Z"
   },
   {
    "duration": 2676,
    "start_time": "2022-12-25T08:23:04.834Z"
   },
   {
    "duration": 36,
    "start_time": "2022-12-25T08:23:07.512Z"
   },
   {
    "duration": 558,
    "start_time": "2022-12-25T08:23:33.165Z"
   },
   {
    "duration": 4,
    "start_time": "2022-12-25T08:23:52.346Z"
   },
   {
    "duration": 12,
    "start_time": "2022-12-25T08:25:21.596Z"
   },
   {
    "duration": 9,
    "start_time": "2022-12-25T08:25:40.816Z"
   },
   {
    "duration": 10,
    "start_time": "2022-12-25T08:25:46.359Z"
   },
   {
    "duration": 3,
    "start_time": "2022-12-25T08:26:01.595Z"
   },
   {
    "duration": 4,
    "start_time": "2022-12-25T08:26:04.151Z"
   },
   {
    "duration": 3,
    "start_time": "2022-12-25T08:26:11.113Z"
   },
   {
    "duration": 46,
    "start_time": "2022-12-25T08:27:32.354Z"
   },
   {
    "duration": 20,
    "start_time": "2022-12-25T08:27:41.088Z"
   },
   {
    "duration": 12,
    "start_time": "2022-12-25T08:27:43.194Z"
   },
   {
    "duration": 8,
    "start_time": "2022-12-25T08:28:55.427Z"
   },
   {
    "duration": 10,
    "start_time": "2022-12-25T08:29:31.385Z"
   },
   {
    "duration": 43,
    "start_time": "2022-12-25T08:43:23.954Z"
   },
   {
    "duration": 49,
    "start_time": "2022-12-26T06:12:27.424Z"
   },
   {
    "duration": 6,
    "start_time": "2022-12-26T06:12:29.150Z"
   },
   {
    "duration": 7,
    "start_time": "2022-12-26T06:12:31.269Z"
   },
   {
    "duration": 1758,
    "start_time": "2022-12-26T06:12:45.606Z"
   },
   {
    "duration": 2896,
    "start_time": "2022-12-26T06:12:48.462Z"
   },
   {
    "duration": 39,
    "start_time": "2022-12-26T06:12:52.534Z"
   },
   {
    "duration": 72,
    "start_time": "2022-12-26T06:12:54.798Z"
   },
   {
    "duration": 612,
    "start_time": "2022-12-26T06:12:57.417Z"
   },
   {
    "duration": 4,
    "start_time": "2022-12-26T06:13:00.462Z"
   },
   {
    "duration": 12,
    "start_time": "2022-12-26T06:13:07.354Z"
   },
   {
    "duration": 18,
    "start_time": "2022-12-26T06:13:09.607Z"
   },
   {
    "duration": 4,
    "start_time": "2022-12-26T06:13:12.063Z"
   },
   {
    "duration": 3,
    "start_time": "2022-12-26T06:13:19.055Z"
   },
   {
    "duration": 6,
    "start_time": "2022-12-26T06:13:21.439Z"
   },
   {
    "duration": 3,
    "start_time": "2022-12-26T06:13:24.271Z"
   },
   {
    "duration": 26,
    "start_time": "2022-12-26T06:13:26.839Z"
   },
   {
    "duration": 13,
    "start_time": "2022-12-26T06:13:28.543Z"
   },
   {
    "duration": 11,
    "start_time": "2022-12-26T06:13:39.887Z"
   },
   {
    "duration": 10,
    "start_time": "2022-12-26T06:13:41.855Z"
   },
   {
    "duration": 4,
    "start_time": "2022-12-26T06:13:44.096Z"
   },
   {
    "duration": 1000,
    "start_time": "2022-12-26T06:13:56.344Z"
   },
   {
    "duration": 7,
    "start_time": "2022-12-26T06:13:59.935Z"
   },
   {
    "duration": 743,
    "start_time": "2022-12-26T06:14:01.536Z"
   },
   {
    "duration": 6,
    "start_time": "2022-12-26T06:14:05.256Z"
   },
   {
    "duration": 845,
    "start_time": "2022-12-26T06:14:06.704Z"
   },
   {
    "duration": 7,
    "start_time": "2022-12-26T06:14:09.272Z"
   },
   {
    "duration": 436,
    "start_time": "2022-12-26T06:14:11.376Z"
   },
   {
    "duration": 375,
    "start_time": "2022-12-26T06:14:14.056Z"
   },
   {
    "duration": 5,
    "start_time": "2022-12-26T06:15:10.857Z"
   },
   {
    "duration": 5,
    "start_time": "2022-12-26T06:15:12.825Z"
   },
   {
    "duration": 6,
    "start_time": "2022-12-26T06:15:14.640Z"
   },
   {
    "duration": 1059,
    "start_time": "2022-12-26T06:15:16.848Z"
   },
   {
    "duration": 215,
    "start_time": "2022-12-26T06:15:21.192Z"
   },
   {
    "duration": 8,
    "start_time": "2022-12-26T06:15:24.537Z"
   },
   {
    "duration": 16,
    "start_time": "2022-12-26T06:15:26.323Z"
   },
   {
    "duration": 17,
    "start_time": "2022-12-26T06:15:28.220Z"
   },
   {
    "duration": 21,
    "start_time": "2022-12-26T06:15:30.841Z"
   },
   {
    "duration": 3,
    "start_time": "2022-12-26T06:15:33.961Z"
   },
   {
    "duration": 6,
    "start_time": "2022-12-26T06:15:36.353Z"
   },
   {
    "duration": 4,
    "start_time": "2022-12-26T06:15:40.049Z"
   },
   {
    "duration": 122,
    "start_time": "2022-12-26T06:15:41.793Z"
   },
   {
    "duration": 3,
    "start_time": "2022-12-26T06:16:16.042Z"
   },
   {
    "duration": 3,
    "start_time": "2022-12-26T06:16:19.497Z"
   },
   {
    "duration": 5,
    "start_time": "2022-12-26T06:16:21.466Z"
   },
   {
    "duration": 4368,
    "start_time": "2022-12-26T06:16:23.643Z"
   },
   {
    "duration": 4246,
    "start_time": "2022-12-26T06:16:43.268Z"
   },
   {
    "duration": 3,
    "start_time": "2022-12-26T06:16:49.242Z"
   },
   {
    "duration": 22885,
    "start_time": "2022-12-26T06:18:48.676Z"
   },
   {
    "duration": 3,
    "start_time": "2022-12-26T06:19:15.477Z"
   },
   {
    "duration": 7302,
    "start_time": "2022-12-26T06:22:00.561Z"
   },
   {
    "duration": 711117,
    "start_time": "2022-12-26T06:22:23.816Z"
   },
   {
    "duration": 4,
    "start_time": "2022-12-26T06:34:14.935Z"
   },
   {
    "duration": 5,
    "start_time": "2022-12-26T06:39:24.967Z"
   },
   {
    "duration": 10676,
    "start_time": "2022-12-26T06:39:29.856Z"
   },
   {
    "duration": 12,
    "start_time": "2022-12-26T06:40:30.585Z"
   },
   {
    "duration": 14,
    "start_time": "2022-12-26T06:41:01.724Z"
   },
   {
    "duration": 9,
    "start_time": "2022-12-26T06:43:16.108Z"
   },
   {
    "duration": 4,
    "start_time": "2022-12-26T06:43:37.492Z"
   },
   {
    "duration": 12,
    "start_time": "2022-12-26T06:43:39.571Z"
   },
   {
    "duration": 6,
    "start_time": "2022-12-26T06:43:44.156Z"
   },
   {
    "duration": 10722,
    "start_time": "2022-12-26T06:43:46.638Z"
   },
   {
    "duration": 16,
    "start_time": "2022-12-26T06:44:15.343Z"
   },
   {
    "duration": 4,
    "start_time": "2022-12-26T06:44:23.829Z"
   },
   {
    "duration": 11238,
    "start_time": "2022-12-26T06:44:25.537Z"
   },
   {
    "duration": 9,
    "start_time": "2022-12-26T06:45:50.307Z"
   },
   {
    "duration": 6,
    "start_time": "2022-12-26T06:46:59.837Z"
   },
   {
    "duration": 10847,
    "start_time": "2022-12-26T06:47:08.712Z"
   },
   {
    "duration": 1348,
    "start_time": "2022-12-26T06:48:13.337Z"
   },
   {
    "duration": 684,
    "start_time": "2022-12-26T06:48:16.000Z"
   },
   {
    "duration": 39,
    "start_time": "2022-12-26T06:48:17.939Z"
   },
   {
    "duration": 63,
    "start_time": "2022-12-26T06:48:20.176Z"
   },
   {
    "duration": 554,
    "start_time": "2022-12-26T06:48:22.770Z"
   },
   {
    "duration": 5,
    "start_time": "2022-12-26T06:48:27.183Z"
   },
   {
    "duration": 13,
    "start_time": "2022-12-26T06:48:28.837Z"
   },
   {
    "duration": 24,
    "start_time": "2022-12-26T06:48:31.088Z"
   },
   {
    "duration": 6,
    "start_time": "2022-12-26T06:48:33.072Z"
   },
   {
    "duration": 3,
    "start_time": "2022-12-26T06:48:35.180Z"
   },
   {
    "duration": 4,
    "start_time": "2022-12-26T06:48:37.144Z"
   },
   {
    "duration": 3,
    "start_time": "2022-12-26T06:48:42.904Z"
   },
   {
    "duration": 21,
    "start_time": "2022-12-26T06:48:45.340Z"
   },
   {
    "duration": 12,
    "start_time": "2022-12-26T06:48:47.042Z"
   },
   {
    "duration": 11,
    "start_time": "2022-12-26T06:48:48.912Z"
   },
   {
    "duration": 11,
    "start_time": "2022-12-26T06:48:54.664Z"
   },
   {
    "duration": 4,
    "start_time": "2022-12-26T06:48:56.891Z"
   },
   {
    "duration": 15,
    "start_time": "2022-12-26T06:49:38.018Z"
   },
   {
    "duration": 3,
    "start_time": "2022-12-26T06:49:59.353Z"
   },
   {
    "duration": 6,
    "start_time": "2022-12-26T06:50:01.441Z"
   },
   {
    "duration": 13,
    "start_time": "2022-12-26T06:50:07.937Z"
   },
   {
    "duration": 11,
    "start_time": "2022-12-26T06:50:44.482Z"
   },
   {
    "duration": 4,
    "start_time": "2022-12-26T06:50:59.130Z"
   },
   {
    "duration": 2,
    "start_time": "2022-12-26T06:51:00.690Z"
   },
   {
    "duration": 3,
    "start_time": "2022-12-26T06:51:02.162Z"
   },
   {
    "duration": 5,
    "start_time": "2022-12-26T06:51:03.850Z"
   },
   {
    "duration": 2349,
    "start_time": "2022-12-26T06:51:10.371Z"
   },
   {
    "duration": 3,
    "start_time": "2022-12-26T06:51:14.758Z"
   },
   {
    "duration": 22702,
    "start_time": "2022-12-26T06:51:22.620Z"
   },
   {
    "duration": 4,
    "start_time": "2022-12-26T06:51:45.324Z"
   },
   {
    "duration": 737554,
    "start_time": "2022-12-26T06:52:01.308Z"
   },
   {
    "duration": 3,
    "start_time": "2022-12-26T07:06:34.949Z"
   },
   {
    "duration": 6,
    "start_time": "2022-12-26T07:06:45.170Z"
   },
   {
    "duration": 18700,
    "start_time": "2022-12-26T07:07:03.144Z"
   },
   {
    "duration": 18573,
    "start_time": "2022-12-26T07:08:15.642Z"
   },
   {
    "duration": 4,
    "start_time": "2022-12-26T07:08:37.716Z"
   },
   {
    "duration": 10,
    "start_time": "2022-12-26T07:08:45.164Z"
   },
   {
    "duration": 11,
    "start_time": "2022-12-26T07:09:45.347Z"
   },
   {
    "duration": 11,
    "start_time": "2022-12-26T07:11:13.775Z"
   },
   {
    "duration": 14,
    "start_time": "2022-12-26T07:11:41.052Z"
   },
   {
    "duration": 8,
    "start_time": "2022-12-26T07:12:01.376Z"
   },
   {
    "duration": 3,
    "start_time": "2022-12-26T07:12:05.288Z"
   },
   {
    "duration": 3,
    "start_time": "2022-12-26T07:12:40.120Z"
   },
   {
    "duration": 4,
    "start_time": "2022-12-26T07:13:37.393Z"
   },
   {
    "duration": 3,
    "start_time": "2022-12-26T07:13:44.977Z"
   },
   {
    "duration": 4,
    "start_time": "2022-12-26T07:14:05.674Z"
   },
   {
    "duration": 1306,
    "start_time": "2022-12-26T07:14:12.850Z"
   },
   {
    "duration": 622,
    "start_time": "2022-12-26T07:14:15.368Z"
   },
   {
    "duration": 42,
    "start_time": "2022-12-26T07:14:18.066Z"
   },
   {
    "duration": 72,
    "start_time": "2022-12-26T07:14:40.187Z"
   },
   {
    "duration": 583,
    "start_time": "2022-12-26T07:14:43.389Z"
   },
   {
    "duration": 5,
    "start_time": "2022-12-26T07:14:47.010Z"
   },
   {
    "duration": 13,
    "start_time": "2022-12-26T07:15:25.108Z"
   },
   {
    "duration": 7,
    "start_time": "2022-12-26T07:15:27.820Z"
   },
   {
    "duration": 6,
    "start_time": "2022-12-26T07:15:36.363Z"
   },
   {
    "duration": 3,
    "start_time": "2022-12-26T07:15:43.660Z"
   },
   {
    "duration": 4,
    "start_time": "2022-12-26T07:15:45.683Z"
   },
   {
    "duration": 4,
    "start_time": "2022-12-26T07:15:48.988Z"
   },
   {
    "duration": 22,
    "start_time": "2022-12-26T07:15:55.612Z"
   },
   {
    "duration": 15,
    "start_time": "2022-12-26T07:16:01.204Z"
   },
   {
    "duration": 9,
    "start_time": "2022-12-26T07:16:19.044Z"
   },
   {
    "duration": 10,
    "start_time": "2022-12-26T07:16:24.597Z"
   },
   {
    "duration": 4,
    "start_time": "2022-12-26T07:16:26.700Z"
   },
   {
    "duration": 979,
    "start_time": "2022-12-26T07:19:36.808Z"
   },
   {
    "duration": 8,
    "start_time": "2022-12-26T07:19:41.215Z"
   },
   {
    "duration": 629,
    "start_time": "2022-12-26T07:19:43.143Z"
   },
   {
    "duration": 6,
    "start_time": "2022-12-26T07:19:45.888Z"
   },
   {
    "duration": 725,
    "start_time": "2022-12-26T07:19:47.743Z"
   },
   {
    "duration": 8,
    "start_time": "2022-12-26T07:19:50.583Z"
   },
   {
    "duration": 387,
    "start_time": "2022-12-26T07:19:58.328Z"
   },
   {
    "duration": 408,
    "start_time": "2022-12-26T07:20:01.296Z"
   },
   {
    "duration": 5,
    "start_time": "2022-12-26T07:23:38.555Z"
   },
   {
    "duration": 5,
    "start_time": "2022-12-26T07:23:40.171Z"
   },
   {
    "duration": 4,
    "start_time": "2022-12-26T07:23:41.772Z"
   },
   {
    "duration": 1011,
    "start_time": "2022-12-26T07:23:43.732Z"
   },
   {
    "duration": 198,
    "start_time": "2022-12-26T07:24:37.655Z"
   },
   {
    "duration": 6,
    "start_time": "2022-12-26T07:24:44.357Z"
   },
   {
    "duration": 15,
    "start_time": "2022-12-26T07:24:46.283Z"
   },
   {
    "duration": 15,
    "start_time": "2022-12-26T07:24:48.757Z"
   },
   {
    "duration": 24,
    "start_time": "2022-12-26T07:25:08.493Z"
   },
   {
    "duration": 3,
    "start_time": "2022-12-26T07:26:43.511Z"
   },
   {
    "duration": 5,
    "start_time": "2022-12-26T07:26:45.719Z"
   },
   {
    "duration": 4,
    "start_time": "2022-12-26T07:26:48.052Z"
   },
   {
    "duration": 2,
    "start_time": "2022-12-26T07:26:51.439Z"
   },
   {
    "duration": 4,
    "start_time": "2022-12-26T07:26:53.534Z"
   },
   {
    "duration": 58,
    "start_time": "2022-12-26T07:27:47.800Z"
   },
   {
    "duration": 2,
    "start_time": "2022-12-26T07:27:57.888Z"
   },
   {
    "duration": 6,
    "start_time": "2022-12-26T07:27:59.800Z"
   },
   {
    "duration": 2755,
    "start_time": "2022-12-26T07:28:06.065Z"
   },
   {
    "duration": 3,
    "start_time": "2022-12-26T07:28:11.057Z"
   },
   {
    "duration": 4,
    "start_time": "2022-12-26T07:29:28.802Z"
   },
   {
    "duration": 48,
    "start_time": "2022-12-26T07:31:27.124Z"
   },
   {
    "duration": 110,
    "start_time": "2022-12-26T07:31:34.611Z"
   },
   {
    "duration": 9,
    "start_time": "2022-12-26T07:31:55.772Z"
   },
   {
    "duration": 9,
    "start_time": "2022-12-26T07:32:33.253Z"
   },
   {
    "duration": 9,
    "start_time": "2022-12-26T07:33:19.805Z"
   },
   {
    "duration": 21205,
    "start_time": "2022-12-26T07:33:40.686Z"
   },
   {
    "duration": 4,
    "start_time": "2022-12-26T07:35:15.551Z"
   },
   {
    "duration": 705304,
    "start_time": "2022-12-26T07:35:29.496Z"
   },
   {
    "duration": 4,
    "start_time": "2022-12-26T07:47:14.802Z"
   },
   {
    "duration": 4,
    "start_time": "2022-12-26T07:54:45.785Z"
   },
   {
    "duration": 5,
    "start_time": "2022-12-26T07:56:42.573Z"
   },
   {
    "duration": 4,
    "start_time": "2022-12-26T07:57:14.852Z"
   },
   {
    "duration": 21938,
    "start_time": "2022-12-26T07:57:32.700Z"
   },
   {
    "duration": 4,
    "start_time": "2022-12-26T07:57:56.413Z"
   },
   {
    "duration": 9,
    "start_time": "2022-12-26T07:57:58.575Z"
   },
   {
    "duration": 7,
    "start_time": "2022-12-26T07:58:15.636Z"
   },
   {
    "duration": 3,
    "start_time": "2022-12-26T07:58:17.724Z"
   },
   {
    "duration": 62,
    "start_time": "2022-12-27T09:38:06.782Z"
   },
   {
    "duration": 71,
    "start_time": "2022-12-27T09:46:36.716Z"
   },
   {
    "duration": 1702,
    "start_time": "2022-12-27T10:48:40.401Z"
   },
   {
    "duration": 2098,
    "start_time": "2022-12-27T10:48:45.200Z"
   },
   {
    "duration": 45,
    "start_time": "2022-12-27T10:48:50.343Z"
   },
   {
    "duration": 78,
    "start_time": "2022-12-27T10:48:52.639Z"
   },
   {
    "duration": 626,
    "start_time": "2022-12-27T10:48:55.449Z"
   },
   {
    "duration": 5,
    "start_time": "2022-12-27T10:48:59.367Z"
   },
   {
    "duration": 20,
    "start_time": "2022-12-27T10:49:02.216Z"
   },
   {
    "duration": 90,
    "start_time": "2022-12-27T10:49:02.664Z"
   },
   {
    "duration": 10,
    "start_time": "2022-12-27T10:49:05.487Z"
   },
   {
    "duration": 5,
    "start_time": "2022-12-27T10:49:08.568Z"
   },
   {
    "duration": 3,
    "start_time": "2022-12-27T10:49:10.600Z"
   },
   {
    "duration": 5,
    "start_time": "2022-12-27T10:49:12.360Z"
   },
   {
    "duration": 3,
    "start_time": "2022-12-27T10:49:15.049Z"
   },
   {
    "duration": 29,
    "start_time": "2022-12-27T10:49:23.337Z"
   },
   {
    "duration": 14,
    "start_time": "2022-12-27T10:49:25.392Z"
   },
   {
    "duration": 14,
    "start_time": "2022-12-27T10:49:36.031Z"
   },
   {
    "duration": 13,
    "start_time": "2022-12-27T10:49:47.792Z"
   },
   {
    "duration": 4,
    "start_time": "2022-12-27T10:49:50.368Z"
   },
   {
    "duration": 954,
    "start_time": "2022-12-27T10:50:09.665Z"
   },
   {
    "duration": 12,
    "start_time": "2022-12-27T10:50:14.315Z"
   },
   {
    "duration": 855,
    "start_time": "2022-12-27T10:50:16.810Z"
   },
   {
    "duration": 10,
    "start_time": "2022-12-27T10:50:20.340Z"
   },
   {
    "duration": 747,
    "start_time": "2022-12-27T10:50:22.242Z"
   },
   {
    "duration": 9,
    "start_time": "2022-12-27T10:51:02.697Z"
   },
   {
    "duration": 796,
    "start_time": "2022-12-27T10:51:05.034Z"
   },
   {
    "duration": 8,
    "start_time": "2022-12-27T10:51:15.834Z"
   },
   {
    "duration": 548,
    "start_time": "2022-12-27T10:51:19.498Z"
   },
   {
    "duration": 428,
    "start_time": "2022-12-27T10:51:44.111Z"
   },
   {
    "duration": 408,
    "start_time": "2022-12-27T10:51:50.074Z"
   },
   {
    "duration": 423,
    "start_time": "2022-12-27T10:52:15.434Z"
   },
   {
    "duration": 5,
    "start_time": "2022-12-27T10:52:23.939Z"
   },
   {
    "duration": 5,
    "start_time": "2022-12-27T10:52:25.595Z"
   },
   {
    "duration": 5,
    "start_time": "2022-12-27T10:52:27.386Z"
   },
   {
    "duration": 1131,
    "start_time": "2022-12-27T10:52:30.819Z"
   },
   {
    "duration": 966,
    "start_time": "2022-12-27T10:52:57.043Z"
   },
   {
    "duration": 235,
    "start_time": "2022-12-27T10:53:06.611Z"
   },
   {
    "duration": 8,
    "start_time": "2022-12-27T10:53:12.715Z"
   },
   {
    "duration": 13,
    "start_time": "2022-12-27T10:53:14.499Z"
   },
   {
    "duration": 16,
    "start_time": "2022-12-27T10:53:16.084Z"
   },
   {
    "duration": 21,
    "start_time": "2022-12-27T10:53:18.339Z"
   },
   {
    "duration": 13,
    "start_time": "2022-12-27T10:53:20.307Z"
   },
   {
    "duration": 21,
    "start_time": "2022-12-27T10:53:22.038Z"
   },
   {
    "duration": 5,
    "start_time": "2022-12-27T10:53:24.308Z"
   },
   {
    "duration": 11,
    "start_time": "2022-12-27T10:53:26.419Z"
   },
   {
    "duration": 73,
    "start_time": "2022-12-27T11:03:53.598Z"
   },
   {
    "duration": 9,
    "start_time": "2022-12-27T11:04:03.749Z"
   },
   {
    "duration": 14,
    "start_time": "2022-12-27T11:06:22.056Z"
   },
   {
    "duration": 124,
    "start_time": "2022-12-27T11:06:35.084Z"
   },
   {
    "duration": 181,
    "start_time": "2022-12-27T11:06:59.610Z"
   },
   {
    "duration": 6,
    "start_time": "2022-12-27T11:07:10.689Z"
   },
   {
    "duration": 3,
    "start_time": "2022-12-27T11:07:17.361Z"
   },
   {
    "duration": 6,
    "start_time": "2022-12-27T11:07:19.024Z"
   },
   {
    "duration": 4,
    "start_time": "2022-12-27T11:07:21.335Z"
   },
   {
    "duration": 3,
    "start_time": "2022-12-27T11:07:23.336Z"
   },
   {
    "duration": 4,
    "start_time": "2022-12-27T11:07:25.035Z"
   },
   {
    "duration": 6,
    "start_time": "2022-12-27T11:07:26.809Z"
   },
   {
    "duration": 2791,
    "start_time": "2022-12-27T11:07:28.937Z"
   },
   {
    "duration": 93,
    "start_time": "2022-12-27T11:07:31.731Z"
   },
   {
    "duration": 22565,
    "start_time": "2022-12-27T11:07:42.250Z"
   },
   {
    "duration": 4,
    "start_time": "2022-12-27T11:08:07.635Z"
   },
   {
    "duration": 752952,
    "start_time": "2022-12-27T11:08:10.706Z"
   },
   {
    "duration": 3,
    "start_time": "2022-12-27T11:20:43.660Z"
   },
   {
    "duration": 4,
    "start_time": "2022-12-27T11:25:54.513Z"
   },
   {
    "duration": 11608,
    "start_time": "2022-12-27T11:25:57.676Z"
   },
   {
    "duration": 15,
    "start_time": "2022-12-27T11:27:05.339Z"
   },
   {
    "duration": 13,
    "start_time": "2022-12-27T11:27:40.123Z"
   },
   {
    "duration": 2,
    "start_time": "2022-12-27T11:36:19.716Z"
   },
   {
    "duration": 17,
    "start_time": "2022-12-27T11:36:22.507Z"
   },
   {
    "duration": 13,
    "start_time": "2022-12-27T11:37:25.700Z"
   },
   {
    "duration": 3,
    "start_time": "2022-12-27T11:37:27.523Z"
   },
   {
    "duration": 15,
    "start_time": "2022-12-27T11:37:29.219Z"
   },
   {
    "duration": 1362,
    "start_time": "2022-12-27T11:38:39.756Z"
   },
   {
    "duration": 656,
    "start_time": "2022-12-27T11:38:41.724Z"
   },
   {
    "duration": 42,
    "start_time": "2022-12-27T11:38:44.756Z"
   },
   {
    "duration": 59,
    "start_time": "2022-12-27T11:38:47.117Z"
   },
   {
    "duration": 624,
    "start_time": "2022-12-27T11:38:49.749Z"
   },
   {
    "duration": 4,
    "start_time": "2022-12-27T11:38:53.244Z"
   },
   {
    "duration": 22,
    "start_time": "2022-12-27T11:38:55.148Z"
   },
   {
    "duration": 11,
    "start_time": "2022-12-27T11:38:57.420Z"
   },
   {
    "duration": 5,
    "start_time": "2022-12-27T11:38:59.596Z"
   },
   {
    "duration": 3,
    "start_time": "2022-12-27T11:39:01.820Z"
   },
   {
    "duration": 4,
    "start_time": "2022-12-27T11:39:04.412Z"
   },
   {
    "duration": 3,
    "start_time": "2022-12-27T11:39:07.068Z"
   },
   {
    "duration": 21,
    "start_time": "2022-12-27T11:39:09.436Z"
   },
   {
    "duration": 13,
    "start_time": "2022-12-27T11:39:11.125Z"
   },
   {
    "duration": 12,
    "start_time": "2022-12-27T11:39:14.109Z"
   },
   {
    "duration": 11,
    "start_time": "2022-12-27T11:39:16.532Z"
   },
   {
    "duration": 4,
    "start_time": "2022-12-27T11:39:19.252Z"
   },
   {
    "duration": 999,
    "start_time": "2022-12-27T11:39:21.685Z"
   },
   {
    "duration": 7,
    "start_time": "2022-12-27T11:39:24.836Z"
   },
   {
    "duration": 767,
    "start_time": "2022-12-27T11:39:26.341Z"
   },
   {
    "duration": 7,
    "start_time": "2022-12-27T11:39:29.500Z"
   },
   {
    "duration": 878,
    "start_time": "2022-12-27T11:39:31.598Z"
   },
   {
    "duration": 7,
    "start_time": "2022-12-27T11:39:36.509Z"
   },
   {
    "duration": 449,
    "start_time": "2022-12-27T11:39:38.594Z"
   },
   {
    "duration": 404,
    "start_time": "2022-12-27T11:39:40.733Z"
   },
   {
    "duration": 4,
    "start_time": "2022-12-27T11:39:44.789Z"
   },
   {
    "duration": 5,
    "start_time": "2022-12-27T11:39:46.348Z"
   },
   {
    "duration": 5,
    "start_time": "2022-12-27T11:39:47.965Z"
   },
   {
    "duration": 1082,
    "start_time": "2022-12-27T11:39:49.925Z"
   },
   {
    "duration": 204,
    "start_time": "2022-12-27T11:39:53.101Z"
   },
   {
    "duration": 7,
    "start_time": "2022-12-27T11:39:56.475Z"
   },
   {
    "duration": 12,
    "start_time": "2022-12-27T11:39:58.061Z"
   },
   {
    "duration": 15,
    "start_time": "2022-12-27T11:39:59.781Z"
   },
   {
    "duration": 21,
    "start_time": "2022-12-27T11:40:02.165Z"
   },
   {
    "duration": 12,
    "start_time": "2022-12-27T11:40:04.349Z"
   },
   {
    "duration": 23,
    "start_time": "2022-12-27T11:40:06.036Z"
   },
   {
    "duration": 4,
    "start_time": "2022-12-27T11:40:07.814Z"
   },
   {
    "duration": 9,
    "start_time": "2022-12-27T11:40:10.485Z"
   },
   {
    "duration": 156,
    "start_time": "2022-12-27T11:41:13.439Z"
   },
   {
    "duration": 6,
    "start_time": "2022-12-27T11:41:17.902Z"
   },
   {
    "duration": 12,
    "start_time": "2022-12-27T11:41:30.536Z"
   },
   {
    "duration": 18,
    "start_time": "2022-12-27T11:41:32.366Z"
   },
   {
    "duration": 7,
    "start_time": "2022-12-27T11:41:34.358Z"
   },
   {
    "duration": 9,
    "start_time": "2022-12-27T11:41:36.582Z"
   },
   {
    "duration": 153,
    "start_time": "2022-12-27T11:41:40.759Z"
   },
   {
    "duration": 6,
    "start_time": "2022-12-27T11:42:08.415Z"
   },
   {
    "duration": 6,
    "start_time": "2022-12-27T11:44:16.921Z"
   },
   {
    "duration": 16,
    "start_time": "2022-12-27T11:45:06.850Z"
   },
   {
    "duration": 6,
    "start_time": "2022-12-27T11:45:54.251Z"
   },
   {
    "duration": 2,
    "start_time": "2022-12-27T11:46:04.675Z"
   },
   {
    "duration": 5,
    "start_time": "2022-12-27T11:46:06.523Z"
   },
   {
    "duration": 14,
    "start_time": "2022-12-27T11:46:19.627Z"
   },
   {
    "duration": 5,
    "start_time": "2022-12-27T11:48:07.136Z"
   },
   {
    "duration": 14,
    "start_time": "2022-12-27T11:48:19.936Z"
   },
   {
    "duration": 16,
    "start_time": "2022-12-27T11:48:45.519Z"
   },
   {
    "duration": 4,
    "start_time": "2022-12-27T11:49:04.072Z"
   },
   {
    "duration": 4,
    "start_time": "2022-12-27T11:49:05.876Z"
   },
   {
    "duration": 3,
    "start_time": "2022-12-27T11:49:07.550Z"
   },
   {
    "duration": 6,
    "start_time": "2022-12-27T11:49:10.254Z"
   },
   {
    "duration": 3044,
    "start_time": "2022-12-27T11:49:12.198Z"
   },
   {
    "duration": 5,
    "start_time": "2022-12-27T11:49:18.536Z"
   },
   {
    "duration": 23215,
    "start_time": "2022-12-27T11:49:21.102Z"
   },
   {
    "duration": 3,
    "start_time": "2022-12-27T11:51:19.960Z"
   },
   {
    "duration": 733206,
    "start_time": "2022-12-27T11:51:24.143Z"
   },
   {
    "duration": 3,
    "start_time": "2022-12-27T12:03:56.116Z"
   },
   {
    "duration": 4,
    "start_time": "2022-12-27T12:04:13.796Z"
   },
   {
    "duration": 13,
    "start_time": "2022-12-27T12:04:16.115Z"
   },
   {
    "duration": 22544,
    "start_time": "2022-12-27T12:04:26.788Z"
   },
   {
    "duration": 4,
    "start_time": "2022-12-27T12:05:01.364Z"
   },
   {
    "duration": 8,
    "start_time": "2022-12-27T12:05:06.589Z"
   },
   {
    "duration": 3,
    "start_time": "2022-12-27T12:05:09.148Z"
   },
   {
    "duration": 57,
    "start_time": "2022-12-28T05:18:00.517Z"
   },
   {
    "duration": 1851,
    "start_time": "2022-12-28T05:18:22.236Z"
   },
   {
    "duration": 1989,
    "start_time": "2022-12-28T05:18:25.332Z"
   },
   {
    "duration": 59,
    "start_time": "2022-12-28T05:18:29.573Z"
   },
   {
    "duration": 68,
    "start_time": "2022-12-28T05:18:31.908Z"
   },
   {
    "duration": 645,
    "start_time": "2022-12-28T05:18:35.021Z"
   },
   {
    "duration": 4,
    "start_time": "2022-12-28T05:18:37.740Z"
   },
   {
    "duration": 18,
    "start_time": "2022-12-28T05:18:39.580Z"
   },
   {
    "duration": 8,
    "start_time": "2022-12-28T05:18:41.988Z"
   },
   {
    "duration": 6,
    "start_time": "2022-12-28T05:18:44.664Z"
   },
   {
    "duration": 3,
    "start_time": "2022-12-28T05:18:46.476Z"
   },
   {
    "duration": 4,
    "start_time": "2022-12-28T05:18:48.540Z"
   },
   {
    "duration": 3,
    "start_time": "2022-12-28T05:18:51.588Z"
   },
   {
    "duration": 26,
    "start_time": "2022-12-28T05:18:54.436Z"
   },
   {
    "duration": 23,
    "start_time": "2022-12-28T05:18:55.948Z"
   },
   {
    "duration": 13,
    "start_time": "2022-12-28T05:18:59.220Z"
   },
   {
    "duration": 10,
    "start_time": "2022-12-28T05:19:01.573Z"
   },
   {
    "duration": 5,
    "start_time": "2022-12-28T05:19:03.316Z"
   },
   {
    "duration": 1127,
    "start_time": "2022-12-28T05:19:05.540Z"
   },
   {
    "duration": 7,
    "start_time": "2022-12-28T05:19:08.620Z"
   },
   {
    "duration": 791,
    "start_time": "2022-12-28T05:19:10.164Z"
   },
   {
    "duration": 8,
    "start_time": "2022-12-28T05:19:12.740Z"
   },
   {
    "duration": 891,
    "start_time": "2022-12-28T05:19:14.265Z"
   },
   {
    "duration": 9,
    "start_time": "2022-12-28T05:19:17.045Z"
   },
   {
    "duration": 440,
    "start_time": "2022-12-28T05:19:19.104Z"
   },
   {
    "duration": 478,
    "start_time": "2022-12-28T05:19:21.124Z"
   },
   {
    "duration": 5,
    "start_time": "2022-12-28T05:19:24.773Z"
   },
   {
    "duration": 6,
    "start_time": "2022-12-28T05:19:26.267Z"
   },
   {
    "duration": 6,
    "start_time": "2022-12-28T05:19:27.670Z"
   },
   {
    "duration": 1282,
    "start_time": "2022-12-28T05:19:29.629Z"
   },
   {
    "duration": 238,
    "start_time": "2022-12-28T05:19:32.965Z"
   },
   {
    "duration": 7,
    "start_time": "2022-12-28T05:19:36.464Z"
   },
   {
    "duration": 12,
    "start_time": "2022-12-28T05:19:38.077Z"
   },
   {
    "duration": 17,
    "start_time": "2022-12-28T05:19:40.077Z"
   },
   {
    "duration": 13,
    "start_time": "2022-12-28T05:19:43.316Z"
   },
   {
    "duration": 16,
    "start_time": "2022-12-28T05:19:45.460Z"
   },
   {
    "duration": 16,
    "start_time": "2022-12-28T05:24:54.090Z"
   },
   {
    "duration": 125,
    "start_time": "2022-12-28T05:30:39.279Z"
   },
   {
    "duration": 135,
    "start_time": "2022-12-28T05:35:24.284Z"
   },
   {
    "duration": 116,
    "start_time": "2022-12-28T05:37:11.394Z"
   },
   {
    "duration": 322,
    "start_time": "2022-12-28T05:38:19.279Z"
   },
   {
    "duration": 384,
    "start_time": "2022-12-28T05:38:52.415Z"
   },
   {
    "duration": 69,
    "start_time": "2022-12-28T05:41:33.860Z"
   },
   {
    "duration": 71,
    "start_time": "2022-12-28T05:46:03.359Z"
   },
   {
    "duration": 83,
    "start_time": "2022-12-28T05:46:08.223Z"
   },
   {
    "duration": 79,
    "start_time": "2022-12-28T05:46:21.727Z"
   },
   {
    "duration": 5,
    "start_time": "2022-12-28T05:47:06.462Z"
   },
   {
    "duration": 139,
    "start_time": "2022-12-28T05:47:15.776Z"
   },
   {
    "duration": 4,
    "start_time": "2022-12-28T05:47:37.520Z"
   },
   {
    "duration": 124,
    "start_time": "2022-12-28T05:47:39.200Z"
   },
   {
    "duration": 4,
    "start_time": "2022-12-28T05:47:47.672Z"
   },
   {
    "duration": 152,
    "start_time": "2022-12-28T05:47:49.576Z"
   },
   {
    "duration": 4,
    "start_time": "2022-12-28T05:48:04.596Z"
   },
   {
    "duration": 111,
    "start_time": "2022-12-28T05:48:06.289Z"
   },
   {
    "duration": 4,
    "start_time": "2022-12-28T05:48:48.145Z"
   },
   {
    "duration": 1455,
    "start_time": "2022-12-28T05:48:55.538Z"
   },
   {
    "duration": 702,
    "start_time": "2022-12-28T05:48:58.642Z"
   },
   {
    "duration": 47,
    "start_time": "2022-12-28T05:49:01.530Z"
   },
   {
    "duration": 63,
    "start_time": "2022-12-28T05:49:03.458Z"
   },
   {
    "duration": 604,
    "start_time": "2022-12-28T05:49:06.696Z"
   },
   {
    "duration": 4,
    "start_time": "2022-12-28T05:49:09.986Z"
   },
   {
    "duration": 21,
    "start_time": "2022-12-28T05:49:11.810Z"
   },
   {
    "duration": 9,
    "start_time": "2022-12-28T05:49:14.249Z"
   },
   {
    "duration": 5,
    "start_time": "2022-12-28T05:49:16.490Z"
   },
   {
    "duration": 5,
    "start_time": "2022-12-28T05:49:18.281Z"
   },
   {
    "duration": 4,
    "start_time": "2022-12-28T05:49:21.179Z"
   },
   {
    "duration": 3,
    "start_time": "2022-12-28T05:49:23.282Z"
   },
   {
    "duration": 22,
    "start_time": "2022-12-28T05:49:25.546Z"
   },
   {
    "duration": 15,
    "start_time": "2022-12-28T05:49:27.842Z"
   },
   {
    "duration": 10,
    "start_time": "2022-12-28T05:49:30.722Z"
   },
   {
    "duration": 13,
    "start_time": "2022-12-28T05:49:32.450Z"
   },
   {
    "duration": 4,
    "start_time": "2022-12-28T05:49:34.762Z"
   },
   {
    "duration": 1038,
    "start_time": "2022-12-28T05:49:37.554Z"
   },
   {
    "duration": 6,
    "start_time": "2022-12-28T05:49:40.347Z"
   },
   {
    "duration": 741,
    "start_time": "2022-12-28T05:49:42.307Z"
   },
   {
    "duration": 8,
    "start_time": "2022-12-28T05:49:45.218Z"
   },
   {
    "duration": 796,
    "start_time": "2022-12-28T05:49:50.723Z"
   },
   {
    "duration": 7,
    "start_time": "2022-12-28T05:49:53.419Z"
   },
   {
    "duration": 430,
    "start_time": "2022-12-28T05:49:55.539Z"
   },
   {
    "duration": 456,
    "start_time": "2022-12-28T05:49:57.435Z"
   },
   {
    "duration": 5,
    "start_time": "2022-12-28T05:50:02.427Z"
   },
   {
    "duration": 5,
    "start_time": "2022-12-28T05:50:03.955Z"
   },
   {
    "duration": 5,
    "start_time": "2022-12-28T05:50:05.427Z"
   },
   {
    "duration": 1068,
    "start_time": "2022-12-28T05:50:07.307Z"
   },
   {
    "duration": 247,
    "start_time": "2022-12-28T05:50:09.995Z"
   },
   {
    "duration": 7,
    "start_time": "2022-12-28T05:50:12.314Z"
   },
   {
    "duration": 15,
    "start_time": "2022-12-28T05:50:14.147Z"
   },
   {
    "duration": 16,
    "start_time": "2022-12-28T05:50:16.451Z"
   },
   {
    "duration": 12,
    "start_time": "2022-12-28T05:50:20.410Z"
   },
   {
    "duration": 13,
    "start_time": "2022-12-28T05:50:31.101Z"
   },
   {
    "duration": 15,
    "start_time": "2022-12-28T05:50:36.507Z"
   },
   {
    "duration": 144,
    "start_time": "2022-12-28T05:50:41.485Z"
   },
   {
    "duration": 389,
    "start_time": "2022-12-28T05:50:43.911Z"
   },
   {
    "duration": 6,
    "start_time": "2022-12-28T05:50:50.643Z"
   },
   {
    "duration": 334,
    "start_time": "2022-12-28T05:50:52.451Z"
   },
   {
    "duration": 3,
    "start_time": "2022-12-28T05:55:42.544Z"
   },
   {
    "duration": 7,
    "start_time": "2022-12-28T05:55:44.544Z"
   },
   {
    "duration": 3,
    "start_time": "2022-12-28T05:55:50.016Z"
   },
   {
    "duration": 3,
    "start_time": "2022-12-28T05:55:51.681Z"
   },
   {
    "duration": 3,
    "start_time": "2022-12-28T05:55:53.720Z"
   },
   {
    "duration": 5,
    "start_time": "2022-12-28T05:55:55.744Z"
   },
   {
    "duration": 2771,
    "start_time": "2022-12-28T05:55:57.280Z"
   },
   {
    "duration": 4,
    "start_time": "2022-12-28T05:56:02.032Z"
   },
   {
    "duration": 23630,
    "start_time": "2022-12-28T05:56:05.113Z"
   },
   {
    "duration": 3,
    "start_time": "2022-12-28T05:59:00.444Z"
   },
   {
    "duration": 813965,
    "start_time": "2022-12-28T05:59:03.412Z"
   },
   {
    "duration": 4,
    "start_time": "2022-12-28T06:14:07.497Z"
   },
   {
    "duration": 5,
    "start_time": "2022-12-28T06:14:26.275Z"
   },
   {
    "duration": 12986,
    "start_time": "2022-12-28T06:14:33.579Z"
   },
   {
    "duration": 4,
    "start_time": "2022-12-28T06:20:03.474Z"
   },
   {
    "duration": 8,
    "start_time": "2022-12-28T06:20:06.833Z"
   },
   {
    "duration": 4,
    "start_time": "2022-12-28T06:20:09.388Z"
   },
   {
    "duration": 73,
    "start_time": "2022-12-28T06:22:25.380Z"
   }
  ],
  "kernelspec": {
   "display_name": "Python 3 (ipykernel)",
   "language": "python",
   "name": "python3"
  },
  "language_info": {
   "codemirror_mode": {
    "name": "ipython",
    "version": 3
   },
   "file_extension": ".py",
   "mimetype": "text/x-python",
   "name": "python",
   "nbconvert_exporter": "python",
   "pygments_lexer": "ipython3",
   "version": "3.9.5"
  },
  "toc": {
   "base_numbering": 1,
   "nav_menu": {},
   "number_sections": true,
   "sideBar": true,
   "skip_h1_title": true,
   "title_cell": "Содержание",
   "title_sidebar": "Contents",
   "toc_cell": true,
   "toc_position": {},
   "toc_section_display": true,
   "toc_window_display": true
  }
 },
 "nbformat": 4,
 "nbformat_minor": 2
}
